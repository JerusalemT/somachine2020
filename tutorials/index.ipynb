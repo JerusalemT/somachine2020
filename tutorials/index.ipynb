{
 "cells": [
  {
   "cell_type": "markdown",
   "metadata": {},
   "source": [
    "# SOMACHINE 2020\n",
    "## Machine Learning, Big Data, and Deep Learning in Astronomy\n",
    "-----\n",
    "### A Severo Ochoa School of the Instituto de Astrofísica de Andalucía (CSIC)\n",
    "\n",
    "![SOMACHINE](SOMACHINE_LOGOS.png)\n",
    "\n",
    "### Workshop Tutorials\n",
    "\n",
    "- [**Practical ML: Scikit-learn**](./tutorial_01_ML/tutorial_01_ML.ipynb) (Juan Antonio Cortés, UGR)\n",
    "- [**Practical DL with Keras: A Quick Glance** (TBD)](./tutorial_02_ML/tutorial_02_DL.ipynb) (Alberto Castillo, UGR)\n"
   ]
  }
 ],
 "metadata": {
  "kernelspec": {
   "display_name": "Python 3",
   "language": "python",
   "name": "python3"
  },
  "language_info": {
   "codemirror_mode": {
    "name": "ipython",
    "version": 3
   },
   "file_extension": ".py",
   "mimetype": "text/x-python",
   "name": "python",
   "nbconvert_exporter": "python",
   "pygments_lexer": "ipython3",
   "version": "3.7.8"
  }
 },
 "nbformat": 4,
 "nbformat_minor": 4
}
