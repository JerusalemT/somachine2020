{
 "cells": [
  {
   "cell_type": "markdown",
   "metadata": {},
   "source": [
    "# Practical ML: Scikit-learn\n",
    "## Introducing Pandas and Scikit-learn\n",
    "### Juan Antonio Cortés (jacortes@ugr.es)"
   ]
  },
  {
   "cell_type": "code",
   "execution_count": 1,
   "metadata": {},
   "outputs": [],
   "source": [
    "import pandas as pd\n",
    "import numpy as np\n",
    "import matplotlib.pyplot as plt"
   ]
  },
  {
   "cell_type": "markdown",
   "metadata": {},
   "source": [
    "# Pandas"
   ]
  },
  {
   "cell_type": "markdown",
   "metadata": {},
   "source": []
  },
  {
   "cell_type": "markdown",
   "metadata": {},
   "source": [
    "# Pandas series"
   ]
  },
  {
   "cell_type": "code",
   "execution_count": 2,
   "metadata": {},
   "outputs": [
    {
     "data": {
      "text/plain": [
       "0    1.0\n",
       "1    3.0\n",
       "2    5.0\n",
       "3    NaN\n",
       "4    6.0\n",
       "5    8.0\n",
       "dtype: float64"
      ]
     },
     "execution_count": 2,
     "metadata": {},
     "output_type": "execute_result"
    }
   ],
   "source": [
    "s = pd.Series([1, 3, 5, np.nan, 6, 8])\n",
    "s"
   ]
  },
  {
   "cell_type": "markdown",
   "metadata": {},
   "source": [
    "# Pandas DataFrame"
   ]
  },
  {
   "cell_type": "code",
   "execution_count": 3,
   "metadata": {},
   "outputs": [],
   "source": [
    "dates = pd.date_range('20201101', periods=6)\n",
    "df = pd.DataFrame(np.random.randn(6, 4), index=dates, columns=list('ABCD'))"
   ]
  },
  {
   "cell_type": "code",
   "execution_count": 4,
   "metadata": {},
   "outputs": [
    {
     "data": {
      "text/html": [
       "<div>\n",
       "<style scoped>\n",
       "    .dataframe tbody tr th:only-of-type {\n",
       "        vertical-align: middle;\n",
       "    }\n",
       "\n",
       "    .dataframe tbody tr th {\n",
       "        vertical-align: top;\n",
       "    }\n",
       "\n",
       "    .dataframe thead th {\n",
       "        text-align: right;\n",
       "    }\n",
       "</style>\n",
       "<table border=\"1\" class=\"dataframe\">\n",
       "  <thead>\n",
       "    <tr style=\"text-align: right;\">\n",
       "      <th></th>\n",
       "      <th>A</th>\n",
       "      <th>B</th>\n",
       "      <th>C</th>\n",
       "      <th>D</th>\n",
       "    </tr>\n",
       "  </thead>\n",
       "  <tbody>\n",
       "    <tr>\n",
       "      <th>2020-11-01</th>\n",
       "      <td>-0.870299</td>\n",
       "      <td>-0.301959</td>\n",
       "      <td>-0.157529</td>\n",
       "      <td>1.033496</td>\n",
       "    </tr>\n",
       "    <tr>\n",
       "      <th>2020-11-02</th>\n",
       "      <td>0.187051</td>\n",
       "      <td>-0.324296</td>\n",
       "      <td>0.982704</td>\n",
       "      <td>-0.177390</td>\n",
       "    </tr>\n",
       "    <tr>\n",
       "      <th>2020-11-03</th>\n",
       "      <td>-0.832297</td>\n",
       "      <td>0.749176</td>\n",
       "      <td>1.230269</td>\n",
       "      <td>0.687692</td>\n",
       "    </tr>\n",
       "    <tr>\n",
       "      <th>2020-11-04</th>\n",
       "      <td>0.094541</td>\n",
       "      <td>0.376831</td>\n",
       "      <td>0.558176</td>\n",
       "      <td>0.616429</td>\n",
       "    </tr>\n",
       "    <tr>\n",
       "      <th>2020-11-05</th>\n",
       "      <td>-1.007951</td>\n",
       "      <td>-0.269292</td>\n",
       "      <td>-1.161615</td>\n",
       "      <td>0.192341</td>\n",
       "    </tr>\n",
       "    <tr>\n",
       "      <th>2020-11-06</th>\n",
       "      <td>-1.327860</td>\n",
       "      <td>-0.943205</td>\n",
       "      <td>-0.767616</td>\n",
       "      <td>-0.789081</td>\n",
       "    </tr>\n",
       "  </tbody>\n",
       "</table>\n",
       "</div>"
      ],
      "text/plain": [
       "                   A         B         C         D\n",
       "2020-11-01 -0.870299 -0.301959 -0.157529  1.033496\n",
       "2020-11-02  0.187051 -0.324296  0.982704 -0.177390\n",
       "2020-11-03 -0.832297  0.749176  1.230269  0.687692\n",
       "2020-11-04  0.094541  0.376831  0.558176  0.616429\n",
       "2020-11-05 -1.007951 -0.269292 -1.161615  0.192341\n",
       "2020-11-06 -1.327860 -0.943205 -0.767616 -0.789081"
      ]
     },
     "execution_count": 4,
     "metadata": {},
     "output_type": "execute_result"
    }
   ],
   "source": [
    "df"
   ]
  },
  {
   "cell_type": "code",
   "execution_count": 5,
   "metadata": {},
   "outputs": [],
   "source": [
    "df2 = pd.DataFrame({'A': 1.,\n",
    "                    'B': pd.Timestamp('20201101'),\n",
    "                    'C': pd.Series(1, index=list(range(4)), dtype='float32'),\n",
    "                    'D': np.array([3] * 4, dtype='int32'),\n",
    "                    'E': pd.Categorical([\"test\", \"train\", \"test\", \"train\"]),\n",
    "                    'F': 'foo'})"
   ]
  },
  {
   "cell_type": "code",
   "execution_count": 6,
   "metadata": {},
   "outputs": [
    {
     "data": {
      "text/html": [
       "<div>\n",
       "<style scoped>\n",
       "    .dataframe tbody tr th:only-of-type {\n",
       "        vertical-align: middle;\n",
       "    }\n",
       "\n",
       "    .dataframe tbody tr th {\n",
       "        vertical-align: top;\n",
       "    }\n",
       "\n",
       "    .dataframe thead th {\n",
       "        text-align: right;\n",
       "    }\n",
       "</style>\n",
       "<table border=\"1\" class=\"dataframe\">\n",
       "  <thead>\n",
       "    <tr style=\"text-align: right;\">\n",
       "      <th></th>\n",
       "      <th>A</th>\n",
       "      <th>B</th>\n",
       "      <th>C</th>\n",
       "      <th>D</th>\n",
       "      <th>E</th>\n",
       "      <th>F</th>\n",
       "    </tr>\n",
       "  </thead>\n",
       "  <tbody>\n",
       "    <tr>\n",
       "      <th>0</th>\n",
       "      <td>1.0</td>\n",
       "      <td>2020-11-01</td>\n",
       "      <td>1.0</td>\n",
       "      <td>3</td>\n",
       "      <td>test</td>\n",
       "      <td>foo</td>\n",
       "    </tr>\n",
       "    <tr>\n",
       "      <th>1</th>\n",
       "      <td>1.0</td>\n",
       "      <td>2020-11-01</td>\n",
       "      <td>1.0</td>\n",
       "      <td>3</td>\n",
       "      <td>train</td>\n",
       "      <td>foo</td>\n",
       "    </tr>\n",
       "    <tr>\n",
       "      <th>2</th>\n",
       "      <td>1.0</td>\n",
       "      <td>2020-11-01</td>\n",
       "      <td>1.0</td>\n",
       "      <td>3</td>\n",
       "      <td>test</td>\n",
       "      <td>foo</td>\n",
       "    </tr>\n",
       "    <tr>\n",
       "      <th>3</th>\n",
       "      <td>1.0</td>\n",
       "      <td>2020-11-01</td>\n",
       "      <td>1.0</td>\n",
       "      <td>3</td>\n",
       "      <td>train</td>\n",
       "      <td>foo</td>\n",
       "    </tr>\n",
       "  </tbody>\n",
       "</table>\n",
       "</div>"
      ],
      "text/plain": [
       "     A          B    C  D      E    F\n",
       "0  1.0 2020-11-01  1.0  3   test  foo\n",
       "1  1.0 2020-11-01  1.0  3  train  foo\n",
       "2  1.0 2020-11-01  1.0  3   test  foo\n",
       "3  1.0 2020-11-01  1.0  3  train  foo"
      ]
     },
     "execution_count": 6,
     "metadata": {},
     "output_type": "execute_result"
    }
   ],
   "source": [
    "df2"
   ]
  },
  {
   "cell_type": "markdown",
   "metadata": {},
   "source": [
    "# Viewing data"
   ]
  },
  {
   "cell_type": "code",
   "execution_count": 7,
   "metadata": {},
   "outputs": [
    {
     "data": {
      "text/html": [
       "<div>\n",
       "<style scoped>\n",
       "    .dataframe tbody tr th:only-of-type {\n",
       "        vertical-align: middle;\n",
       "    }\n",
       "\n",
       "    .dataframe tbody tr th {\n",
       "        vertical-align: top;\n",
       "    }\n",
       "\n",
       "    .dataframe thead th {\n",
       "        text-align: right;\n",
       "    }\n",
       "</style>\n",
       "<table border=\"1\" class=\"dataframe\">\n",
       "  <thead>\n",
       "    <tr style=\"text-align: right;\">\n",
       "      <th></th>\n",
       "      <th>A</th>\n",
       "      <th>B</th>\n",
       "      <th>C</th>\n",
       "      <th>D</th>\n",
       "    </tr>\n",
       "  </thead>\n",
       "  <tbody>\n",
       "    <tr>\n",
       "      <th>2020-11-01</th>\n",
       "      <td>-0.870299</td>\n",
       "      <td>-0.301959</td>\n",
       "      <td>-0.157529</td>\n",
       "      <td>1.033496</td>\n",
       "    </tr>\n",
       "    <tr>\n",
       "      <th>2020-11-02</th>\n",
       "      <td>0.187051</td>\n",
       "      <td>-0.324296</td>\n",
       "      <td>0.982704</td>\n",
       "      <td>-0.177390</td>\n",
       "    </tr>\n",
       "    <tr>\n",
       "      <th>2020-11-03</th>\n",
       "      <td>-0.832297</td>\n",
       "      <td>0.749176</td>\n",
       "      <td>1.230269</td>\n",
       "      <td>0.687692</td>\n",
       "    </tr>\n",
       "    <tr>\n",
       "      <th>2020-11-04</th>\n",
       "      <td>0.094541</td>\n",
       "      <td>0.376831</td>\n",
       "      <td>0.558176</td>\n",
       "      <td>0.616429</td>\n",
       "    </tr>\n",
       "    <tr>\n",
       "      <th>2020-11-05</th>\n",
       "      <td>-1.007951</td>\n",
       "      <td>-0.269292</td>\n",
       "      <td>-1.161615</td>\n",
       "      <td>0.192341</td>\n",
       "    </tr>\n",
       "  </tbody>\n",
       "</table>\n",
       "</div>"
      ],
      "text/plain": [
       "                   A         B         C         D\n",
       "2020-11-01 -0.870299 -0.301959 -0.157529  1.033496\n",
       "2020-11-02  0.187051 -0.324296  0.982704 -0.177390\n",
       "2020-11-03 -0.832297  0.749176  1.230269  0.687692\n",
       "2020-11-04  0.094541  0.376831  0.558176  0.616429\n",
       "2020-11-05 -1.007951 -0.269292 -1.161615  0.192341"
      ]
     },
     "execution_count": 7,
     "metadata": {},
     "output_type": "execute_result"
    }
   ],
   "source": [
    "df.head()"
   ]
  },
  {
   "cell_type": "code",
   "execution_count": 8,
   "metadata": {},
   "outputs": [
    {
     "data": {
      "text/html": [
       "<div>\n",
       "<style scoped>\n",
       "    .dataframe tbody tr th:only-of-type {\n",
       "        vertical-align: middle;\n",
       "    }\n",
       "\n",
       "    .dataframe tbody tr th {\n",
       "        vertical-align: top;\n",
       "    }\n",
       "\n",
       "    .dataframe thead th {\n",
       "        text-align: right;\n",
       "    }\n",
       "</style>\n",
       "<table border=\"1\" class=\"dataframe\">\n",
       "  <thead>\n",
       "    <tr style=\"text-align: right;\">\n",
       "      <th></th>\n",
       "      <th>A</th>\n",
       "      <th>B</th>\n",
       "      <th>C</th>\n",
       "      <th>D</th>\n",
       "    </tr>\n",
       "  </thead>\n",
       "  <tbody>\n",
       "    <tr>\n",
       "      <th>2020-11-02</th>\n",
       "      <td>0.187051</td>\n",
       "      <td>-0.324296</td>\n",
       "      <td>0.982704</td>\n",
       "      <td>-0.177390</td>\n",
       "    </tr>\n",
       "    <tr>\n",
       "      <th>2020-11-03</th>\n",
       "      <td>-0.832297</td>\n",
       "      <td>0.749176</td>\n",
       "      <td>1.230269</td>\n",
       "      <td>0.687692</td>\n",
       "    </tr>\n",
       "    <tr>\n",
       "      <th>2020-11-04</th>\n",
       "      <td>0.094541</td>\n",
       "      <td>0.376831</td>\n",
       "      <td>0.558176</td>\n",
       "      <td>0.616429</td>\n",
       "    </tr>\n",
       "    <tr>\n",
       "      <th>2020-11-05</th>\n",
       "      <td>-1.007951</td>\n",
       "      <td>-0.269292</td>\n",
       "      <td>-1.161615</td>\n",
       "      <td>0.192341</td>\n",
       "    </tr>\n",
       "    <tr>\n",
       "      <th>2020-11-06</th>\n",
       "      <td>-1.327860</td>\n",
       "      <td>-0.943205</td>\n",
       "      <td>-0.767616</td>\n",
       "      <td>-0.789081</td>\n",
       "    </tr>\n",
       "  </tbody>\n",
       "</table>\n",
       "</div>"
      ],
      "text/plain": [
       "                   A         B         C         D\n",
       "2020-11-02  0.187051 -0.324296  0.982704 -0.177390\n",
       "2020-11-03 -0.832297  0.749176  1.230269  0.687692\n",
       "2020-11-04  0.094541  0.376831  0.558176  0.616429\n",
       "2020-11-05 -1.007951 -0.269292 -1.161615  0.192341\n",
       "2020-11-06 -1.327860 -0.943205 -0.767616 -0.789081"
      ]
     },
     "execution_count": 8,
     "metadata": {},
     "output_type": "execute_result"
    }
   ],
   "source": [
    "df.tail()"
   ]
  },
  {
   "cell_type": "code",
   "execution_count": 9,
   "metadata": {},
   "outputs": [
    {
     "data": {
      "text/plain": [
       "Index(['A', 'B', 'C', 'D'], dtype='object')"
      ]
     },
     "execution_count": 9,
     "metadata": {},
     "output_type": "execute_result"
    }
   ],
   "source": [
    "df.columns"
   ]
  },
  {
   "cell_type": "code",
   "execution_count": 10,
   "metadata": {},
   "outputs": [
    {
     "data": {
      "text/html": [
       "<div>\n",
       "<style scoped>\n",
       "    .dataframe tbody tr th:only-of-type {\n",
       "        vertical-align: middle;\n",
       "    }\n",
       "\n",
       "    .dataframe tbody tr th {\n",
       "        vertical-align: top;\n",
       "    }\n",
       "\n",
       "    .dataframe thead th {\n",
       "        text-align: right;\n",
       "    }\n",
       "</style>\n",
       "<table border=\"1\" class=\"dataframe\">\n",
       "  <thead>\n",
       "    <tr style=\"text-align: right;\">\n",
       "      <th></th>\n",
       "      <th>A</th>\n",
       "      <th>B</th>\n",
       "      <th>C</th>\n",
       "      <th>D</th>\n",
       "    </tr>\n",
       "  </thead>\n",
       "  <tbody>\n",
       "    <tr>\n",
       "      <th>count</th>\n",
       "      <td>6.000000</td>\n",
       "      <td>6.000000</td>\n",
       "      <td>6.000000</td>\n",
       "      <td>6.000000</td>\n",
       "    </tr>\n",
       "    <tr>\n",
       "      <th>mean</th>\n",
       "      <td>-0.626136</td>\n",
       "      <td>-0.118791</td>\n",
       "      <td>0.114065</td>\n",
       "      <td>0.260581</td>\n",
       "    </tr>\n",
       "    <tr>\n",
       "      <th>std</th>\n",
       "      <td>0.619833</td>\n",
       "      <td>0.596171</td>\n",
       "      <td>0.967074</td>\n",
       "      <td>0.664035</td>\n",
       "    </tr>\n",
       "    <tr>\n",
       "      <th>min</th>\n",
       "      <td>-1.327860</td>\n",
       "      <td>-0.943205</td>\n",
       "      <td>-1.161615</td>\n",
       "      <td>-0.789081</td>\n",
       "    </tr>\n",
       "    <tr>\n",
       "      <th>25%</th>\n",
       "      <td>-0.973538</td>\n",
       "      <td>-0.318712</td>\n",
       "      <td>-0.615094</td>\n",
       "      <td>-0.084958</td>\n",
       "    </tr>\n",
       "    <tr>\n",
       "      <th>50%</th>\n",
       "      <td>-0.851298</td>\n",
       "      <td>-0.285626</td>\n",
       "      <td>0.200323</td>\n",
       "      <td>0.404385</td>\n",
       "    </tr>\n",
       "    <tr>\n",
       "      <th>75%</th>\n",
       "      <td>-0.137169</td>\n",
       "      <td>0.215301</td>\n",
       "      <td>0.876572</td>\n",
       "      <td>0.669876</td>\n",
       "    </tr>\n",
       "    <tr>\n",
       "      <th>max</th>\n",
       "      <td>0.187051</td>\n",
       "      <td>0.749176</td>\n",
       "      <td>1.230269</td>\n",
       "      <td>1.033496</td>\n",
       "    </tr>\n",
       "  </tbody>\n",
       "</table>\n",
       "</div>"
      ],
      "text/plain": [
       "              A         B         C         D\n",
       "count  6.000000  6.000000  6.000000  6.000000\n",
       "mean  -0.626136 -0.118791  0.114065  0.260581\n",
       "std    0.619833  0.596171  0.967074  0.664035\n",
       "min   -1.327860 -0.943205 -1.161615 -0.789081\n",
       "25%   -0.973538 -0.318712 -0.615094 -0.084958\n",
       "50%   -0.851298 -0.285626  0.200323  0.404385\n",
       "75%   -0.137169  0.215301  0.876572  0.669876\n",
       "max    0.187051  0.749176  1.230269  1.033496"
      ]
     },
     "execution_count": 10,
     "metadata": {},
     "output_type": "execute_result"
    }
   ],
   "source": [
    "df.describe()"
   ]
  },
  {
   "cell_type": "code",
   "execution_count": 11,
   "metadata": {},
   "outputs": [
    {
     "data": {
      "text/html": [
       "<div>\n",
       "<style scoped>\n",
       "    .dataframe tbody tr th:only-of-type {\n",
       "        vertical-align: middle;\n",
       "    }\n",
       "\n",
       "    .dataframe tbody tr th {\n",
       "        vertical-align: top;\n",
       "    }\n",
       "\n",
       "    .dataframe thead th {\n",
       "        text-align: right;\n",
       "    }\n",
       "</style>\n",
       "<table border=\"1\" class=\"dataframe\">\n",
       "  <thead>\n",
       "    <tr style=\"text-align: right;\">\n",
       "      <th></th>\n",
       "      <th>2020-11-01</th>\n",
       "      <th>2020-11-02</th>\n",
       "      <th>2020-11-03</th>\n",
       "      <th>2020-11-04</th>\n",
       "      <th>2020-11-05</th>\n",
       "      <th>2020-11-06</th>\n",
       "    </tr>\n",
       "  </thead>\n",
       "  <tbody>\n",
       "    <tr>\n",
       "      <th>A</th>\n",
       "      <td>-0.870299</td>\n",
       "      <td>0.187051</td>\n",
       "      <td>-0.832297</td>\n",
       "      <td>0.094541</td>\n",
       "      <td>-1.007951</td>\n",
       "      <td>-1.327860</td>\n",
       "    </tr>\n",
       "    <tr>\n",
       "      <th>B</th>\n",
       "      <td>-0.301959</td>\n",
       "      <td>-0.324296</td>\n",
       "      <td>0.749176</td>\n",
       "      <td>0.376831</td>\n",
       "      <td>-0.269292</td>\n",
       "      <td>-0.943205</td>\n",
       "    </tr>\n",
       "    <tr>\n",
       "      <th>C</th>\n",
       "      <td>-0.157529</td>\n",
       "      <td>0.982704</td>\n",
       "      <td>1.230269</td>\n",
       "      <td>0.558176</td>\n",
       "      <td>-1.161615</td>\n",
       "      <td>-0.767616</td>\n",
       "    </tr>\n",
       "    <tr>\n",
       "      <th>D</th>\n",
       "      <td>1.033496</td>\n",
       "      <td>-0.177390</td>\n",
       "      <td>0.687692</td>\n",
       "      <td>0.616429</td>\n",
       "      <td>0.192341</td>\n",
       "      <td>-0.789081</td>\n",
       "    </tr>\n",
       "  </tbody>\n",
       "</table>\n",
       "</div>"
      ],
      "text/plain": [
       "   2020-11-01  2020-11-02  2020-11-03  2020-11-04  2020-11-05  2020-11-06\n",
       "A   -0.870299    0.187051   -0.832297    0.094541   -1.007951   -1.327860\n",
       "B   -0.301959   -0.324296    0.749176    0.376831   -0.269292   -0.943205\n",
       "C   -0.157529    0.982704    1.230269    0.558176   -1.161615   -0.767616\n",
       "D    1.033496   -0.177390    0.687692    0.616429    0.192341   -0.789081"
      ]
     },
     "execution_count": 11,
     "metadata": {},
     "output_type": "execute_result"
    }
   ],
   "source": [
    "df.T"
   ]
  },
  {
   "cell_type": "code",
   "execution_count": 12,
   "metadata": {},
   "outputs": [
    {
     "data": {
      "text/html": [
       "<div>\n",
       "<style scoped>\n",
       "    .dataframe tbody tr th:only-of-type {\n",
       "        vertical-align: middle;\n",
       "    }\n",
       "\n",
       "    .dataframe tbody tr th {\n",
       "        vertical-align: top;\n",
       "    }\n",
       "\n",
       "    .dataframe thead th {\n",
       "        text-align: right;\n",
       "    }\n",
       "</style>\n",
       "<table border=\"1\" class=\"dataframe\">\n",
       "  <thead>\n",
       "    <tr style=\"text-align: right;\">\n",
       "      <th></th>\n",
       "      <th>D</th>\n",
       "      <th>C</th>\n",
       "      <th>B</th>\n",
       "      <th>A</th>\n",
       "    </tr>\n",
       "  </thead>\n",
       "  <tbody>\n",
       "    <tr>\n",
       "      <th>2020-11-01</th>\n",
       "      <td>1.033496</td>\n",
       "      <td>-0.157529</td>\n",
       "      <td>-0.301959</td>\n",
       "      <td>-0.870299</td>\n",
       "    </tr>\n",
       "    <tr>\n",
       "      <th>2020-11-02</th>\n",
       "      <td>-0.177390</td>\n",
       "      <td>0.982704</td>\n",
       "      <td>-0.324296</td>\n",
       "      <td>0.187051</td>\n",
       "    </tr>\n",
       "    <tr>\n",
       "      <th>2020-11-03</th>\n",
       "      <td>0.687692</td>\n",
       "      <td>1.230269</td>\n",
       "      <td>0.749176</td>\n",
       "      <td>-0.832297</td>\n",
       "    </tr>\n",
       "    <tr>\n",
       "      <th>2020-11-04</th>\n",
       "      <td>0.616429</td>\n",
       "      <td>0.558176</td>\n",
       "      <td>0.376831</td>\n",
       "      <td>0.094541</td>\n",
       "    </tr>\n",
       "    <tr>\n",
       "      <th>2020-11-05</th>\n",
       "      <td>0.192341</td>\n",
       "      <td>-1.161615</td>\n",
       "      <td>-0.269292</td>\n",
       "      <td>-1.007951</td>\n",
       "    </tr>\n",
       "    <tr>\n",
       "      <th>2020-11-06</th>\n",
       "      <td>-0.789081</td>\n",
       "      <td>-0.767616</td>\n",
       "      <td>-0.943205</td>\n",
       "      <td>-1.327860</td>\n",
       "    </tr>\n",
       "  </tbody>\n",
       "</table>\n",
       "</div>"
      ],
      "text/plain": [
       "                   D         C         B         A\n",
       "2020-11-01  1.033496 -0.157529 -0.301959 -0.870299\n",
       "2020-11-02 -0.177390  0.982704 -0.324296  0.187051\n",
       "2020-11-03  0.687692  1.230269  0.749176 -0.832297\n",
       "2020-11-04  0.616429  0.558176  0.376831  0.094541\n",
       "2020-11-05  0.192341 -1.161615 -0.269292 -1.007951\n",
       "2020-11-06 -0.789081 -0.767616 -0.943205 -1.327860"
      ]
     },
     "execution_count": 12,
     "metadata": {},
     "output_type": "execute_result"
    }
   ],
   "source": [
    "df.sort_index(axis=1, ascending=False)"
   ]
  },
  {
   "cell_type": "code",
   "execution_count": 13,
   "metadata": {},
   "outputs": [
    {
     "data": {
      "text/html": [
       "<div>\n",
       "<style scoped>\n",
       "    .dataframe tbody tr th:only-of-type {\n",
       "        vertical-align: middle;\n",
       "    }\n",
       "\n",
       "    .dataframe tbody tr th {\n",
       "        vertical-align: top;\n",
       "    }\n",
       "\n",
       "    .dataframe thead th {\n",
       "        text-align: right;\n",
       "    }\n",
       "</style>\n",
       "<table border=\"1\" class=\"dataframe\">\n",
       "  <thead>\n",
       "    <tr style=\"text-align: right;\">\n",
       "      <th></th>\n",
       "      <th>A</th>\n",
       "      <th>B</th>\n",
       "      <th>C</th>\n",
       "      <th>D</th>\n",
       "    </tr>\n",
       "  </thead>\n",
       "  <tbody>\n",
       "    <tr>\n",
       "      <th>2020-11-06</th>\n",
       "      <td>-1.327860</td>\n",
       "      <td>-0.943205</td>\n",
       "      <td>-0.767616</td>\n",
       "      <td>-0.789081</td>\n",
       "    </tr>\n",
       "    <tr>\n",
       "      <th>2020-11-02</th>\n",
       "      <td>0.187051</td>\n",
       "      <td>-0.324296</td>\n",
       "      <td>0.982704</td>\n",
       "      <td>-0.177390</td>\n",
       "    </tr>\n",
       "    <tr>\n",
       "      <th>2020-11-01</th>\n",
       "      <td>-0.870299</td>\n",
       "      <td>-0.301959</td>\n",
       "      <td>-0.157529</td>\n",
       "      <td>1.033496</td>\n",
       "    </tr>\n",
       "    <tr>\n",
       "      <th>2020-11-05</th>\n",
       "      <td>-1.007951</td>\n",
       "      <td>-0.269292</td>\n",
       "      <td>-1.161615</td>\n",
       "      <td>0.192341</td>\n",
       "    </tr>\n",
       "    <tr>\n",
       "      <th>2020-11-04</th>\n",
       "      <td>0.094541</td>\n",
       "      <td>0.376831</td>\n",
       "      <td>0.558176</td>\n",
       "      <td>0.616429</td>\n",
       "    </tr>\n",
       "    <tr>\n",
       "      <th>2020-11-03</th>\n",
       "      <td>-0.832297</td>\n",
       "      <td>0.749176</td>\n",
       "      <td>1.230269</td>\n",
       "      <td>0.687692</td>\n",
       "    </tr>\n",
       "  </tbody>\n",
       "</table>\n",
       "</div>"
      ],
      "text/plain": [
       "                   A         B         C         D\n",
       "2020-11-06 -1.327860 -0.943205 -0.767616 -0.789081\n",
       "2020-11-02  0.187051 -0.324296  0.982704 -0.177390\n",
       "2020-11-01 -0.870299 -0.301959 -0.157529  1.033496\n",
       "2020-11-05 -1.007951 -0.269292 -1.161615  0.192341\n",
       "2020-11-04  0.094541  0.376831  0.558176  0.616429\n",
       "2020-11-03 -0.832297  0.749176  1.230269  0.687692"
      ]
     },
     "execution_count": 13,
     "metadata": {},
     "output_type": "execute_result"
    }
   ],
   "source": [
    "df.sort_values(by='B')"
   ]
  },
  {
   "cell_type": "markdown",
   "metadata": {},
   "source": [
    "# Selection"
   ]
  },
  {
   "cell_type": "code",
   "execution_count": 14,
   "metadata": {},
   "outputs": [
    {
     "data": {
      "text/plain": [
       "2020-11-01   -0.870299\n",
       "2020-11-02    0.187051\n",
       "2020-11-03   -0.832297\n",
       "2020-11-04    0.094541\n",
       "2020-11-05   -1.007951\n",
       "2020-11-06   -1.327860\n",
       "Freq: D, Name: A, dtype: float64"
      ]
     },
     "execution_count": 14,
     "metadata": {},
     "output_type": "execute_result"
    }
   ],
   "source": [
    "df['A']"
   ]
  },
  {
   "cell_type": "code",
   "execution_count": 15,
   "metadata": {},
   "outputs": [
    {
     "data": {
      "text/html": [
       "<div>\n",
       "<style scoped>\n",
       "    .dataframe tbody tr th:only-of-type {\n",
       "        vertical-align: middle;\n",
       "    }\n",
       "\n",
       "    .dataframe tbody tr th {\n",
       "        vertical-align: top;\n",
       "    }\n",
       "\n",
       "    .dataframe thead th {\n",
       "        text-align: right;\n",
       "    }\n",
       "</style>\n",
       "<table border=\"1\" class=\"dataframe\">\n",
       "  <thead>\n",
       "    <tr style=\"text-align: right;\">\n",
       "      <th></th>\n",
       "      <th>A</th>\n",
       "      <th>B</th>\n",
       "      <th>C</th>\n",
       "      <th>D</th>\n",
       "    </tr>\n",
       "  </thead>\n",
       "  <tbody>\n",
       "    <tr>\n",
       "      <th>2020-11-01</th>\n",
       "      <td>-0.870299</td>\n",
       "      <td>-0.301959</td>\n",
       "      <td>-0.157529</td>\n",
       "      <td>1.033496</td>\n",
       "    </tr>\n",
       "    <tr>\n",
       "      <th>2020-11-02</th>\n",
       "      <td>0.187051</td>\n",
       "      <td>-0.324296</td>\n",
       "      <td>0.982704</td>\n",
       "      <td>-0.177390</td>\n",
       "    </tr>\n",
       "    <tr>\n",
       "      <th>2020-11-03</th>\n",
       "      <td>-0.832297</td>\n",
       "      <td>0.749176</td>\n",
       "      <td>1.230269</td>\n",
       "      <td>0.687692</td>\n",
       "    </tr>\n",
       "  </tbody>\n",
       "</table>\n",
       "</div>"
      ],
      "text/plain": [
       "                   A         B         C         D\n",
       "2020-11-01 -0.870299 -0.301959 -0.157529  1.033496\n",
       "2020-11-02  0.187051 -0.324296  0.982704 -0.177390\n",
       "2020-11-03 -0.832297  0.749176  1.230269  0.687692"
      ]
     },
     "execution_count": 15,
     "metadata": {},
     "output_type": "execute_result"
    }
   ],
   "source": [
    "df[0:3]"
   ]
  },
  {
   "cell_type": "code",
   "execution_count": 16,
   "metadata": {},
   "outputs": [
    {
     "data": {
      "text/html": [
       "<div>\n",
       "<style scoped>\n",
       "    .dataframe tbody tr th:only-of-type {\n",
       "        vertical-align: middle;\n",
       "    }\n",
       "\n",
       "    .dataframe tbody tr th {\n",
       "        vertical-align: top;\n",
       "    }\n",
       "\n",
       "    .dataframe thead th {\n",
       "        text-align: right;\n",
       "    }\n",
       "</style>\n",
       "<table border=\"1\" class=\"dataframe\">\n",
       "  <thead>\n",
       "    <tr style=\"text-align: right;\">\n",
       "      <th></th>\n",
       "      <th>A</th>\n",
       "      <th>B</th>\n",
       "      <th>C</th>\n",
       "      <th>D</th>\n",
       "    </tr>\n",
       "  </thead>\n",
       "  <tbody>\n",
       "    <tr>\n",
       "      <th>2020-11-02</th>\n",
       "      <td>0.187051</td>\n",
       "      <td>-0.324296</td>\n",
       "      <td>0.982704</td>\n",
       "      <td>-0.177390</td>\n",
       "    </tr>\n",
       "    <tr>\n",
       "      <th>2020-11-03</th>\n",
       "      <td>-0.832297</td>\n",
       "      <td>0.749176</td>\n",
       "      <td>1.230269</td>\n",
       "      <td>0.687692</td>\n",
       "    </tr>\n",
       "  </tbody>\n",
       "</table>\n",
       "</div>"
      ],
      "text/plain": [
       "                   A         B         C         D\n",
       "2020-11-02  0.187051 -0.324296  0.982704 -0.177390\n",
       "2020-11-03 -0.832297  0.749176  1.230269  0.687692"
      ]
     },
     "execution_count": 16,
     "metadata": {},
     "output_type": "execute_result"
    }
   ],
   "source": [
    "df.iloc[1:3, :]"
   ]
  },
  {
   "cell_type": "code",
   "execution_count": 17,
   "metadata": {},
   "outputs": [
    {
     "data": {
      "text/html": [
       "<div>\n",
       "<style scoped>\n",
       "    .dataframe tbody tr th:only-of-type {\n",
       "        vertical-align: middle;\n",
       "    }\n",
       "\n",
       "    .dataframe tbody tr th {\n",
       "        vertical-align: top;\n",
       "    }\n",
       "\n",
       "    .dataframe thead th {\n",
       "        text-align: right;\n",
       "    }\n",
       "</style>\n",
       "<table border=\"1\" class=\"dataframe\">\n",
       "  <thead>\n",
       "    <tr style=\"text-align: right;\">\n",
       "      <th></th>\n",
       "      <th>B</th>\n",
       "      <th>C</th>\n",
       "    </tr>\n",
       "  </thead>\n",
       "  <tbody>\n",
       "    <tr>\n",
       "      <th>2020-11-01</th>\n",
       "      <td>-0.301959</td>\n",
       "      <td>-0.157529</td>\n",
       "    </tr>\n",
       "    <tr>\n",
       "      <th>2020-11-02</th>\n",
       "      <td>-0.324296</td>\n",
       "      <td>0.982704</td>\n",
       "    </tr>\n",
       "    <tr>\n",
       "      <th>2020-11-03</th>\n",
       "      <td>0.749176</td>\n",
       "      <td>1.230269</td>\n",
       "    </tr>\n",
       "    <tr>\n",
       "      <th>2020-11-04</th>\n",
       "      <td>0.376831</td>\n",
       "      <td>0.558176</td>\n",
       "    </tr>\n",
       "    <tr>\n",
       "      <th>2020-11-05</th>\n",
       "      <td>-0.269292</td>\n",
       "      <td>-1.161615</td>\n",
       "    </tr>\n",
       "    <tr>\n",
       "      <th>2020-11-06</th>\n",
       "      <td>-0.943205</td>\n",
       "      <td>-0.767616</td>\n",
       "    </tr>\n",
       "  </tbody>\n",
       "</table>\n",
       "</div>"
      ],
      "text/plain": [
       "                   B         C\n",
       "2020-11-01 -0.301959 -0.157529\n",
       "2020-11-02 -0.324296  0.982704\n",
       "2020-11-03  0.749176  1.230269\n",
       "2020-11-04  0.376831  0.558176\n",
       "2020-11-05 -0.269292 -1.161615\n",
       "2020-11-06 -0.943205 -0.767616"
      ]
     },
     "execution_count": 17,
     "metadata": {},
     "output_type": "execute_result"
    }
   ],
   "source": [
    "df.iloc[:, 1:3]"
   ]
  },
  {
   "cell_type": "markdown",
   "metadata": {},
   "source": [
    "# Boolean indexing"
   ]
  },
  {
   "cell_type": "code",
   "execution_count": 18,
   "metadata": {},
   "outputs": [
    {
     "data": {
      "text/html": [
       "<div>\n",
       "<style scoped>\n",
       "    .dataframe tbody tr th:only-of-type {\n",
       "        vertical-align: middle;\n",
       "    }\n",
       "\n",
       "    .dataframe tbody tr th {\n",
       "        vertical-align: top;\n",
       "    }\n",
       "\n",
       "    .dataframe thead th {\n",
       "        text-align: right;\n",
       "    }\n",
       "</style>\n",
       "<table border=\"1\" class=\"dataframe\">\n",
       "  <thead>\n",
       "    <tr style=\"text-align: right;\">\n",
       "      <th></th>\n",
       "      <th>A</th>\n",
       "      <th>B</th>\n",
       "      <th>C</th>\n",
       "      <th>D</th>\n",
       "    </tr>\n",
       "  </thead>\n",
       "  <tbody>\n",
       "    <tr>\n",
       "      <th>2020-11-02</th>\n",
       "      <td>0.187051</td>\n",
       "      <td>-0.324296</td>\n",
       "      <td>0.982704</td>\n",
       "      <td>-0.177390</td>\n",
       "    </tr>\n",
       "    <tr>\n",
       "      <th>2020-11-04</th>\n",
       "      <td>0.094541</td>\n",
       "      <td>0.376831</td>\n",
       "      <td>0.558176</td>\n",
       "      <td>0.616429</td>\n",
       "    </tr>\n",
       "  </tbody>\n",
       "</table>\n",
       "</div>"
      ],
      "text/plain": [
       "                   A         B         C         D\n",
       "2020-11-02  0.187051 -0.324296  0.982704 -0.177390\n",
       "2020-11-04  0.094541  0.376831  0.558176  0.616429"
      ]
     },
     "execution_count": 18,
     "metadata": {},
     "output_type": "execute_result"
    }
   ],
   "source": [
    "df[df['A'] > 0]"
   ]
  },
  {
   "cell_type": "code",
   "execution_count": 19,
   "metadata": {},
   "outputs": [
    {
     "data": {
      "text/html": [
       "<div>\n",
       "<style scoped>\n",
       "    .dataframe tbody tr th:only-of-type {\n",
       "        vertical-align: middle;\n",
       "    }\n",
       "\n",
       "    .dataframe tbody tr th {\n",
       "        vertical-align: top;\n",
       "    }\n",
       "\n",
       "    .dataframe thead th {\n",
       "        text-align: right;\n",
       "    }\n",
       "</style>\n",
       "<table border=\"1\" class=\"dataframe\">\n",
       "  <thead>\n",
       "    <tr style=\"text-align: right;\">\n",
       "      <th></th>\n",
       "      <th>A</th>\n",
       "      <th>B</th>\n",
       "      <th>C</th>\n",
       "      <th>D</th>\n",
       "    </tr>\n",
       "  </thead>\n",
       "  <tbody>\n",
       "    <tr>\n",
       "      <th>2020-11-01</th>\n",
       "      <td>NaN</td>\n",
       "      <td>NaN</td>\n",
       "      <td>NaN</td>\n",
       "      <td>1.033496</td>\n",
       "    </tr>\n",
       "    <tr>\n",
       "      <th>2020-11-02</th>\n",
       "      <td>0.187051</td>\n",
       "      <td>NaN</td>\n",
       "      <td>0.982704</td>\n",
       "      <td>NaN</td>\n",
       "    </tr>\n",
       "    <tr>\n",
       "      <th>2020-11-03</th>\n",
       "      <td>NaN</td>\n",
       "      <td>0.749176</td>\n",
       "      <td>1.230269</td>\n",
       "      <td>0.687692</td>\n",
       "    </tr>\n",
       "    <tr>\n",
       "      <th>2020-11-04</th>\n",
       "      <td>0.094541</td>\n",
       "      <td>0.376831</td>\n",
       "      <td>0.558176</td>\n",
       "      <td>0.616429</td>\n",
       "    </tr>\n",
       "    <tr>\n",
       "      <th>2020-11-05</th>\n",
       "      <td>NaN</td>\n",
       "      <td>NaN</td>\n",
       "      <td>NaN</td>\n",
       "      <td>0.192341</td>\n",
       "    </tr>\n",
       "    <tr>\n",
       "      <th>2020-11-06</th>\n",
       "      <td>NaN</td>\n",
       "      <td>NaN</td>\n",
       "      <td>NaN</td>\n",
       "      <td>NaN</td>\n",
       "    </tr>\n",
       "  </tbody>\n",
       "</table>\n",
       "</div>"
      ],
      "text/plain": [
       "                   A         B         C         D\n",
       "2020-11-01       NaN       NaN       NaN  1.033496\n",
       "2020-11-02  0.187051       NaN  0.982704       NaN\n",
       "2020-11-03       NaN  0.749176  1.230269  0.687692\n",
       "2020-11-04  0.094541  0.376831  0.558176  0.616429\n",
       "2020-11-05       NaN       NaN       NaN  0.192341\n",
       "2020-11-06       NaN       NaN       NaN       NaN"
      ]
     },
     "execution_count": 19,
     "metadata": {},
     "output_type": "execute_result"
    }
   ],
   "source": [
    "df[df > 0]"
   ]
  },
  {
   "cell_type": "markdown",
   "metadata": {},
   "source": [
    "# Missing data"
   ]
  },
  {
   "cell_type": "code",
   "execution_count": 20,
   "metadata": {},
   "outputs": [
    {
     "data": {
      "text/plain": [
       "0    False\n",
       "1    False\n",
       "2    False\n",
       "3     True\n",
       "4    False\n",
       "5    False\n",
       "dtype: bool"
      ]
     },
     "execution_count": 20,
     "metadata": {},
     "output_type": "execute_result"
    }
   ],
   "source": [
    "pd.isna(s)"
   ]
  },
  {
   "cell_type": "code",
   "execution_count": 21,
   "metadata": {},
   "outputs": [
    {
     "data": {
      "text/plain": [
       "0    1.0\n",
       "1    3.0\n",
       "2    5.0\n",
       "3    NaN\n",
       "4    6.0\n",
       "5    8.0\n",
       "dtype: float64"
      ]
     },
     "execution_count": 21,
     "metadata": {},
     "output_type": "execute_result"
    }
   ],
   "source": [
    "s"
   ]
  },
  {
   "cell_type": "code",
   "execution_count": 22,
   "metadata": {},
   "outputs": [
    {
     "data": {
      "text/plain": [
       "0    1.0\n",
       "1    3.0\n",
       "2    5.0\n",
       "4    6.0\n",
       "5    8.0\n",
       "dtype: float64"
      ]
     },
     "execution_count": 22,
     "metadata": {},
     "output_type": "execute_result"
    }
   ],
   "source": [
    "s.dropna(how='any')"
   ]
  },
  {
   "cell_type": "code",
   "execution_count": 23,
   "metadata": {},
   "outputs": [
    {
     "data": {
      "text/plain": [
       "0    1.0\n",
       "1    3.0\n",
       "2    5.0\n",
       "3    5.0\n",
       "4    6.0\n",
       "5    8.0\n",
       "dtype: float64"
      ]
     },
     "execution_count": 23,
     "metadata": {},
     "output_type": "execute_result"
    }
   ],
   "source": [
    "s.fillna(value=5)"
   ]
  },
  {
   "cell_type": "markdown",
   "metadata": {},
   "source": [
    "# Plotting"
   ]
  },
  {
   "cell_type": "code",
   "execution_count": 24,
   "metadata": {},
   "outputs": [],
   "source": [
    "ts = pd.Series(np.random.randn(1000), index=pd.date_range('11/1/2020', periods=1000))\n",
    "ts = ts.cumsum()"
   ]
  },
  {
   "cell_type": "code",
   "execution_count": 25,
   "metadata": {},
   "outputs": [
    {
     "data": {
      "text/plain": [
       "<AxesSubplot:>"
      ]
     },
     "execution_count": 25,
     "metadata": {},
     "output_type": "execute_result"
    },
    {
     "data": {
      "image/png": "[encoded data removed]",
      "text/plain": [
       "<Figure size 432x288 with 1 Axes>"
      ]
     },
     "metadata": {
      "needs_background": "light"
     },
     "output_type": "display_data"
    }
   ],
   "source": [
    "ts.plot()"
   ]
  },
  {
   "cell_type": "code",
   "execution_count": 26,
   "metadata": {},
   "outputs": [
    {
     "data": {
      "text/plain": [
       "<AxesSubplot:>"
      ]
     },
     "execution_count": 26,
     "metadata": {},
     "output_type": "execute_result"
    },
    {
     "data": {
      "image/png": "[encoded data removed]",
      "text/plain": [
       "<Figure size 432x288 with 1 Axes>"
      ]
     },
     "metadata": {
      "needs_background": "light"
     },
     "output_type": "display_data"
    }
   ],
   "source": [
    "df.plot()"
   ]
  },
  {
   "cell_type": "markdown",
   "metadata": {},
   "source": [
    "# Data reading"
   ]
  },
  {
   "cell_type": "code",
   "execution_count": 27,
   "metadata": {},
   "outputs": [
    {
     "data": {
      "text/plain": [
       "0       1237648704577142822\n",
       "1       1237648704577142859\n",
       "2       1237648704577208477\n",
       "3       1237648704577273907\n",
       "4       1237648704577273909\n",
       "               ...         \n",
       "9995    1237651250948931844\n",
       "9996    1237651250948997145\n",
       "9997    1237651250948997231\n",
       "9998    1237651250949062814\n",
       "9999    1237651250949062911\n",
       "Name: objid, Length: 10000, dtype: int64"
      ]
     },
     "execution_count": 27,
     "metadata": {},
     "output_type": "execute_result"
    }
   ],
   "source": [
    "df =  pd.read_csv('data/sdss.csv')\n",
    "df.pop('objid')"
   ]
  },
  {
   "cell_type": "markdown",
   "metadata": {},
   "source": [
    "# EDA"
   ]
  },
  {
   "cell_type": "code",
   "execution_count": 28,
   "metadata": {},
   "outputs": [
    {
     "data": {
      "text/html": [
       "<div>\n",
       "<style scoped>\n",
       "    .dataframe tbody tr th:only-of-type {\n",
       "        vertical-align: middle;\n",
       "    }\n",
       "\n",
       "    .dataframe tbody tr th {\n",
       "        vertical-align: top;\n",
       "    }\n",
       "\n",
       "    .dataframe thead th {\n",
       "        text-align: right;\n",
       "    }\n",
       "</style>\n",
       "<table border=\"1\" class=\"dataframe\">\n",
       "  <thead>\n",
       "    <tr style=\"text-align: right;\">\n",
       "      <th></th>\n",
       "      <th>ra</th>\n",
       "      <th>dec</th>\n",
       "      <th>u</th>\n",
       "      <th>g</th>\n",
       "      <th>r</th>\n",
       "      <th>i</th>\n",
       "      <th>z</th>\n",
       "      <th>run</th>\n",
       "      <th>rerun</th>\n",
       "      <th>camcol</th>\n",
       "      <th>field</th>\n",
       "      <th>specobjid</th>\n",
       "      <th>class</th>\n",
       "      <th>redshift</th>\n",
       "      <th>plate</th>\n",
       "      <th>mjd</th>\n",
       "      <th>fiberid</th>\n",
       "    </tr>\n",
       "  </thead>\n",
       "  <tbody>\n",
       "    <tr>\n",
       "      <th>0</th>\n",
       "      <td>183.531326</td>\n",
       "      <td>0.089693</td>\n",
       "      <td>19.47406</td>\n",
       "      <td>17.04240</td>\n",
       "      <td>15.94699</td>\n",
       "      <td>15.50342</td>\n",
       "      <td>15.22531</td>\n",
       "      <td>752</td>\n",
       "      <td>301</td>\n",
       "      <td>4</td>\n",
       "      <td>267</td>\n",
       "      <td>3722360139651588096</td>\n",
       "      <td>STAR</td>\n",
       "      <td>-0.000009</td>\n",
       "      <td>3306</td>\n",
       "      <td>54922</td>\n",
       "      <td>491</td>\n",
       "    </tr>\n",
       "    <tr>\n",
       "      <th>1</th>\n",
       "      <td>183.598371</td>\n",
       "      <td>0.135285</td>\n",
       "      <td>18.66280</td>\n",
       "      <td>17.21449</td>\n",
       "      <td>16.67637</td>\n",
       "      <td>16.48922</td>\n",
       "      <td>16.39150</td>\n",
       "      <td>752</td>\n",
       "      <td>301</td>\n",
       "      <td>4</td>\n",
       "      <td>267</td>\n",
       "      <td>363814405953054720</td>\n",
       "      <td>STAR</td>\n",
       "      <td>-0.000055</td>\n",
       "      <td>323</td>\n",
       "      <td>51615</td>\n",
       "      <td>541</td>\n",
       "    </tr>\n",
       "    <tr>\n",
       "      <th>2</th>\n",
       "      <td>183.680207</td>\n",
       "      <td>0.126185</td>\n",
       "      <td>19.38298</td>\n",
       "      <td>18.19169</td>\n",
       "      <td>17.47428</td>\n",
       "      <td>17.08732</td>\n",
       "      <td>16.80125</td>\n",
       "      <td>752</td>\n",
       "      <td>301</td>\n",
       "      <td>4</td>\n",
       "      <td>268</td>\n",
       "      <td>323274319570429952</td>\n",
       "      <td>GALAXY</td>\n",
       "      <td>0.123111</td>\n",
       "      <td>287</td>\n",
       "      <td>52023</td>\n",
       "      <td>513</td>\n",
       "    </tr>\n",
       "    <tr>\n",
       "      <th>3</th>\n",
       "      <td>183.870529</td>\n",
       "      <td>0.049911</td>\n",
       "      <td>17.76536</td>\n",
       "      <td>16.60272</td>\n",
       "      <td>16.16116</td>\n",
       "      <td>15.98233</td>\n",
       "      <td>15.90438</td>\n",
       "      <td>752</td>\n",
       "      <td>301</td>\n",
       "      <td>4</td>\n",
       "      <td>269</td>\n",
       "      <td>3722365362331820032</td>\n",
       "      <td>STAR</td>\n",
       "      <td>-0.000111</td>\n",
       "      <td>3306</td>\n",
       "      <td>54922</td>\n",
       "      <td>510</td>\n",
       "    </tr>\n",
       "    <tr>\n",
       "      <th>4</th>\n",
       "      <td>183.883288</td>\n",
       "      <td>0.102557</td>\n",
       "      <td>17.55025</td>\n",
       "      <td>16.26342</td>\n",
       "      <td>16.43869</td>\n",
       "      <td>16.55492</td>\n",
       "      <td>16.61326</td>\n",
       "      <td>752</td>\n",
       "      <td>301</td>\n",
       "      <td>4</td>\n",
       "      <td>269</td>\n",
       "      <td>3722365912087633920</td>\n",
       "      <td>STAR</td>\n",
       "      <td>0.000590</td>\n",
       "      <td>3306</td>\n",
       "      <td>54922</td>\n",
       "      <td>512</td>\n",
       "    </tr>\n",
       "  </tbody>\n",
       "</table>\n",
       "</div>"
      ],
      "text/plain": [
       "           ra       dec         u         g         r         i         z  \\\n",
       "0  183.531326  0.089693  19.47406  17.04240  15.94699  15.50342  15.22531   \n",
       "1  183.598371  0.135285  18.66280  17.21449  16.67637  16.48922  16.39150   \n",
       "2  183.680207  0.126185  19.38298  18.19169  17.47428  17.08732  16.80125   \n",
       "3  183.870529  0.049911  17.76536  16.60272  16.16116  15.98233  15.90438   \n",
       "4  183.883288  0.102557  17.55025  16.26342  16.43869  16.55492  16.61326   \n",
       "\n",
       "   run  rerun  camcol  field            specobjid   class  redshift  plate  \\\n",
       "0  752    301       4    267  3722360139651588096    STAR -0.000009   3306   \n",
       "1  752    301       4    267   363814405953054720    STAR -0.000055    323   \n",
       "2  752    301       4    268   323274319570429952  GALAXY  0.123111    287   \n",
       "3  752    301       4    269  3722365362331820032    STAR -0.000111   3306   \n",
       "4  752    301       4    269  3722365912087633920    STAR  0.000590   3306   \n",
       "\n",
       "     mjd  fiberid  \n",
       "0  54922      491  \n",
       "1  51615      541  \n",
       "2  52023      513  \n",
       "3  54922      510  \n",
       "4  54922      512  "
      ]
     },
     "execution_count": 28,
     "metadata": {},
     "output_type": "execute_result"
    }
   ],
   "source": [
    "df.head()"
   ]
  },
  {
   "cell_type": "code",
   "execution_count": 29,
   "metadata": {},
   "outputs": [
    {
     "data": {
      "text/html": [
       "<div>\n",
       "<style scoped>\n",
       "    .dataframe tbody tr th:only-of-type {\n",
       "        vertical-align: middle;\n",
       "    }\n",
       "\n",
       "    .dataframe tbody tr th {\n",
       "        vertical-align: top;\n",
       "    }\n",
       "\n",
       "    .dataframe thead th {\n",
       "        text-align: right;\n",
       "    }\n",
       "</style>\n",
       "<table border=\"1\" class=\"dataframe\">\n",
       "  <thead>\n",
       "    <tr style=\"text-align: right;\">\n",
       "      <th></th>\n",
       "      <th>ra</th>\n",
       "      <th>dec</th>\n",
       "      <th>u</th>\n",
       "      <th>g</th>\n",
       "      <th>r</th>\n",
       "      <th>i</th>\n",
       "      <th>z</th>\n",
       "      <th>run</th>\n",
       "      <th>rerun</th>\n",
       "      <th>camcol</th>\n",
       "      <th>field</th>\n",
       "      <th>specobjid</th>\n",
       "      <th>class</th>\n",
       "      <th>redshift</th>\n",
       "      <th>plate</th>\n",
       "      <th>mjd</th>\n",
       "      <th>fiberid</th>\n",
       "    </tr>\n",
       "  </thead>\n",
       "  <tbody>\n",
       "    <tr>\n",
       "      <th>0</th>\n",
       "      <td>False</td>\n",
       "      <td>False</td>\n",
       "      <td>False</td>\n",
       "      <td>False</td>\n",
       "      <td>False</td>\n",
       "      <td>False</td>\n",
       "      <td>False</td>\n",
       "      <td>False</td>\n",
       "      <td>False</td>\n",
       "      <td>False</td>\n",
       "      <td>False</td>\n",
       "      <td>False</td>\n",
       "      <td>False</td>\n",
       "      <td>False</td>\n",
       "      <td>False</td>\n",
       "      <td>False</td>\n",
       "      <td>False</td>\n",
       "    </tr>\n",
       "    <tr>\n",
       "      <th>1</th>\n",
       "      <td>False</td>\n",
       "      <td>False</td>\n",
       "      <td>False</td>\n",
       "      <td>False</td>\n",
       "      <td>False</td>\n",
       "      <td>False</td>\n",
       "      <td>False</td>\n",
       "      <td>False</td>\n",
       "      <td>False</td>\n",
       "      <td>False</td>\n",
       "      <td>False</td>\n",
       "      <td>False</td>\n",
       "      <td>False</td>\n",
       "      <td>False</td>\n",
       "      <td>False</td>\n",
       "      <td>False</td>\n",
       "      <td>False</td>\n",
       "    </tr>\n",
       "    <tr>\n",
       "      <th>2</th>\n",
       "      <td>False</td>\n",
       "      <td>False</td>\n",
       "      <td>False</td>\n",
       "      <td>False</td>\n",
       "      <td>False</td>\n",
       "      <td>False</td>\n",
       "      <td>False</td>\n",
       "      <td>False</td>\n",
       "      <td>False</td>\n",
       "      <td>False</td>\n",
       "      <td>False</td>\n",
       "      <td>False</td>\n",
       "      <td>False</td>\n",
       "      <td>False</td>\n",
       "      <td>False</td>\n",
       "      <td>False</td>\n",
       "      <td>False</td>\n",
       "    </tr>\n",
       "    <tr>\n",
       "      <th>3</th>\n",
       "      <td>False</td>\n",
       "      <td>False</td>\n",
       "      <td>False</td>\n",
       "      <td>False</td>\n",
       "      <td>False</td>\n",
       "      <td>False</td>\n",
       "      <td>False</td>\n",
       "      <td>False</td>\n",
       "      <td>False</td>\n",
       "      <td>False</td>\n",
       "      <td>False</td>\n",
       "      <td>False</td>\n",
       "      <td>False</td>\n",
       "      <td>False</td>\n",
       "      <td>False</td>\n",
       "      <td>False</td>\n",
       "      <td>False</td>\n",
       "    </tr>\n",
       "    <tr>\n",
       "      <th>4</th>\n",
       "      <td>False</td>\n",
       "      <td>False</td>\n",
       "      <td>False</td>\n",
       "      <td>False</td>\n",
       "      <td>False</td>\n",
       "      <td>False</td>\n",
       "      <td>False</td>\n",
       "      <td>False</td>\n",
       "      <td>False</td>\n",
       "      <td>False</td>\n",
       "      <td>False</td>\n",
       "      <td>False</td>\n",
       "      <td>False</td>\n",
       "      <td>False</td>\n",
       "      <td>False</td>\n",
       "      <td>False</td>\n",
       "      <td>False</td>\n",
       "    </tr>\n",
       "    <tr>\n",
       "      <th>...</th>\n",
       "      <td>...</td>\n",
       "      <td>...</td>\n",
       "      <td>...</td>\n",
       "      <td>...</td>\n",
       "      <td>...</td>\n",
       "      <td>...</td>\n",
       "      <td>...</td>\n",
       "      <td>...</td>\n",
       "      <td>...</td>\n",
       "      <td>...</td>\n",
       "      <td>...</td>\n",
       "      <td>...</td>\n",
       "      <td>...</td>\n",
       "      <td>...</td>\n",
       "      <td>...</td>\n",
       "      <td>...</td>\n",
       "      <td>...</td>\n",
       "    </tr>\n",
       "    <tr>\n",
       "      <th>9995</th>\n",
       "      <td>False</td>\n",
       "      <td>False</td>\n",
       "      <td>False</td>\n",
       "      <td>False</td>\n",
       "      <td>False</td>\n",
       "      <td>False</td>\n",
       "      <td>False</td>\n",
       "      <td>False</td>\n",
       "      <td>False</td>\n",
       "      <td>False</td>\n",
       "      <td>False</td>\n",
       "      <td>False</td>\n",
       "      <td>False</td>\n",
       "      <td>False</td>\n",
       "      <td>False</td>\n",
       "      <td>False</td>\n",
       "      <td>False</td>\n",
       "    </tr>\n",
       "    <tr>\n",
       "      <th>9996</th>\n",
       "      <td>False</td>\n",
       "      <td>False</td>\n",
       "      <td>False</td>\n",
       "      <td>False</td>\n",
       "      <td>False</td>\n",
       "      <td>False</td>\n",
       "      <td>False</td>\n",
       "      <td>False</td>\n",
       "      <td>False</td>\n",
       "      <td>False</td>\n",
       "      <td>False</td>\n",
       "      <td>False</td>\n",
       "      <td>False</td>\n",
       "      <td>False</td>\n",
       "      <td>False</td>\n",
       "      <td>False</td>\n",
       "      <td>False</td>\n",
       "    </tr>\n",
       "    <tr>\n",
       "      <th>9997</th>\n",
       "      <td>False</td>\n",
       "      <td>False</td>\n",
       "      <td>False</td>\n",
       "      <td>False</td>\n",
       "      <td>False</td>\n",
       "      <td>False</td>\n",
       "      <td>False</td>\n",
       "      <td>False</td>\n",
       "      <td>False</td>\n",
       "      <td>False</td>\n",
       "      <td>False</td>\n",
       "      <td>False</td>\n",
       "      <td>False</td>\n",
       "      <td>False</td>\n",
       "      <td>False</td>\n",
       "      <td>False</td>\n",
       "      <td>False</td>\n",
       "    </tr>\n",
       "    <tr>\n",
       "      <th>9998</th>\n",
       "      <td>False</td>\n",
       "      <td>False</td>\n",
       "      <td>False</td>\n",
       "      <td>False</td>\n",
       "      <td>False</td>\n",
       "      <td>False</td>\n",
       "      <td>False</td>\n",
       "      <td>False</td>\n",
       "      <td>False</td>\n",
       "      <td>False</td>\n",
       "      <td>False</td>\n",
       "      <td>False</td>\n",
       "      <td>False</td>\n",
       "      <td>False</td>\n",
       "      <td>False</td>\n",
       "      <td>False</td>\n",
       "      <td>False</td>\n",
       "    </tr>\n",
       "    <tr>\n",
       "      <th>9999</th>\n",
       "      <td>False</td>\n",
       "      <td>False</td>\n",
       "      <td>False</td>\n",
       "      <td>False</td>\n",
       "      <td>False</td>\n",
       "      <td>False</td>\n",
       "      <td>False</td>\n",
       "      <td>False</td>\n",
       "      <td>False</td>\n",
       "      <td>False</td>\n",
       "      <td>False</td>\n",
       "      <td>False</td>\n",
       "      <td>False</td>\n",
       "      <td>False</td>\n",
       "      <td>False</td>\n",
       "      <td>False</td>\n",
       "      <td>False</td>\n",
       "    </tr>\n",
       "  </tbody>\n",
       "</table>\n",
       "<p>10000 rows × 17 columns</p>\n",
       "</div>"
      ],
      "text/plain": [
       "         ra    dec      u      g      r      i      z    run  rerun  camcol  \\\n",
       "0     False  False  False  False  False  False  False  False  False   False   \n",
       "1     False  False  False  False  False  False  False  False  False   False   \n",
       "2     False  False  False  False  False  False  False  False  False   False   \n",
       "3     False  False  False  False  False  False  False  False  False   False   \n",
       "4     False  False  False  False  False  False  False  False  False   False   \n",
       "...     ...    ...    ...    ...    ...    ...    ...    ...    ...     ...   \n",
       "9995  False  False  False  False  False  False  False  False  False   False   \n",
       "9996  False  False  False  False  False  False  False  False  False   False   \n",
       "9997  False  False  False  False  False  False  False  False  False   False   \n",
       "9998  False  False  False  False  False  False  False  False  False   False   \n",
       "9999  False  False  False  False  False  False  False  False  False   False   \n",
       "\n",
       "      field  specobjid  class  redshift  plate    mjd  fiberid  \n",
       "0     False      False  False     False  False  False    False  \n",
       "1     False      False  False     False  False  False    False  \n",
       "2     False      False  False     False  False  False    False  \n",
       "3     False      False  False     False  False  False    False  \n",
       "4     False      False  False     False  False  False    False  \n",
       "...     ...        ...    ...       ...    ...    ...      ...  \n",
       "9995  False      False  False     False  False  False    False  \n",
       "9996  False      False  False     False  False  False    False  \n",
       "9997  False      False  False     False  False  False    False  \n",
       "9998  False      False  False     False  False  False    False  \n",
       "9999  False      False  False     False  False  False    False  \n",
       "\n",
       "[10000 rows x 17 columns]"
      ]
     },
     "execution_count": 29,
     "metadata": {},
     "output_type": "execute_result"
    }
   ],
   "source": [
    "pd.isna(df) # .any()"
   ]
  },
  {
   "cell_type": "code",
   "execution_count": 30,
   "metadata": {},
   "outputs": [
    {
     "data": {
      "text/plain": [
       "<AxesSubplot:>"
      ]
     },
     "execution_count": 30,
     "metadata": {},
     "output_type": "execute_result"
    },
    {
     "data": {
      "image/png": "[encoded data removed]",
      "text/plain": [
       "<Figure size 432x288 with 1 Axes>"
      ]
     },
     "metadata": {
      "needs_background": "light"
     },
     "output_type": "display_data"
    }
   ],
   "source": [
    "df['class'].value_counts().plot(kind='bar')"
   ]
  },
  {
   "cell_type": "code",
   "execution_count": 31,
   "metadata": {},
   "outputs": [
    {
     "data": {
      "text/plain": [
       "GALAXY    4998\n",
       "STAR      4152\n",
       "QSO        850\n",
       "Name: class, dtype: int64"
      ]
     },
     "execution_count": 31,
     "metadata": {},
     "output_type": "execute_result"
    }
   ],
   "source": [
    "df['class'].value_counts()"
   ]
  },
  {
   "cell_type": "markdown",
   "metadata": {},
   "source": [
    "# Workflow"
   ]
  },
  {
   "cell_type": "markdown",
   "metadata": {},
   "source": [
    "![](data/grid_search_workflow.png)\n",
    "From: https://scikit-learn.org/stable/modules/cross_validation.html"
   ]
  },
  {
   "cell_type": "markdown",
   "metadata": {},
   "source": [
    "# Data split"
   ]
  },
  {
   "cell_type": "code",
   "execution_count": 32,
   "metadata": {},
   "outputs": [],
   "source": [
    "y = df.pop('class')\n",
    "X = df"
   ]
  },
  {
   "cell_type": "code",
   "execution_count": 33,
   "metadata": {},
   "outputs": [],
   "source": [
    "from sklearn.impute import KNNImputer\n",
    "imputer = KNNImputer(n_neighbors=3)\n",
    "# X = imputer.fit_transform(X)"
   ]
  },
  {
   "cell_type": "markdown",
   "metadata": {},
   "source": [
    "![](data/knn_example.png)\n",
    "From: Cheng, Debo, et al. \"kNN algorithm with data-driven k value.\" International Conference on Advanced Data Mining and Applications. Springer, Cham, 2014."
   ]
  },
  {
   "cell_type": "code",
   "execution_count": 34,
   "metadata": {},
   "outputs": [],
   "source": [
    "from sklearn.model_selection import train_test_split\n",
    "X_train, X_test, y_train, y_test = train_test_split(X, y, test_size=0.2, stratify=y, random_state=24112020)"
   ]
  },
  {
   "cell_type": "markdown",
   "metadata": {},
   "source": [
    "# Cross Validation"
   ]
  },
  {
   "cell_type": "markdown",
   "metadata": {},
   "source": [
    "![](data/grid_search_cross_validation.png)\n",
    "From: https://scikit-learn.org/stable/modules/cross_validation.html"
   ]
  },
  {
   "cell_type": "markdown",
   "metadata": {},
   "source": [
    "# Decision Tree"
   ]
  },
  {
   "cell_type": "markdown",
   "metadata": {},
   "source": [
    "![](data/dt_example.png)\n",
    "From: https://towardsai.net/p/programming/decision-trees-explained-with-a-practical-example-fe47872d3b53"
   ]
  },
  {
   "cell_type": "code",
   "execution_count": 35,
   "metadata": {},
   "outputs": [],
   "source": [
    "# https://scikit-learn.org/stable/modules/generated/sklearn.tree.DecisionTreeClassifier.html?highlight=tree#sklearn.tree.DecisionTreeClassifier\n",
    "from sklearn.metrics import classification_report\n",
    "from sklearn.model_selection import cross_val_predict, GridSearchCV, StratifiedKFold\n",
    "from sklearn import tree"
   ]
  },
  {
   "cell_type": "code",
   "execution_count": 36,
   "metadata": {},
   "outputs": [],
   "source": [
    "parameters = {'criterion':('gini', 'entropy'), \n",
    "              'max_depth':[5, 10, 15, None]}"
   ]
  },
  {
   "cell_type": "code",
   "execution_count": 37,
   "metadata": {},
   "outputs": [],
   "source": [
    "clf = tree.DecisionTreeClassifier(random_state=24112020)"
   ]
  },
  {
   "cell_type": "code",
   "execution_count": 38,
   "metadata": {},
   "outputs": [],
   "source": [
    "clf = GridSearchCV(clf, parameters, refit=True, cv=StratifiedKFold(), n_jobs=4)"
   ]
  },
  {
   "cell_type": "code",
   "execution_count": 39,
   "metadata": {},
   "outputs": [
    {
     "data": {
      "text/plain": [
       "GridSearchCV(cv=StratifiedKFold(n_splits=5, random_state=None, shuffle=False),\n",
       "             estimator=DecisionTreeClassifier(random_state=24112020), n_jobs=4,\n",
       "             param_grid={'criterion': ('gini', 'entropy'),\n",
       "                         'max_depth': [5, 10, 15, None]})"
      ]
     },
     "execution_count": 39,
     "metadata": {},
     "output_type": "execute_result"
    }
   ],
   "source": [
    "clf.fit(X_train, y_train)"
   ]
  },
  {
   "cell_type": "code",
   "execution_count": 40,
   "metadata": {},
   "outputs": [
    {
     "data": {
      "text/plain": [
       "DecisionTreeClassifier(criterion='entropy', max_depth=5, random_state=24112020)"
      ]
     },
     "execution_count": 40,
     "metadata": {},
     "output_type": "execute_result"
    }
   ],
   "source": [
    "clf.best_estimator_"
   ]
  },
  {
   "cell_type": "code",
   "execution_count": 41,
   "metadata": {},
   "outputs": [],
   "source": [
    "clf = clf.best_estimator_"
   ]
  },
  {
   "cell_type": "code",
   "execution_count": 42,
   "metadata": {},
   "outputs": [],
   "source": [
    "y_pred = clf.predict(X_test)"
   ]
  },
  {
   "cell_type": "code",
   "execution_count": 43,
   "metadata": {},
   "outputs": [
    {
     "name": "stdout",
     "output_type": "stream",
     "text": [
      "              precision    recall  f1-score   support\n",
      "\n",
      "      GALAXY       0.98      0.99      0.99      1000\n",
      "         QSO       0.94      0.91      0.93       170\n",
      "        STAR       1.00      1.00      1.00       830\n",
      "\n",
      "    accuracy                           0.99      2000\n",
      "   macro avg       0.97      0.97      0.97      2000\n",
      "weighted avg       0.99      0.99      0.99      2000\n",
      "\n"
     ]
    }
   ],
   "source": [
    "print(classification_report(y_test, y_pred))"
   ]
  },
  {
   "cell_type": "code",
   "execution_count": 44,
   "metadata": {},
   "outputs": [
    {
     "data": {
      "image/png": "[encoded data removed]",
      "text/plain": [
       "<Figure size 2880x1440 with 1 Axes>"
      ]
     },
     "metadata": {
      "needs_background": "light"
     },
     "output_type": "display_data"
    }
   ],
   "source": [
    "plt.figure(figsize=(40,20))\n",
    "tree.plot_tree(clf, feature_names=X.columns, class_names=['GALAXY', 'QSAR', 'STAR']);"
   ]
  },
  {
   "cell_type": "markdown",
   "metadata": {},
   "source": [
    "# Random Forest"
   ]
  },
  {
   "cell_type": "markdown",
   "metadata": {},
   "source": [
    "![](data/rf_example.png)\n",
    "From: https://rpubs.com/Avalos42/randomforest"
   ]
  },
  {
   "cell_type": "code",
   "execution_count": 45,
   "metadata": {},
   "outputs": [],
   "source": [
    "from sklearn.ensemble import RandomForestClassifier\n",
    "# https://scikit-learn.org/stable/modules/generated/sklearn.ensemble.RandomForestClassifier.html"
   ]
  },
  {
   "cell_type": "code",
   "execution_count": 46,
   "metadata": {},
   "outputs": [],
   "source": [
    "parameters = {'criterion': ['gini', 'entropy'],\n",
    "              'n_estimators': [5, 10, 15, 20],\n",
    "              'max_depth': [5, 10, 15, None]}"
   ]
  },
  {
   "cell_type": "code",
   "execution_count": 47,
   "metadata": {},
   "outputs": [],
   "source": [
    "clf = RandomForestClassifier(random_state=24112020)\n"
   ]
  },
  {
   "cell_type": "code",
   "execution_count": 48,
   "metadata": {},
   "outputs": [],
   "source": [
    "clf = GridSearchCV(clf, parameters, refit=True, cv=StratifiedKFold(), n_jobs=4)"
   ]
  },
  {
   "cell_type": "code",
   "execution_count": 49,
   "metadata": {},
   "outputs": [
    {
     "data": {
      "text/plain": [
       "GridSearchCV(cv=StratifiedKFold(n_splits=5, random_state=None, shuffle=False),\n",
       "             estimator=RandomForestClassifier(random_state=24112020), n_jobs=4,\n",
       "             param_grid={'criterion': ['gini', 'entropy'],\n",
       "                         'max_depth': [5, 10, 15, None],\n",
       "                         'n_estimators': [5, 10, 15, 20]})"
      ]
     },
     "execution_count": 49,
     "metadata": {},
     "output_type": "execute_result"
    }
   ],
   "source": [
    "clf.fit(X_train, y_train)"
   ]
  },
  {
   "cell_type": "code",
   "execution_count": 50,
   "metadata": {},
   "outputs": [
    {
     "data": {
      "text/plain": [
       "RandomForestClassifier(max_depth=15, n_estimators=15, random_state=24112020)"
      ]
     },
     "execution_count": 50,
     "metadata": {},
     "output_type": "execute_result"
    }
   ],
   "source": [
    "clf.best_estimator_"
   ]
  },
  {
   "cell_type": "code",
   "execution_count": 51,
   "metadata": {},
   "outputs": [],
   "source": [
    "clf = clf.best_estimator_"
   ]
  },
  {
   "cell_type": "code",
   "execution_count": 52,
   "metadata": {},
   "outputs": [],
   "source": [
    "y_pred = clf.predict(X_test)"
   ]
  },
  {
   "cell_type": "code",
   "execution_count": 53,
   "metadata": {},
   "outputs": [
    {
     "name": "stdout",
     "output_type": "stream",
     "text": [
      "              precision    recall  f1-score   support\n",
      "\n",
      "      GALAXY       0.99      0.99      0.99      1000\n",
      "         QSO       0.96      0.93      0.94       170\n",
      "        STAR       1.00      1.00      1.00       830\n",
      "\n",
      "    accuracy                           0.99      2000\n",
      "   macro avg       0.98      0.97      0.98      2000\n",
      "weighted avg       0.99      0.99      0.99      2000\n",
      "\n"
     ]
    }
   ],
   "source": [
    "print(classification_report(y_test, y_pred))"
   ]
  },
  {
   "cell_type": "code",
   "execution_count": 54,
   "metadata": {},
   "outputs": [
    {
     "data": {
      "text/plain": [
       "array([0.00391372, 0.0032789 , 0.02165442, 0.02865361, 0.01082761,\n",
       "       0.10353049, 0.0497029 , 0.00244479, 0.        , 0.00107068,\n",
       "       0.00400284, 0.14607243, 0.56476699, 0.03300232, 0.02383341,\n",
       "       0.0032449 ])"
      ]
     },
     "execution_count": 54,
     "metadata": {},
     "output_type": "execute_result"
    }
   ],
   "source": [
    "feature_importance = clf.feature_importances_\n",
    "feature_importance"
   ]
  },
  {
   "cell_type": "code",
   "execution_count": 55,
   "metadata": {},
   "outputs": [
    {
     "data": {
      "text/html": [
       "<div>\n",
       "<style scoped>\n",
       "    .dataframe tbody tr th:only-of-type {\n",
       "        vertical-align: middle;\n",
       "    }\n",
       "\n",
       "    .dataframe tbody tr th {\n",
       "        vertical-align: top;\n",
       "    }\n",
       "\n",
       "    .dataframe thead th {\n",
       "        text-align: right;\n",
       "    }\n",
       "</style>\n",
       "<table border=\"1\" class=\"dataframe\">\n",
       "  <thead>\n",
       "    <tr style=\"text-align: right;\">\n",
       "      <th></th>\n",
       "      <th>Feature</th>\n",
       "      <th>Importance</th>\n",
       "    </tr>\n",
       "  </thead>\n",
       "  <tbody>\n",
       "    <tr>\n",
       "      <th>12</th>\n",
       "      <td>redshift</td>\n",
       "      <td>0.564767</td>\n",
       "    </tr>\n",
       "    <tr>\n",
       "      <th>11</th>\n",
       "      <td>specobjid</td>\n",
       "      <td>0.146072</td>\n",
       "    </tr>\n",
       "    <tr>\n",
       "      <th>5</th>\n",
       "      <td>i</td>\n",
       "      <td>0.10353</td>\n",
       "    </tr>\n",
       "    <tr>\n",
       "      <th>6</th>\n",
       "      <td>z</td>\n",
       "      <td>0.0497029</td>\n",
       "    </tr>\n",
       "    <tr>\n",
       "      <th>13</th>\n",
       "      <td>plate</td>\n",
       "      <td>0.0330023</td>\n",
       "    </tr>\n",
       "    <tr>\n",
       "      <th>3</th>\n",
       "      <td>g</td>\n",
       "      <td>0.0286536</td>\n",
       "    </tr>\n",
       "    <tr>\n",
       "      <th>14</th>\n",
       "      <td>mjd</td>\n",
       "      <td>0.0238334</td>\n",
       "    </tr>\n",
       "    <tr>\n",
       "      <th>2</th>\n",
       "      <td>u</td>\n",
       "      <td>0.0216544</td>\n",
       "    </tr>\n",
       "    <tr>\n",
       "      <th>4</th>\n",
       "      <td>r</td>\n",
       "      <td>0.0108276</td>\n",
       "    </tr>\n",
       "    <tr>\n",
       "      <th>10</th>\n",
       "      <td>field</td>\n",
       "      <td>0.00400284</td>\n",
       "    </tr>\n",
       "    <tr>\n",
       "      <th>0</th>\n",
       "      <td>ra</td>\n",
       "      <td>0.00391372</td>\n",
       "    </tr>\n",
       "    <tr>\n",
       "      <th>1</th>\n",
       "      <td>dec</td>\n",
       "      <td>0.0032789</td>\n",
       "    </tr>\n",
       "    <tr>\n",
       "      <th>15</th>\n",
       "      <td>fiberid</td>\n",
       "      <td>0.0032449</td>\n",
       "    </tr>\n",
       "    <tr>\n",
       "      <th>7</th>\n",
       "      <td>run</td>\n",
       "      <td>0.00244479</td>\n",
       "    </tr>\n",
       "    <tr>\n",
       "      <th>9</th>\n",
       "      <td>camcol</td>\n",
       "      <td>0.00107068</td>\n",
       "    </tr>\n",
       "    <tr>\n",
       "      <th>8</th>\n",
       "      <td>rerun</td>\n",
       "      <td>0</td>\n",
       "    </tr>\n",
       "  </tbody>\n",
       "</table>\n",
       "</div>"
      ],
      "text/plain": [
       "      Feature  Importance\n",
       "12   redshift    0.564767\n",
       "11  specobjid    0.146072\n",
       "5           i     0.10353\n",
       "6           z   0.0497029\n",
       "13      plate   0.0330023\n",
       "3           g   0.0286536\n",
       "14        mjd   0.0238334\n",
       "2           u   0.0216544\n",
       "4           r   0.0108276\n",
       "10      field  0.00400284\n",
       "0          ra  0.00391372\n",
       "1         dec   0.0032789\n",
       "15    fiberid   0.0032449\n",
       "7         run  0.00244479\n",
       "9      camcol  0.00107068\n",
       "8       rerun           0"
      ]
     },
     "execution_count": 55,
     "metadata": {},
     "output_type": "execute_result"
    }
   ],
   "source": [
    "fs_df = pd.DataFrame([X.columns, feature_importance]).T\n",
    "fs_df.columns = ['Feature', 'Importance']\n",
    "fs_df.sort_values(by='Importance', ascending=False)"
   ]
  },
  {
   "cell_type": "markdown",
   "metadata": {},
   "source": [
    "# Support Vector Machine (SVM)"
   ]
  },
  {
   "cell_type": "code",
   "execution_count": 56,
   "metadata": {},
   "outputs": [],
   "source": [
    "from sklearn.pipeline import make_pipeline\n",
    "from sklearn.preprocessing import StandardScaler\n",
    "from sklearn.svm import SVC\n",
    "# https://scikit-learn.org/stable/modules/generated/sklearn.svm.SVC.html"
   ]
  },
  {
   "cell_type": "code",
   "execution_count": 57,
   "metadata": {},
   "outputs": [],
   "source": [
    "parameters = {'svc__kernel': ['rbf', 'linear', 'poly']}"
   ]
  },
  {
   "cell_type": "code",
   "execution_count": 58,
   "metadata": {},
   "outputs": [],
   "source": [
    "clf = make_pipeline(StandardScaler(), SVC(random_state=24112020))"
   ]
  },
  {
   "cell_type": "code",
   "execution_count": 59,
   "metadata": {},
   "outputs": [],
   "source": [
    "clf = GridSearchCV(clf, parameters, refit=True, cv=StratifiedKFold(), n_jobs=4)"
   ]
  },
  {
   "cell_type": "code",
   "execution_count": 60,
   "metadata": {},
   "outputs": [
    {
     "data": {
      "text/plain": [
       "GridSearchCV(cv=StratifiedKFold(n_splits=5, random_state=None, shuffle=False),\n",
       "             estimator=Pipeline(steps=[('standardscaler', StandardScaler()),\n",
       "                                       ('svc', SVC(random_state=24112020))]),\n",
       "             n_jobs=4, param_grid={'svc__kernel': ['rbf', 'linear', 'poly']})"
      ]
     },
     "execution_count": 60,
     "metadata": {},
     "output_type": "execute_result"
    }
   ],
   "source": [
    "clf.fit(X_train['redshift'].values.reshape(-1, 1), y_train)"
   ]
  },
  {
   "cell_type": "code",
   "execution_count": 61,
   "metadata": {},
   "outputs": [
    {
     "data": {
      "text/plain": [
       "Pipeline(steps=[('standardscaler', StandardScaler()),\n",
       "                ('svc', SVC(random_state=24112020))])"
      ]
     },
     "execution_count": 61,
     "metadata": {},
     "output_type": "execute_result"
    }
   ],
   "source": [
    "clf.best_estimator_"
   ]
  },
  {
   "cell_type": "code",
   "execution_count": 62,
   "metadata": {},
   "outputs": [],
   "source": [
    "clf = clf.best_estimator_"
   ]
  },
  {
   "cell_type": "code",
   "execution_count": 63,
   "metadata": {},
   "outputs": [],
   "source": [
    "y_pred = clf.predict(X_test['redshift'].values.reshape(-1, 1))"
   ]
  },
  {
   "cell_type": "code",
   "execution_count": 64,
   "metadata": {},
   "outputs": [
    {
     "name": "stdout",
     "output_type": "stream",
     "text": [
      "              precision    recall  f1-score   support\n",
      "\n",
      "      GALAXY       0.98      0.98      0.98      1000\n",
      "         QSO       0.96      0.88      0.92       170\n",
      "        STAR       0.99      1.00      0.99       830\n",
      "\n",
      "    accuracy                           0.98      2000\n",
      "   macro avg       0.98      0.95      0.96      2000\n",
      "weighted avg       0.98      0.98      0.98      2000\n",
      "\n"
     ]
    }
   ],
   "source": [
    "print(classification_report(y_test, y_pred))"
   ]
  },
  {
   "cell_type": "markdown",
   "metadata": {},
   "source": [
    "# Clustering (K-Means)"
   ]
  },
  {
   "cell_type": "code",
   "execution_count": 65,
   "metadata": {},
   "outputs": [],
   "source": [
    "from sklearn.cluster import KMeans"
   ]
  },
  {
   "cell_type": "code",
   "execution_count": 66,
   "metadata": {},
   "outputs": [
    {
     "data": {
      "text/plain": [
       "Text(0.5, 1.0, 'Elbow curve')"
      ]
     },
     "execution_count": 66,
     "metadata": {},
     "output_type": "execute_result"
    },
    {
     "data": {
      "image/png": "[encoded data removed]",
      "text/plain": [
       "<Figure size 1080x360 with 1 Axes>"
      ]
     },
     "metadata": {
      "needs_background": "light"
     },
     "output_type": "display_data"
    }
   ],
   "source": [
    "distorsions = []\n",
    "labels = []\n",
    "centroids = []\n",
    "X = X[['ra', 'dec', 'redshift']]\n",
    "X_test = X_test[['ra', 'dec', 'redshift']]\n",
    "for k in range(2, 10):\n",
    "    clf = KMeans(n_clusters=k, random_state=24112020)\n",
    "    clf.fit(X)\n",
    "    labels.append(clf.predict(X_test))\n",
    "    distorsions.append(clf.inertia_)\n",
    "    centroids.append(clf.cluster_centers_)\n",
    "\n",
    "fig = plt.figure(figsize=(15, 5))\n",
    "plt.plot(range(2, 10), distorsions)\n",
    "plt.grid(True)\n",
    "plt.title('Elbow curve')"
   ]
  },
  {
   "cell_type": "code",
   "execution_count": 67,
   "metadata": {},
   "outputs": [],
   "source": [
    "%matplotlib notebook"
   ]
  },
  {
   "cell_type": "code",
   "execution_count": 68,
   "metadata": {},
   "outputs": [
    {
     "data": {
      "application/javascript": [
       "/* Put everything inside the global mpl namespace */\n",
       "/* global mpl */\n",
       "window.mpl = {};\n",
       "\n",
       "mpl.get_websocket_type = function () {\n",
       "    if (typeof WebSocket !== 'undefined') {\n",
       "        return WebSocket;\n",
       "    } else if (typeof MozWebSocket !== 'undefined') {\n",
       "        return MozWebSocket;\n",
       "    } else {\n",
       "        alert(\n",
       "            'Your browser does not have WebSocket support. ' +\n",
       "                'Please try Chrome, Safari or Firefox ≥ 6. ' +\n",
       "                'Firefox 4 and 5 are also supported but you ' +\n",
       "                'have to enable WebSockets in about:config.'\n",
       "        );\n",
       "    }\n",
       "};\n",
       "\n",
       "mpl.figure = function (figure_id, websocket, ondownload, parent_element) {\n",
       "    this.id = figure_id;\n",
       "\n",
       "    this.ws = websocket;\n",
       "\n",
       "    this.supports_binary = this.ws.binaryType !== undefined;\n",
       "\n",
       "    if (!this.supports_binary) {\n",
       "        var warnings = document.getElementById('mpl-warnings');\n",
       "        if (warnings) {\n",
       "            warnings.style.display = 'block';\n",
       "            warnings.textContent =\n",
       "                'This browser does not support binary websocket messages. ' +\n",
       "                'Performance may be slow.';\n",
       "        }\n",
       "    }\n",
       "\n",
       "    this.imageObj = new Image();\n",
       "\n",
       "    this.context = undefined;\n",
       "    this.message = undefined;\n",
       "    this.canvas = undefined;\n",
       "    this.rubberband_canvas = undefined;\n",
       "    this.rubberband_context = undefined;\n",
       "    this.format_dropdown = undefined;\n",
       "\n",
       "    this.image_mode = 'full';\n",
       "\n",
       "    this.root = document.createElement('div');\n",
       "    this.root.setAttribute('style', 'display: inline-block');\n",
       "    this._root_extra_style(this.root);\n",
       "\n",
       "    parent_element.appendChild(this.root);\n",
       "\n",
       "    this._init_header(this);\n",
       "    this._init_canvas(this);\n",
       "    this._init_toolbar(this);\n",
       "\n",
       "    var fig = this;\n",
       "\n",
       "    this.waiting = false;\n",
       "\n",
       "    this.ws.onopen = function () {\n",
       "        fig.send_message('supports_binary', { value: fig.supports_binary });\n",
       "        fig.send_message('send_image_mode', {});\n",
       "        if (fig.ratio !== 1) {\n",
       "            fig.send_message('set_dpi_ratio', { dpi_ratio: fig.ratio });\n",
       "        }\n",
       "        fig.send_message('refresh', {});\n",
       "    };\n",
       "\n",
       "    this.imageObj.onload = function () {\n",
       "        if (fig.image_mode === 'full') {\n",
       "            // Full images could contain transparency (where diff images\n",
       "            // almost always do), so we need to clear the canvas so that\n",
       "            // there is no ghosting.\n",
       "            fig.context.clearRect(0, 0, fig.canvas.width, fig.canvas.height);\n",
       "        }\n",
       "        fig.context.drawImage(fig.imageObj, 0, 0);\n",
       "    };\n",
       "\n",
       "    this.imageObj.onunload = function () {\n",
       "        fig.ws.close();\n",
       "    };\n",
       "\n",
       "    this.ws.onmessage = this._make_on_message_function(this);\n",
       "\n",
       "    this.ondownload = ondownload;\n",
       "};\n",
       "\n",
       "mpl.figure.prototype._init_header = function () {\n",
       "    var titlebar = document.createElement('div');\n",
       "    titlebar.classList =\n",
       "        'ui-dialog-titlebar ui-widget-header ui-corner-all ui-helper-clearfix';\n",
       "    var titletext = document.createElement('div');\n",
       "    titletext.classList = 'ui-dialog-title';\n",
       "    titletext.setAttribute(\n",
       "        'style',\n",
       "        'width: 100%; text-align: center; padding: 3px;'\n",
       "    );\n",
       "    titlebar.appendChild(titletext);\n",
       "    this.root.appendChild(titlebar);\n",
       "    this.header = titletext;\n",
       "};\n",
       "\n",
       "mpl.figure.prototype._canvas_extra_style = function (_canvas_div) {};\n",
       "\n",
       "mpl.figure.prototype._root_extra_style = function (_canvas_div) {};\n",
       "\n",
       "mpl.figure.prototype._init_canvas = function () {\n",
       "    var fig = this;\n",
       "\n",
       "    var canvas_div = (this.canvas_div = document.createElement('div'));\n",
       "    canvas_div.setAttribute(\n",
       "        'style',\n",
       "        'border: 1px solid #ddd;' +\n",
       "            'box-sizing: content-box;' +\n",
       "            'clear: both;' +\n",
       "            'min-height: 1px;' +\n",
       "            'min-width: 1px;' +\n",
       "            'outline: 0;' +\n",
       "            'overflow: hidden;' +\n",
       "            'position: relative;' +\n",
       "            'resize: both;'\n",
       "    );\n",
       "\n",
       "    function on_keyboard_event_closure(name) {\n",
       "        return function (event) {\n",
       "            return fig.key_event(event, name);\n",
       "        };\n",
       "    }\n",
       "\n",
       "    canvas_div.addEventListener(\n",
       "        'keydown',\n",
       "        on_keyboard_event_closure('key_press')\n",
       "    );\n",
       "    canvas_div.addEventListener(\n",
       "        'keyup',\n",
       "        on_keyboard_event_closure('key_release')\n",
       "    );\n",
       "\n",
       "    this._canvas_extra_style(canvas_div);\n",
       "    this.root.appendChild(canvas_div);\n",
       "\n",
       "    var canvas = (this.canvas = document.createElement('canvas'));\n",
       "    canvas.classList.add('mpl-canvas');\n",
       "    canvas.setAttribute('style', 'box-sizing: content-box;');\n",
       "\n",
       "    this.context = canvas.getContext('2d');\n",
       "\n",
       "    var backingStore =\n",
       "        this.context.backingStorePixelRatio ||\n",
       "        this.context.webkitBackingStorePixelRatio ||\n",
       "        this.context.mozBackingStorePixelRatio ||\n",
       "        this.context.msBackingStorePixelRatio ||\n",
       "        this.context.oBackingStorePixelRatio ||\n",
       "        this.context.backingStorePixelRatio ||\n",
       "        1;\n",
       "\n",
       "    this.ratio = (window.devicePixelRatio || 1) / backingStore;\n",
       "    if (this.ratio !== 1) {\n",
       "        fig.send_message('set_dpi_ratio', { dpi_ratio: this.ratio });\n",
       "    }\n",
       "\n",
       "    var rubberband_canvas = (this.rubberband_canvas = document.createElement(\n",
       "        'canvas'\n",
       "    ));\n",
       "    rubberband_canvas.setAttribute(\n",
       "        'style',\n",
       "        'box-sizing: content-box; position: absolute; left: 0; top: 0; z-index: 1;'\n",
       "    );\n",
       "\n",
       "    var resizeObserver = new ResizeObserver(function (entries) {\n",
       "        var nentries = entries.length;\n",
       "        for (var i = 0; i < nentries; i++) {\n",
       "            var entry = entries[i];\n",
       "            var width, height;\n",
       "            if (entry.contentBoxSize) {\n",
       "                if (entry.contentBoxSize instanceof Array) {\n",
       "                    // Chrome 84 implements new version of spec.\n",
       "                    width = entry.contentBoxSize[0].inlineSize;\n",
       "                    height = entry.contentBoxSize[0].blockSize;\n",
       "                } else {\n",
       "                    // Firefox implements old version of spec.\n",
       "                    width = entry.contentBoxSize.inlineSize;\n",
       "                    height = entry.contentBoxSize.blockSize;\n",
       "                }\n",
       "            } else {\n",
       "                // Chrome <84 implements even older version of spec.\n",
       "                width = entry.contentRect.width;\n",
       "                height = entry.contentRect.height;\n",
       "            }\n",
       "\n",
       "            // Keep the size of the canvas and rubber band canvas in sync with\n",
       "            // the canvas container.\n",
       "            if (entry.devicePixelContentBoxSize) {\n",
       "                // Chrome 84 implements new version of spec.\n",
       "                canvas.setAttribute(\n",
       "                    'width',\n",
       "                    entry.devicePixelContentBoxSize[0].inlineSize\n",
       "                );\n",
       "                canvas.setAttribute(\n",
       "                    'height',\n",
       "                    entry.devicePixelContentBoxSize[0].blockSize\n",
       "                );\n",
       "            } else {\n",
       "                canvas.setAttribute('width', width * fig.ratio);\n",
       "                canvas.setAttribute('height', height * fig.ratio);\n",
       "            }\n",
       "            canvas.setAttribute(\n",
       "                'style',\n",
       "                'width: ' + width + 'px; height: ' + height + 'px;'\n",
       "            );\n",
       "\n",
       "            rubberband_canvas.setAttribute('width', width);\n",
       "            rubberband_canvas.setAttribute('height', height);\n",
       "\n",
       "            // And update the size in Python. We ignore the initial 0/0 size\n",
       "            // that occurs as the element is placed into the DOM, which should\n",
       "            // otherwise not happen due to the minimum size styling.\n",
       "            if (width != 0 && height != 0) {\n",
       "                fig.request_resize(width, height);\n",
       "            }\n",
       "        }\n",
       "    });\n",
       "    resizeObserver.observe(canvas_div);\n",
       "\n",
       "    function on_mouse_event_closure(name) {\n",
       "        return function (event) {\n",
       "            return fig.mouse_event(event, name);\n",
       "        };\n",
       "    }\n",
       "\n",
       "    rubberband_canvas.addEventListener(\n",
       "        'mousedown',\n",
       "        on_mouse_event_closure('button_press')\n",
       "    );\n",
       "    rubberband_canvas.addEventListener(\n",
       "        'mouseup',\n",
       "        on_mouse_event_closure('button_release')\n",
       "    );\n",
       "    // Throttle sequential mouse events to 1 every 20ms.\n",
       "    rubberband_canvas.addEventListener(\n",
       "        'mousemove',\n",
       "        on_mouse_event_closure('motion_notify')\n",
       "    );\n",
       "\n",
       "    rubberband_canvas.addEventListener(\n",
       "        'mouseenter',\n",
       "        on_mouse_event_closure('figure_enter')\n",
       "    );\n",
       "    rubberband_canvas.addEventListener(\n",
       "        'mouseleave',\n",
       "        on_mouse_event_closure('figure_leave')\n",
       "    );\n",
       "\n",
       "    canvas_div.addEventListener('wheel', function (event) {\n",
       "        if (event.deltaY < 0) {\n",
       "            event.step = 1;\n",
       "        } else {\n",
       "            event.step = -1;\n",
       "        }\n",
       "        on_mouse_event_closure('scroll')(event);\n",
       "    });\n",
       "\n",
       "    canvas_div.appendChild(canvas);\n",
       "    canvas_div.appendChild(rubberband_canvas);\n",
       "\n",
       "    this.rubberband_context = rubberband_canvas.getContext('2d');\n",
       "    this.rubberband_context.strokeStyle = '#000000';\n",
       "\n",
       "    this._resize_canvas = function (width, height, forward) {\n",
       "        if (forward) {\n",
       "            canvas_div.style.width = width + 'px';\n",
       "            canvas_div.style.height = height + 'px';\n",
       "        }\n",
       "    };\n",
       "\n",
       "    // Disable right mouse context menu.\n",
       "    this.rubberband_canvas.addEventListener('contextmenu', function (_e) {\n",
       "        event.preventDefault();\n",
       "        return false;\n",
       "    });\n",
       "\n",
       "    function set_focus() {\n",
       "        canvas.focus();\n",
       "        canvas_div.focus();\n",
       "    }\n",
       "\n",
       "    window.setTimeout(set_focus, 100);\n",
       "};\n",
       "\n",
       "mpl.figure.prototype._init_toolbar = function () {\n",
       "    var fig = this;\n",
       "\n",
       "    var toolbar = document.createElement('div');\n",
       "    toolbar.classList = 'mpl-toolbar';\n",
       "    this.root.appendChild(toolbar);\n",
       "\n",
       "    function on_click_closure(name) {\n",
       "        return function (_event) {\n",
       "            return fig.toolbar_button_onclick(name);\n",
       "        };\n",
       "    }\n",
       "\n",
       "    function on_mouseover_closure(tooltip) {\n",
       "        return function (event) {\n",
       "            if (!event.currentTarget.disabled) {\n",
       "                return fig.toolbar_button_onmouseover(tooltip);\n",
       "            }\n",
       "        };\n",
       "    }\n",
       "\n",
       "    fig.buttons = {};\n",
       "    var buttonGroup = document.createElement('div');\n",
       "    buttonGroup.classList = 'mpl-button-group';\n",
       "    for (var toolbar_ind in mpl.toolbar_items) {\n",
       "        var name = mpl.toolbar_items[toolbar_ind][0];\n",
       "        var tooltip = mpl.toolbar_items[toolbar_ind][1];\n",
       "        var image = mpl.toolbar_items[toolbar_ind][2];\n",
       "        var method_name = mpl.toolbar_items[toolbar_ind][3];\n",
       "\n",
       "        if (!name) {\n",
       "            /* Instead of a spacer, we start a new button group. */\n",
       "            if (buttonGroup.hasChildNodes()) {\n",
       "                toolbar.appendChild(buttonGroup);\n",
       "            }\n",
       "            buttonGroup = document.createElement('div');\n",
       "            buttonGroup.classList = 'mpl-button-group';\n",
       "            continue;\n",
       "        }\n",
       "\n",
       "        var button = (fig.buttons[name] = document.createElement('button'));\n",
       "        button.classList = 'mpl-widget';\n",
       "        button.setAttribute('role', 'button');\n",
       "        button.setAttribute('aria-disabled', 'false');\n",
       "        button.addEventListener('click', on_click_closure(method_name));\n",
       "        button.addEventListener('mouseover', on_mouseover_closure(tooltip));\n",
       "\n",
       "        var icon_img = document.createElement('img');\n",
       "        icon_img.src = '_images/' + image + '.png';\n",
       "        icon_img.srcset = '_images/' + image + '_large.png 2x';\n",
       "        icon_img.alt = tooltip;\n",
       "        button.appendChild(icon_img);\n",
       "\n",
       "        buttonGroup.appendChild(button);\n",
       "    }\n",
       "\n",
       "    if (buttonGroup.hasChildNodes()) {\n",
       "        toolbar.appendChild(buttonGroup);\n",
       "    }\n",
       "\n",
       "    var fmt_picker = document.createElement('select');\n",
       "    fmt_picker.classList = 'mpl-widget';\n",
       "    toolbar.appendChild(fmt_picker);\n",
       "    this.format_dropdown = fmt_picker;\n",
       "\n",
       "    for (var ind in mpl.extensions) {\n",
       "        var fmt = mpl.extensions[ind];\n",
       "        var option = document.createElement('option');\n",
       "        option.selected = fmt === mpl.default_extension;\n",
       "        option.innerHTML = fmt;\n",
       "        fmt_picker.appendChild(option);\n",
       "    }\n",
       "\n",
       "    var status_bar = document.createElement('span');\n",
       "    status_bar.classList = 'mpl-message';\n",
       "    toolbar.appendChild(status_bar);\n",
       "    this.message = status_bar;\n",
       "};\n",
       "\n",
       "mpl.figure.prototype.request_resize = function (x_pixels, y_pixels) {\n",
       "    // Request matplotlib to resize the figure. Matplotlib will then trigger a resize in the client,\n",
       "    // which will in turn request a refresh of the image.\n",
       "    this.send_message('resize', { width: x_pixels, height: y_pixels });\n",
       "};\n",
       "\n",
       "mpl.figure.prototype.send_message = function (type, properties) {\n",
       "    properties['type'] = type;\n",
       "    properties['figure_id'] = this.id;\n",
       "    this.ws.send(JSON.stringify(properties));\n",
       "};\n",
       "\n",
       "mpl.figure.prototype.send_draw_message = function () {\n",
       "    if (!this.waiting) {\n",
       "        this.waiting = true;\n",
       "        this.ws.send(JSON.stringify({ type: 'draw', figure_id: this.id }));\n",
       "    }\n",
       "};\n",
       "\n",
       "mpl.figure.prototype.handle_save = function (fig, _msg) {\n",
       "    var format_dropdown = fig.format_dropdown;\n",
       "    var format = format_dropdown.options[format_dropdown.selectedIndex].value;\n",
       "    fig.ondownload(fig, format);\n",
       "};\n",
       "\n",
       "mpl.figure.prototype.handle_resize = function (fig, msg) {\n",
       "    var size = msg['size'];\n",
       "    if (size[0] !== fig.canvas.width || size[1] !== fig.canvas.height) {\n",
       "        fig._resize_canvas(size[0], size[1], msg['forward']);\n",
       "        fig.send_message('refresh', {});\n",
       "    }\n",
       "};\n",
       "\n",
       "mpl.figure.prototype.handle_rubberband = function (fig, msg) {\n",
       "    var x0 = msg['x0'] / fig.ratio;\n",
       "    var y0 = (fig.canvas.height - msg['y0']) / fig.ratio;\n",
       "    var x1 = msg['x1'] / fig.ratio;\n",
       "    var y1 = (fig.canvas.height - msg['y1']) / fig.ratio;\n",
       "    x0 = Math.floor(x0) + 0.5;\n",
       "    y0 = Math.floor(y0) + 0.5;\n",
       "    x1 = Math.floor(x1) + 0.5;\n",
       "    y1 = Math.floor(y1) + 0.5;\n",
       "    var min_x = Math.min(x0, x1);\n",
       "    var min_y = Math.min(y0, y1);\n",
       "    var width = Math.abs(x1 - x0);\n",
       "    var height = Math.abs(y1 - y0);\n",
       "\n",
       "    fig.rubberband_context.clearRect(\n",
       "        0,\n",
       "        0,\n",
       "        fig.canvas.width / fig.ratio,\n",
       "        fig.canvas.height / fig.ratio\n",
       "    );\n",
       "\n",
       "    fig.rubberband_context.strokeRect(min_x, min_y, width, height);\n",
       "};\n",
       "\n",
       "mpl.figure.prototype.handle_figure_label = function (fig, msg) {\n",
       "    // Updates the figure title.\n",
       "    fig.header.textContent = msg['label'];\n",
       "};\n",
       "\n",
       "mpl.figure.prototype.handle_cursor = function (fig, msg) {\n",
       "    var cursor = msg['cursor'];\n",
       "    switch (cursor) {\n",
       "        case 0:\n",
       "            cursor = 'pointer';\n",
       "            break;\n",
       "        case 1:\n",
       "            cursor = 'default';\n",
       "            break;\n",
       "        case 2:\n",
       "            cursor = 'crosshair';\n",
       "            break;\n",
       "        case 3:\n",
       "            cursor = 'move';\n",
       "            break;\n",
       "    }\n",
       "    fig.rubberband_canvas.style.cursor = cursor;\n",
       "};\n",
       "\n",
       "mpl.figure.prototype.handle_message = function (fig, msg) {\n",
       "    fig.message.textContent = msg['message'];\n",
       "};\n",
       "\n",
       "mpl.figure.prototype.handle_draw = function (fig, _msg) {\n",
       "    // Request the server to send over a new figure.\n",
       "    fig.send_draw_message();\n",
       "};\n",
       "\n",
       "mpl.figure.prototype.handle_image_mode = function (fig, msg) {\n",
       "    fig.image_mode = msg['mode'];\n",
       "};\n",
       "\n",
       "mpl.figure.prototype.handle_history_buttons = function (fig, msg) {\n",
       "    for (var key in msg) {\n",
       "        if (!(key in fig.buttons)) {\n",
       "            continue;\n",
       "        }\n",
       "        fig.buttons[key].disabled = !msg[key];\n",
       "        fig.buttons[key].setAttribute('aria-disabled', !msg[key]);\n",
       "    }\n",
       "};\n",
       "\n",
       "mpl.figure.prototype.handle_navigate_mode = function (fig, msg) {\n",
       "    if (msg['mode'] === 'PAN') {\n",
       "        fig.buttons['Pan'].classList.add('active');\n",
       "        fig.buttons['Zoom'].classList.remove('active');\n",
       "    } else if (msg['mode'] === 'ZOOM') {\n",
       "        fig.buttons['Pan'].classList.remove('active');\n",
       "        fig.buttons['Zoom'].classList.add('active');\n",
       "    } else {\n",
       "        fig.buttons['Pan'].classList.remove('active');\n",
       "        fig.buttons['Zoom'].classList.remove('active');\n",
       "    }\n",
       "};\n",
       "\n",
       "mpl.figure.prototype.updated_canvas_event = function () {\n",
       "    // Called whenever the canvas gets updated.\n",
       "    this.send_message('ack', {});\n",
       "};\n",
       "\n",
       "// A function to construct a web socket function for onmessage handling.\n",
       "// Called in the figure constructor.\n",
       "mpl.figure.prototype._make_on_message_function = function (fig) {\n",
       "    return function socket_on_message(evt) {\n",
       "        if (evt.data instanceof Blob) {\n",
       "            /* FIXME: We get \"Resource interpreted as Image but\n",
       "             * transferred with MIME type text/plain:\" errors on\n",
       "             * Chrome.  But how to set the MIME type?  It doesn't seem\n",
       "             * to be part of the websocket stream */\n",
       "            evt.data.type = 'image/png';\n",
       "\n",
       "            /* Free the memory for the previous frames */\n",
       "            if (fig.imageObj.src) {\n",
       "                (window.URL || window.webkitURL).revokeObjectURL(\n",
       "                    fig.imageObj.src\n",
       "                );\n",
       "            }\n",
       "\n",
       "            fig.imageObj.src = (window.URL || window.webkitURL).createObjectURL(\n",
       "                evt.data\n",
       "            );\n",
       "            fig.updated_canvas_event();\n",
       "            fig.waiting = false;\n",
       "            return;\n",
       "        } else if (\n",
       "            typeof evt.data === 'string' &&\n",
       "            evt.data.slice(0, 21) === 'data:image/png;base64'\n",
       "        ) {\n",
       "            fig.imageObj.src = evt.data;\n",
       "            fig.updated_canvas_event();\n",
       "            fig.waiting = false;\n",
       "            return;\n",
       "        }\n",
       "\n",
       "        var msg = JSON.parse(evt.data);\n",
       "        var msg_type = msg['type'];\n",
       "\n",
       "        // Call the  \"handle_{type}\" callback, which takes\n",
       "        // the figure and JSON message as its only arguments.\n",
       "        try {\n",
       "            var callback = fig['handle_' + msg_type];\n",
       "        } catch (e) {\n",
       "            console.log(\n",
       "                \"No handler for the '\" + msg_type + \"' message type: \",\n",
       "                msg\n",
       "            );\n",
       "            return;\n",
       "        }\n",
       "\n",
       "        if (callback) {\n",
       "            try {\n",
       "                // console.log(\"Handling '\" + msg_type + \"' message: \", msg);\n",
       "                callback(fig, msg);\n",
       "            } catch (e) {\n",
       "                console.log(\n",
       "                    \"Exception inside the 'handler_\" + msg_type + \"' callback:\",\n",
       "                    e,\n",
       "                    e.stack,\n",
       "                    msg\n",
       "                );\n",
       "            }\n",
       "        }\n",
       "    };\n",
       "};\n",
       "\n",
       "// from http://stackoverflow.com/questions/1114465/getting-mouse-location-in-canvas\n",
       "mpl.findpos = function (e) {\n",
       "    //this section is from http://www.quirksmode.org/js/events_properties.html\n",
       "    var targ;\n",
       "    if (!e) {\n",
       "        e = window.event;\n",
       "    }\n",
       "    if (e.target) {\n",
       "        targ = e.target;\n",
       "    } else if (e.srcElement) {\n",
       "        targ = e.srcElement;\n",
       "    }\n",
       "    if (targ.nodeType === 3) {\n",
       "        // defeat Safari bug\n",
       "        targ = targ.parentNode;\n",
       "    }\n",
       "\n",
       "    // pageX,Y are the mouse positions relative to the document\n",
       "    var boundingRect = targ.getBoundingClientRect();\n",
       "    var x = e.pageX - (boundingRect.left + document.body.scrollLeft);\n",
       "    var y = e.pageY - (boundingRect.top + document.body.scrollTop);\n",
       "\n",
       "    return { x: x, y: y };\n",
       "};\n",
       "\n",
       "/*\n",
       " * return a copy of an object with only non-object keys\n",
       " * we need this to avoid circular references\n",
       " * http://stackoverflow.com/a/24161582/3208463\n",
       " */\n",
       "function simpleKeys(original) {\n",
       "    return Object.keys(original).reduce(function (obj, key) {\n",
       "        if (typeof original[key] !== 'object') {\n",
       "            obj[key] = original[key];\n",
       "        }\n",
       "        return obj;\n",
       "    }, {});\n",
       "}\n",
       "\n",
       "mpl.figure.prototype.mouse_event = function (event, name) {\n",
       "    var canvas_pos = mpl.findpos(event);\n",
       "\n",
       "    if (name === 'button_press') {\n",
       "        this.canvas.focus();\n",
       "        this.canvas_div.focus();\n",
       "    }\n",
       "\n",
       "    var x = canvas_pos.x * this.ratio;\n",
       "    var y = canvas_pos.y * this.ratio;\n",
       "\n",
       "    this.send_message(name, {\n",
       "        x: x,\n",
       "        y: y,\n",
       "        button: event.button,\n",
       "        step: event.step,\n",
       "        guiEvent: simpleKeys(event),\n",
       "    });\n",
       "\n",
       "    /* This prevents the web browser from automatically changing to\n",
       "     * the text insertion cursor when the button is pressed.  We want\n",
       "     * to control all of the cursor setting manually through the\n",
       "     * 'cursor' event from matplotlib */\n",
       "    event.preventDefault();\n",
       "    return false;\n",
       "};\n",
       "\n",
       "mpl.figure.prototype._key_event_extra = function (_event, _name) {\n",
       "    // Handle any extra behaviour associated with a key event\n",
       "};\n",
       "\n",
       "mpl.figure.prototype.key_event = function (event, name) {\n",
       "    // Prevent repeat events\n",
       "    if (name === 'key_press') {\n",
       "        if (event.which === this._key) {\n",
       "            return;\n",
       "        } else {\n",
       "            this._key = event.which;\n",
       "        }\n",
       "    }\n",
       "    if (name === 'key_release') {\n",
       "        this._key = null;\n",
       "    }\n",
       "\n",
       "    var value = '';\n",
       "    if (event.ctrlKey && event.which !== 17) {\n",
       "        value += 'ctrl+';\n",
       "    }\n",
       "    if (event.altKey && event.which !== 18) {\n",
       "        value += 'alt+';\n",
       "    }\n",
       "    if (event.shiftKey && event.which !== 16) {\n",
       "        value += 'shift+';\n",
       "    }\n",
       "\n",
       "    value += 'k';\n",
       "    value += event.which.toString();\n",
       "\n",
       "    this._key_event_extra(event, name);\n",
       "\n",
       "    this.send_message(name, { key: value, guiEvent: simpleKeys(event) });\n",
       "    return false;\n",
       "};\n",
       "\n",
       "mpl.figure.prototype.toolbar_button_onclick = function (name) {\n",
       "    if (name === 'download') {\n",
       "        this.handle_save(this, null);\n",
       "    } else {\n",
       "        this.send_message('toolbar_button', { name: name });\n",
       "    }\n",
       "};\n",
       "\n",
       "mpl.figure.prototype.toolbar_button_onmouseover = function (tooltip) {\n",
       "    this.message.textContent = tooltip;\n",
       "};\n",
       "mpl.toolbar_items = [[\"Home\", \"Reset original view\", \"fa fa-home icon-home\", \"home\"], [\"Back\", \"Back to previous view\", \"fa fa-arrow-left icon-arrow-left\", \"back\"], [\"Forward\", \"Forward to next view\", \"fa fa-arrow-right icon-arrow-right\", \"forward\"], [\"\", \"\", \"\", \"\"], [\"Pan\", \"Left button pans, Right button zooms\\nx/y fixes axis, CTRL fixes aspect\", \"fa fa-arrows icon-move\", \"pan\"], [\"Zoom\", \"Zoom to rectangle\\nx/y fixes axis, CTRL fixes aspect\", \"fa fa-square-o icon-check-empty\", \"zoom\"], [\"\", \"\", \"\", \"\"], [\"Download\", \"Download plot\", \"fa fa-floppy-o icon-save\", \"download\"]];\n",
       "\n",
       "mpl.extensions = [\"eps\", \"jpeg\", \"pdf\", \"png\", \"ps\", \"raw\", \"svg\", \"tif\"];\n",
       "\n",
       "mpl.default_extension = \"png\";/* global mpl */\n",
       "\n",
       "var comm_websocket_adapter = function (comm) {\n",
       "    // Create a \"websocket\"-like object which calls the given IPython comm\n",
       "    // object with the appropriate methods. Currently this is a non binary\n",
       "    // socket, so there is still some room for performance tuning.\n",
       "    var ws = {};\n",
       "\n",
       "    ws.close = function () {\n",
       "        comm.close();\n",
       "    };\n",
       "    ws.send = function (m) {\n",
       "        //console.log('sending', m);\n",
       "        comm.send(m);\n",
       "    };\n",
       "    // Register the callback with on_msg.\n",
       "    comm.on_msg(function (msg) {\n",
       "        //console.log('receiving', msg['content']['data'], msg);\n",
       "        // Pass the mpl event to the overridden (by mpl) onmessage function.\n",
       "        ws.onmessage(msg['content']['data']);\n",
       "    });\n",
       "    return ws;\n",
       "};\n",
       "\n",
       "mpl.mpl_figure_comm = function (comm, msg) {\n",
       "    // This is the function which gets called when the mpl process\n",
       "    // starts-up an IPython Comm through the \"matplotlib\" channel.\n",
       "\n",
       "    var id = msg.content.data.id;\n",
       "    // Get hold of the div created by the display call when the Comm\n",
       "    // socket was opened in Python.\n",
       "    var element = document.getElementById(id);\n",
       "    var ws_proxy = comm_websocket_adapter(comm);\n",
       "\n",
       "    function ondownload(figure, _format) {\n",
       "        window.open(figure.canvas.toDataURL());\n",
       "    }\n",
       "\n",
       "    var fig = new mpl.figure(id, ws_proxy, ondownload, element);\n",
       "\n",
       "    // Call onopen now - mpl needs it, as it is assuming we've passed it a real\n",
       "    // web socket which is closed, not our websocket->open comm proxy.\n",
       "    ws_proxy.onopen();\n",
       "\n",
       "    fig.parent_element = element;\n",
       "    fig.cell_info = mpl.find_output_cell(\"<div id='\" + id + \"'></div>\");\n",
       "    if (!fig.cell_info) {\n",
       "        console.error('Failed to find cell for figure', id, fig);\n",
       "        return;\n",
       "    }\n",
       "    fig.cell_info[0].output_area.element.one(\n",
       "        'cleared',\n",
       "        { fig: fig },\n",
       "        fig._remove_fig_handler\n",
       "    );\n",
       "};\n",
       "\n",
       "mpl.figure.prototype.handle_close = function (fig, msg) {\n",
       "    var width = fig.canvas.width / fig.ratio;\n",
       "    fig.cell_info[0].output_area.element.off(\n",
       "        'cleared',\n",
       "        fig._remove_fig_handler\n",
       "    );\n",
       "\n",
       "    // Update the output cell to use the data from the current canvas.\n",
       "    fig.push_to_output();\n",
       "    var dataURL = fig.canvas.toDataURL();\n",
       "    // Re-enable the keyboard manager in IPython - without this line, in FF,\n",
       "    // the notebook keyboard shortcuts fail.\n",
       "    IPython.keyboard_manager.enable();\n",
       "    fig.parent_element.innerHTML =\n",
       "        '<img src=\"' + dataURL + '\" width=\"' + width + '\">';\n",
       "    fig.close_ws(fig, msg);\n",
       "};\n",
       "\n",
       "mpl.figure.prototype.close_ws = function (fig, msg) {\n",
       "    fig.send_message('closing', msg);\n",
       "    // fig.ws.close()\n",
       "};\n",
       "\n",
       "mpl.figure.prototype.push_to_output = function (_remove_interactive) {\n",
       "    // Turn the data on the canvas into data in the output cell.\n",
       "    var width = this.canvas.width / this.ratio;\n",
       "    var dataURL = this.canvas.toDataURL();\n",
       "    this.cell_info[1]['text/html'] =\n",
       "        '<img src=\"' + dataURL + '\" width=\"' + width + '\">';\n",
       "};\n",
       "\n",
       "mpl.figure.prototype.updated_canvas_event = function () {\n",
       "    // Tell IPython that the notebook contents must change.\n",
       "    IPython.notebook.set_dirty(true);\n",
       "    this.send_message('ack', {});\n",
       "    var fig = this;\n",
       "    // Wait a second, then push the new image to the DOM so\n",
       "    // that it is saved nicely (might be nice to debounce this).\n",
       "    setTimeout(function () {\n",
       "        fig.push_to_output();\n",
       "    }, 1000);\n",
       "};\n",
       "\n",
       "mpl.figure.prototype._init_toolbar = function () {\n",
       "    var fig = this;\n",
       "\n",
       "    var toolbar = document.createElement('div');\n",
       "    toolbar.classList = 'btn-toolbar';\n",
       "    this.root.appendChild(toolbar);\n",
       "\n",
       "    function on_click_closure(name) {\n",
       "        return function (_event) {\n",
       "            return fig.toolbar_button_onclick(name);\n",
       "        };\n",
       "    }\n",
       "\n",
       "    function on_mouseover_closure(tooltip) {\n",
       "        return function (event) {\n",
       "            if (!event.currentTarget.disabled) {\n",
       "                return fig.toolbar_button_onmouseover(tooltip);\n",
       "            }\n",
       "        };\n",
       "    }\n",
       "\n",
       "    fig.buttons = {};\n",
       "    var buttonGroup = document.createElement('div');\n",
       "    buttonGroup.classList = 'btn-group';\n",
       "    var button;\n",
       "    for (var toolbar_ind in mpl.toolbar_items) {\n",
       "        var name = mpl.toolbar_items[toolbar_ind][0];\n",
       "        var tooltip = mpl.toolbar_items[toolbar_ind][1];\n",
       "        var image = mpl.toolbar_items[toolbar_ind][2];\n",
       "        var method_name = mpl.toolbar_items[toolbar_ind][3];\n",
       "\n",
       "        if (!name) {\n",
       "            /* Instead of a spacer, we start a new button group. */\n",
       "            if (buttonGroup.hasChildNodes()) {\n",
       "                toolbar.appendChild(buttonGroup);\n",
       "            }\n",
       "            buttonGroup = document.createElement('div');\n",
       "            buttonGroup.classList = 'btn-group';\n",
       "            continue;\n",
       "        }\n",
       "\n",
       "        button = fig.buttons[name] = document.createElement('button');\n",
       "        button.classList = 'btn btn-default';\n",
       "        button.href = '#';\n",
       "        button.title = name;\n",
       "        button.innerHTML = '<i class=\"fa ' + image + ' fa-lg\"></i>';\n",
       "        button.addEventListener('click', on_click_closure(method_name));\n",
       "        button.addEventListener('mouseover', on_mouseover_closure(tooltip));\n",
       "        buttonGroup.appendChild(button);\n",
       "    }\n",
       "\n",
       "    if (buttonGroup.hasChildNodes()) {\n",
       "        toolbar.appendChild(buttonGroup);\n",
       "    }\n",
       "\n",
       "    // Add the status bar.\n",
       "    var status_bar = document.createElement('span');\n",
       "    status_bar.classList = 'mpl-message pull-right';\n",
       "    toolbar.appendChild(status_bar);\n",
       "    this.message = status_bar;\n",
       "\n",
       "    // Add the close button to the window.\n",
       "    var buttongrp = document.createElement('div');\n",
       "    buttongrp.classList = 'btn-group inline pull-right';\n",
       "    button = document.createElement('button');\n",
       "    button.classList = 'btn btn-mini btn-primary';\n",
       "    button.href = '#';\n",
       "    button.title = 'Stop Interaction';\n",
       "    button.innerHTML = '<i class=\"fa fa-power-off icon-remove icon-large\"></i>';\n",
       "    button.addEventListener('click', function (_evt) {\n",
       "        fig.handle_close(fig, {});\n",
       "    });\n",
       "    button.addEventListener(\n",
       "        'mouseover',\n",
       "        on_mouseover_closure('Stop Interaction')\n",
       "    );\n",
       "    buttongrp.appendChild(button);\n",
       "    var titlebar = this.root.querySelector('.ui-dialog-titlebar');\n",
       "    titlebar.insertBefore(buttongrp, titlebar.firstChild);\n",
       "};\n",
       "\n",
       "mpl.figure.prototype._remove_fig_handler = function (event) {\n",
       "    var fig = event.data.fig;\n",
       "    fig.close_ws(fig, {});\n",
       "};\n",
       "\n",
       "mpl.figure.prototype._root_extra_style = function (el) {\n",
       "    el.style.boxSizing = 'content-box'; // override notebook setting of border-box.\n",
       "};\n",
       "\n",
       "mpl.figure.prototype._canvas_extra_style = function (el) {\n",
       "    // this is important to make the div 'focusable\n",
       "    el.setAttribute('tabindex', 0);\n",
       "    // reach out to IPython and tell the keyboard manager to turn it's self\n",
       "    // off when our div gets focus\n",
       "\n",
       "    // location in version 3\n",
       "    if (IPython.notebook.keyboard_manager) {\n",
       "        IPython.notebook.keyboard_manager.register_events(el);\n",
       "    } else {\n",
       "        // location in version 2\n",
       "        IPython.keyboard_manager.register_events(el);\n",
       "    }\n",
       "};\n",
       "\n",
       "mpl.figure.prototype._key_event_extra = function (event, _name) {\n",
       "    var manager = IPython.notebook.keyboard_manager;\n",
       "    if (!manager) {\n",
       "        manager = IPython.keyboard_manager;\n",
       "    }\n",
       "\n",
       "    // Check for shift+enter\n",
       "    if (event.shiftKey && event.which === 13) {\n",
       "        this.canvas_div.blur();\n",
       "        // select the cell after this one\n",
       "        var index = IPython.notebook.find_cell_index(this.cell_info[0]);\n",
       "        IPython.notebook.select(index + 1);\n",
       "    }\n",
       "};\n",
       "\n",
       "mpl.figure.prototype.handle_save = function (fig, _msg) {\n",
       "    fig.ondownload(fig, null);\n",
       "};\n",
       "\n",
       "mpl.find_output_cell = function (html_output) {\n",
       "    // Return the cell and output element which can be found *uniquely* in the notebook.\n",
       "    // Note - this is a bit hacky, but it is done because the \"notebook_saving.Notebook\"\n",
       "    // IPython event is triggered only after the cells have been serialised, which for\n",
       "    // our purposes (turning an active figure into a static one), is too late.\n",
       "    var cells = IPython.notebook.get_cells();\n",
       "    var ncells = cells.length;\n",
       "    for (var i = 0; i < ncells; i++) {\n",
       "        var cell = cells[i];\n",
       "        if (cell.cell_type === 'code') {\n",
       "            for (var j = 0; j < cell.output_area.outputs.length; j++) {\n",
       "                var data = cell.output_area.outputs[j];\n",
       "                if (data.data) {\n",
       "                    // IPython >= 3 moved mimebundle to data attribute of output\n",
       "                    data = data.data;\n",
       "                }\n",
       "                if (data['text/html'] === html_output) {\n",
       "                    return [cell, data, j];\n",
       "                }\n",
       "            }\n",
       "        }\n",
       "    }\n",
       "};\n",
       "\n",
       "// Register the function which deals with the matplotlib target/channel.\n",
       "// The kernel may be null if the page has been refreshed.\n",
       "if (IPython.notebook.kernel !== null) {\n",
       "    IPython.notebook.kernel.comm_manager.register_target(\n",
       "        'matplotlib',\n",
       "        mpl.mpl_figure_comm\n",
       "    );\n",
       "}\n"
      ],
      "text/plain": [
       "<IPython.core.display.Javascript object>"
      ]
     },
     "metadata": {},
     "output_type": "display_data"
    },
    {
     "data": {
      "text/html": [
       "<img src=\"data:image/png;base64,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\" width=\"1000\">"
      ],
      "text/plain": [
       "<IPython.core.display.HTML object>"
      ]
     },
     "metadata": {},
     "output_type": "display_data"
    },
    {
     "data": {
      "text/plain": [
       "<matplotlib.legend.Legend at 0x7f27829fc940>"
      ]
     },
     "execution_count": 68,
     "metadata": {},
     "output_type": "execute_result"
    }
   ],
   "source": [
    "plt.figure('K-Means on SDSS Dataset', figsize=(10,10))\n",
    "ax = plt.axes(projection='3d')\n",
    "ax.scatter(centroids[1][0][0], centroids[1][0][1], centroids[1][0][2], c='r', s=100)\n",
    "ax.scatter(centroids[1][1][0], centroids[1][1][1], centroids[1][1][2], c='r', s=100)\n",
    "ax.scatter(centroids[1][2][0], centroids[1][2][1], centroids[1][2][2], c='r', s=100)\n",
    "scatter = ax.scatter(X_test['ra'], X_test['dec'], X_test['redshift'], c=labels[1])\n",
    "plt.legend(handles=scatter.legend_elements()[0], labels=['GALAXY', 'QSO', 'STAR'])"
   ]
  },
  {
   "cell_type": "code",
   "execution_count": null,
   "metadata": {},
   "outputs": [],
   "source": []
  }
 ],
 "metadata": {
  "kernelspec": {
   "display_name": "Python 3",
   "language": "python",
   "name": "python3"
  },
  "language_info": {
   "codemirror_mode": {
    "name": "ipython",
    "version": 3
   },
   "file_extension": ".py",
   "mimetype": "text/x-python",
   "name": "python",
   "nbconvert_exporter": "python",
   "pygments_lexer": "ipython3",
   "version": "3.8.5"
  }
 },
 "nbformat": 4,
 "nbformat_minor": 4
}
