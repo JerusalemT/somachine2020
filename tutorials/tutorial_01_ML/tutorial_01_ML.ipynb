{
 "cells": [
  {
   "cell_type": "markdown",
   "metadata": {},
   "source": [
    "# Practical ML: Scikit-learn\n",
    "## Introducing Pandas and Scikit-learn\n",
    "### Juan Antonio Cortés (jacortes@ugr.es)"
   ]
  },
  {
   "cell_type": "markdown",
   "metadata": {},
   "source": [
    "---"
   ]
  },
  {
   "cell_type": "code",
   "execution_count": 1,
   "metadata": {},
   "outputs": [],
   "source": [
    "import pandas as pd\n",
    "import numpy as np\n",
    "import matplotlib.pyplot as plt\n",
    "from sklearn.model_selection import train_test_split, cross_val_predict, GridSearchCV, StratifiedKFold\n",
    "from sklearn.metrics import classification_report\n",
    "from sklearn import tree\n",
    "from sklearn.impute import KNNImputer\n",
    "from sklearn.pipeline import make_pipeline\n",
    "from sklearn.preprocessing import StandardScaler\n",
    "from sklearn.svm import SVC, SVR\n",
    "from sklearn.ensemble import RandomForestClassifier\n",
    "from sklearn.cluster import KMeans\n",
    "from sklearn.neighbors import KNeighborsClassifier"
   ]
  },
  {
   "cell_type": "markdown",
   "metadata": {},
   "source": [
    "# Pandas"
   ]
  },
  {
   "cell_type": "markdown",
   "metadata": {},
   "source": [
    "Pandas is a fast, powerful, flexible and easy to use open source data analysis and manipulation tool,\n",
    "built on top of the Python programming language.\n",
    "\n",
    "It is the perfect tool to explore, clean and process tabular data."
   ]
  },
  {
   "cell_type": "markdown",
   "metadata": {},
   "source": [
    "# Pandas series"
   ]
  },
  {
   "cell_type": "markdown",
   "metadata": {},
   "source": [
    "Pandas tables (DataFrames from now on) are comprised of series (one-dimensional ndarray with axis labels). Below, an example of a series with a missing value."
   ]
  },
  {
   "cell_type": "code",
   "execution_count": 2,
   "metadata": {},
   "outputs": [
    {
     "data": {
      "text/plain": [
       "0    1.0\n",
       "1    3.0\n",
       "2    5.0\n",
       "3    NaN\n",
       "4    6.0\n",
       "5    8.0\n",
       "dtype: float64"
      ]
     },
     "execution_count": 2,
     "metadata": {},
     "output_type": "execute_result"
    }
   ],
   "source": [
    "s = pd.Series([1, 3, 5, np.nan, 6, 8])\n",
    "s"
   ]
  },
  {
   "cell_type": "markdown",
   "metadata": {},
   "source": [
    "# Pandas DataFrame"
   ]
  },
  {
   "cell_type": "markdown",
   "metadata": {},
   "source": [
    "DataFrames can be built from different data types. For example, we can build a DataFrame with a date column (it will be the index of the DataFrame in this example) and four numerical columns (the data)."
   ]
  },
  {
   "cell_type": "code",
   "execution_count": 3,
   "metadata": {},
   "outputs": [],
   "source": [
    "dates = pd.date_range('20201101', periods=6)\n",
    "df = pd.DataFrame(np.random.randn(6, 4), index=dates, columns=list('ABCD'))"
   ]
  },
  {
   "cell_type": "code",
   "execution_count": 4,
   "metadata": {},
   "outputs": [
    {
     "data": {
      "text/html": [
       "<div>\n",
       "<style scoped>\n",
       "    .dataframe tbody tr th:only-of-type {\n",
       "        vertical-align: middle;\n",
       "    }\n",
       "\n",
       "    .dataframe tbody tr th {\n",
       "        vertical-align: top;\n",
       "    }\n",
       "\n",
       "    .dataframe thead th {\n",
       "        text-align: right;\n",
       "    }\n",
       "</style>\n",
       "<table border=\"1\" class=\"dataframe\">\n",
       "  <thead>\n",
       "    <tr style=\"text-align: right;\">\n",
       "      <th></th>\n",
       "      <th>A</th>\n",
       "      <th>B</th>\n",
       "      <th>C</th>\n",
       "      <th>D</th>\n",
       "    </tr>\n",
       "  </thead>\n",
       "  <tbody>\n",
       "    <tr>\n",
       "      <th>2020-11-01</th>\n",
       "      <td>0.822360</td>\n",
       "      <td>1.157473</td>\n",
       "      <td>-0.799502</td>\n",
       "      <td>1.150930</td>\n",
       "    </tr>\n",
       "    <tr>\n",
       "      <th>2020-11-02</th>\n",
       "      <td>0.350608</td>\n",
       "      <td>-1.262714</td>\n",
       "      <td>-0.461467</td>\n",
       "      <td>-0.745286</td>\n",
       "    </tr>\n",
       "    <tr>\n",
       "      <th>2020-11-03</th>\n",
       "      <td>-0.269674</td>\n",
       "      <td>-1.238298</td>\n",
       "      <td>0.898560</td>\n",
       "      <td>-1.429048</td>\n",
       "    </tr>\n",
       "    <tr>\n",
       "      <th>2020-11-04</th>\n",
       "      <td>-1.016871</td>\n",
       "      <td>-0.218234</td>\n",
       "      <td>0.855766</td>\n",
       "      <td>-1.150457</td>\n",
       "    </tr>\n",
       "    <tr>\n",
       "      <th>2020-11-05</th>\n",
       "      <td>-1.386138</td>\n",
       "      <td>0.178950</td>\n",
       "      <td>-0.448507</td>\n",
       "      <td>0.408281</td>\n",
       "    </tr>\n",
       "    <tr>\n",
       "      <th>2020-11-06</th>\n",
       "      <td>2.153887</td>\n",
       "      <td>0.227719</td>\n",
       "      <td>-0.184575</td>\n",
       "      <td>-0.221846</td>\n",
       "    </tr>\n",
       "  </tbody>\n",
       "</table>\n",
       "</div>"
      ],
      "text/plain": [
       "                   A         B         C         D\n",
       "2020-11-01  0.822360  1.157473 -0.799502  1.150930\n",
       "2020-11-02  0.350608 -1.262714 -0.461467 -0.745286\n",
       "2020-11-03 -0.269674 -1.238298  0.898560 -1.429048\n",
       "2020-11-04 -1.016871 -0.218234  0.855766 -1.150457\n",
       "2020-11-05 -1.386138  0.178950 -0.448507  0.408281\n",
       "2020-11-06  2.153887  0.227719 -0.184575 -0.221846"
      ]
     },
     "execution_count": 4,
     "metadata": {},
     "output_type": "execute_result"
    }
   ],
   "source": [
    "df"
   ]
  },
  {
   "cell_type": "markdown",
   "metadata": {},
   "source": [
    "We can also build a DataFrame from a Python dictionary. Thanks to the flexibility of Pandas we can mix different data types inside the same DataFrame. For example: integers, time stamps, floats, text..."
   ]
  },
  {
   "cell_type": "code",
   "execution_count": 5,
   "metadata": {},
   "outputs": [],
   "source": [
    "df2 = pd.DataFrame({'A': 1.,\n",
    "                    'B': pd.Timestamp('20201101'),\n",
    "                    'C': pd.Series(1, index=list(range(4)), dtype='float32'),\n",
    "                    'D': np.array([3] * 4, dtype='int32'),\n",
    "                    'E': pd.Categorical([\"test\", \"train\", \"test\", \"train\"]),\n",
    "                    'F': 'foo'})"
   ]
  },
  {
   "cell_type": "code",
   "execution_count": 6,
   "metadata": {},
   "outputs": [
    {
     "data": {
      "text/html": [
       "<div>\n",
       "<style scoped>\n",
       "    .dataframe tbody tr th:only-of-type {\n",
       "        vertical-align: middle;\n",
       "    }\n",
       "\n",
       "    .dataframe tbody tr th {\n",
       "        vertical-align: top;\n",
       "    }\n",
       "\n",
       "    .dataframe thead th {\n",
       "        text-align: right;\n",
       "    }\n",
       "</style>\n",
       "<table border=\"1\" class=\"dataframe\">\n",
       "  <thead>\n",
       "    <tr style=\"text-align: right;\">\n",
       "      <th></th>\n",
       "      <th>A</th>\n",
       "      <th>B</th>\n",
       "      <th>C</th>\n",
       "      <th>D</th>\n",
       "      <th>E</th>\n",
       "      <th>F</th>\n",
       "    </tr>\n",
       "  </thead>\n",
       "  <tbody>\n",
       "    <tr>\n",
       "      <th>0</th>\n",
       "      <td>1.0</td>\n",
       "      <td>2020-11-01</td>\n",
       "      <td>1.0</td>\n",
       "      <td>3</td>\n",
       "      <td>test</td>\n",
       "      <td>foo</td>\n",
       "    </tr>\n",
       "    <tr>\n",
       "      <th>1</th>\n",
       "      <td>1.0</td>\n",
       "      <td>2020-11-01</td>\n",
       "      <td>1.0</td>\n",
       "      <td>3</td>\n",
       "      <td>train</td>\n",
       "      <td>foo</td>\n",
       "    </tr>\n",
       "    <tr>\n",
       "      <th>2</th>\n",
       "      <td>1.0</td>\n",
       "      <td>2020-11-01</td>\n",
       "      <td>1.0</td>\n",
       "      <td>3</td>\n",
       "      <td>test</td>\n",
       "      <td>foo</td>\n",
       "    </tr>\n",
       "    <tr>\n",
       "      <th>3</th>\n",
       "      <td>1.0</td>\n",
       "      <td>2020-11-01</td>\n",
       "      <td>1.0</td>\n",
       "      <td>3</td>\n",
       "      <td>train</td>\n",
       "      <td>foo</td>\n",
       "    </tr>\n",
       "  </tbody>\n",
       "</table>\n",
       "</div>"
      ],
      "text/plain": [
       "     A          B    C  D      E    F\n",
       "0  1.0 2020-11-01  1.0  3   test  foo\n",
       "1  1.0 2020-11-01  1.0  3  train  foo\n",
       "2  1.0 2020-11-01  1.0  3   test  foo\n",
       "3  1.0 2020-11-01  1.0  3  train  foo"
      ]
     },
     "execution_count": 6,
     "metadata": {},
     "output_type": "execute_result"
    }
   ],
   "source": [
    "df2"
   ]
  },
  {
   "cell_type": "markdown",
   "metadata": {},
   "source": [
    "# Viewing data"
   ]
  },
  {
   "cell_type": "markdown",
   "metadata": {},
   "source": [
    "Once we have our DataFrame we can use different approaches to view it. Pandas offers multiples ways to accomplish this task:"
   ]
  },
  {
   "cell_type": "markdown",
   "metadata": {},
   "source": [
    "We can peek at the beginning of the DataFrame"
   ]
  },
  {
   "cell_type": "code",
   "execution_count": 7,
   "metadata": {},
   "outputs": [
    {
     "data": {
      "text/html": [
       "<div>\n",
       "<style scoped>\n",
       "    .dataframe tbody tr th:only-of-type {\n",
       "        vertical-align: middle;\n",
       "    }\n",
       "\n",
       "    .dataframe tbody tr th {\n",
       "        vertical-align: top;\n",
       "    }\n",
       "\n",
       "    .dataframe thead th {\n",
       "        text-align: right;\n",
       "    }\n",
       "</style>\n",
       "<table border=\"1\" class=\"dataframe\">\n",
       "  <thead>\n",
       "    <tr style=\"text-align: right;\">\n",
       "      <th></th>\n",
       "      <th>A</th>\n",
       "      <th>B</th>\n",
       "      <th>C</th>\n",
       "      <th>D</th>\n",
       "    </tr>\n",
       "  </thead>\n",
       "  <tbody>\n",
       "    <tr>\n",
       "      <th>2020-11-01</th>\n",
       "      <td>0.822360</td>\n",
       "      <td>1.157473</td>\n",
       "      <td>-0.799502</td>\n",
       "      <td>1.150930</td>\n",
       "    </tr>\n",
       "    <tr>\n",
       "      <th>2020-11-02</th>\n",
       "      <td>0.350608</td>\n",
       "      <td>-1.262714</td>\n",
       "      <td>-0.461467</td>\n",
       "      <td>-0.745286</td>\n",
       "    </tr>\n",
       "    <tr>\n",
       "      <th>2020-11-03</th>\n",
       "      <td>-0.269674</td>\n",
       "      <td>-1.238298</td>\n",
       "      <td>0.898560</td>\n",
       "      <td>-1.429048</td>\n",
       "    </tr>\n",
       "    <tr>\n",
       "      <th>2020-11-04</th>\n",
       "      <td>-1.016871</td>\n",
       "      <td>-0.218234</td>\n",
       "      <td>0.855766</td>\n",
       "      <td>-1.150457</td>\n",
       "    </tr>\n",
       "    <tr>\n",
       "      <th>2020-11-05</th>\n",
       "      <td>-1.386138</td>\n",
       "      <td>0.178950</td>\n",
       "      <td>-0.448507</td>\n",
       "      <td>0.408281</td>\n",
       "    </tr>\n",
       "  </tbody>\n",
       "</table>\n",
       "</div>"
      ],
      "text/plain": [
       "                   A         B         C         D\n",
       "2020-11-01  0.822360  1.157473 -0.799502  1.150930\n",
       "2020-11-02  0.350608 -1.262714 -0.461467 -0.745286\n",
       "2020-11-03 -0.269674 -1.238298  0.898560 -1.429048\n",
       "2020-11-04 -1.016871 -0.218234  0.855766 -1.150457\n",
       "2020-11-05 -1.386138  0.178950 -0.448507  0.408281"
      ]
     },
     "execution_count": 7,
     "metadata": {},
     "output_type": "execute_result"
    }
   ],
   "source": [
    "df.head()"
   ]
  },
  {
   "cell_type": "markdown",
   "metadata": {},
   "source": [
    "Or the end:"
   ]
  },
  {
   "cell_type": "code",
   "execution_count": 8,
   "metadata": {},
   "outputs": [
    {
     "data": {
      "text/html": [
       "<div>\n",
       "<style scoped>\n",
       "    .dataframe tbody tr th:only-of-type {\n",
       "        vertical-align: middle;\n",
       "    }\n",
       "\n",
       "    .dataframe tbody tr th {\n",
       "        vertical-align: top;\n",
       "    }\n",
       "\n",
       "    .dataframe thead th {\n",
       "        text-align: right;\n",
       "    }\n",
       "</style>\n",
       "<table border=\"1\" class=\"dataframe\">\n",
       "  <thead>\n",
       "    <tr style=\"text-align: right;\">\n",
       "      <th></th>\n",
       "      <th>A</th>\n",
       "      <th>B</th>\n",
       "      <th>C</th>\n",
       "      <th>D</th>\n",
       "    </tr>\n",
       "  </thead>\n",
       "  <tbody>\n",
       "    <tr>\n",
       "      <th>2020-11-02</th>\n",
       "      <td>0.350608</td>\n",
       "      <td>-1.262714</td>\n",
       "      <td>-0.461467</td>\n",
       "      <td>-0.745286</td>\n",
       "    </tr>\n",
       "    <tr>\n",
       "      <th>2020-11-03</th>\n",
       "      <td>-0.269674</td>\n",
       "      <td>-1.238298</td>\n",
       "      <td>0.898560</td>\n",
       "      <td>-1.429048</td>\n",
       "    </tr>\n",
       "    <tr>\n",
       "      <th>2020-11-04</th>\n",
       "      <td>-1.016871</td>\n",
       "      <td>-0.218234</td>\n",
       "      <td>0.855766</td>\n",
       "      <td>-1.150457</td>\n",
       "    </tr>\n",
       "    <tr>\n",
       "      <th>2020-11-05</th>\n",
       "      <td>-1.386138</td>\n",
       "      <td>0.178950</td>\n",
       "      <td>-0.448507</td>\n",
       "      <td>0.408281</td>\n",
       "    </tr>\n",
       "    <tr>\n",
       "      <th>2020-11-06</th>\n",
       "      <td>2.153887</td>\n",
       "      <td>0.227719</td>\n",
       "      <td>-0.184575</td>\n",
       "      <td>-0.221846</td>\n",
       "    </tr>\n",
       "  </tbody>\n",
       "</table>\n",
       "</div>"
      ],
      "text/plain": [
       "                   A         B         C         D\n",
       "2020-11-02  0.350608 -1.262714 -0.461467 -0.745286\n",
       "2020-11-03 -0.269674 -1.238298  0.898560 -1.429048\n",
       "2020-11-04 -1.016871 -0.218234  0.855766 -1.150457\n",
       "2020-11-05 -1.386138  0.178950 -0.448507  0.408281\n",
       "2020-11-06  2.153887  0.227719 -0.184575 -0.221846"
      ]
     },
     "execution_count": 8,
     "metadata": {},
     "output_type": "execute_result"
    }
   ],
   "source": [
    "df.tail()"
   ]
  },
  {
   "cell_type": "markdown",
   "metadata": {},
   "source": [
    "We can also list the name of the columns:"
   ]
  },
  {
   "cell_type": "code",
   "execution_count": 9,
   "metadata": {},
   "outputs": [
    {
     "data": {
      "text/plain": [
       "Index(['A', 'B', 'C', 'D'], dtype='object')"
      ]
     },
     "execution_count": 9,
     "metadata": {},
     "output_type": "execute_result"
    }
   ],
   "source": [
    "df.columns"
   ]
  },
  {
   "cell_type": "markdown",
   "metadata": {},
   "source": [
    "Transposing the data is a trivial task with Pandas:"
   ]
  },
  {
   "cell_type": "code",
   "execution_count": 10,
   "metadata": {},
   "outputs": [
    {
     "data": {
      "text/html": [
       "<div>\n",
       "<style scoped>\n",
       "    .dataframe tbody tr th:only-of-type {\n",
       "        vertical-align: middle;\n",
       "    }\n",
       "\n",
       "    .dataframe tbody tr th {\n",
       "        vertical-align: top;\n",
       "    }\n",
       "\n",
       "    .dataframe thead th {\n",
       "        text-align: right;\n",
       "    }\n",
       "</style>\n",
       "<table border=\"1\" class=\"dataframe\">\n",
       "  <thead>\n",
       "    <tr style=\"text-align: right;\">\n",
       "      <th></th>\n",
       "      <th>2020-11-01</th>\n",
       "      <th>2020-11-02</th>\n",
       "      <th>2020-11-03</th>\n",
       "      <th>2020-11-04</th>\n",
       "      <th>2020-11-05</th>\n",
       "      <th>2020-11-06</th>\n",
       "    </tr>\n",
       "  </thead>\n",
       "  <tbody>\n",
       "    <tr>\n",
       "      <th>A</th>\n",
       "      <td>0.822360</td>\n",
       "      <td>0.350608</td>\n",
       "      <td>-0.269674</td>\n",
       "      <td>-1.016871</td>\n",
       "      <td>-1.386138</td>\n",
       "      <td>2.153887</td>\n",
       "    </tr>\n",
       "    <tr>\n",
       "      <th>B</th>\n",
       "      <td>1.157473</td>\n",
       "      <td>-1.262714</td>\n",
       "      <td>-1.238298</td>\n",
       "      <td>-0.218234</td>\n",
       "      <td>0.178950</td>\n",
       "      <td>0.227719</td>\n",
       "    </tr>\n",
       "    <tr>\n",
       "      <th>C</th>\n",
       "      <td>-0.799502</td>\n",
       "      <td>-0.461467</td>\n",
       "      <td>0.898560</td>\n",
       "      <td>0.855766</td>\n",
       "      <td>-0.448507</td>\n",
       "      <td>-0.184575</td>\n",
       "    </tr>\n",
       "    <tr>\n",
       "      <th>D</th>\n",
       "      <td>1.150930</td>\n",
       "      <td>-0.745286</td>\n",
       "      <td>-1.429048</td>\n",
       "      <td>-1.150457</td>\n",
       "      <td>0.408281</td>\n",
       "      <td>-0.221846</td>\n",
       "    </tr>\n",
       "  </tbody>\n",
       "</table>\n",
       "</div>"
      ],
      "text/plain": [
       "   2020-11-01  2020-11-02  2020-11-03  2020-11-04  2020-11-05  2020-11-06\n",
       "A    0.822360    0.350608   -0.269674   -1.016871   -1.386138    2.153887\n",
       "B    1.157473   -1.262714   -1.238298   -0.218234    0.178950    0.227719\n",
       "C   -0.799502   -0.461467    0.898560    0.855766   -0.448507   -0.184575\n",
       "D    1.150930   -0.745286   -1.429048   -1.150457    0.408281   -0.221846"
      ]
     },
     "execution_count": 10,
     "metadata": {},
     "output_type": "execute_result"
    }
   ],
   "source": [
    "df.T"
   ]
  },
  {
   "cell_type": "markdown",
   "metadata": {},
   "source": [
    "As well as sort the DataFrame. For example, we can sort it by column in descending order:"
   ]
  },
  {
   "cell_type": "code",
   "execution_count": 11,
   "metadata": {},
   "outputs": [
    {
     "data": {
      "text/html": [
       "<div>\n",
       "<style scoped>\n",
       "    .dataframe tbody tr th:only-of-type {\n",
       "        vertical-align: middle;\n",
       "    }\n",
       "\n",
       "    .dataframe tbody tr th {\n",
       "        vertical-align: top;\n",
       "    }\n",
       "\n",
       "    .dataframe thead th {\n",
       "        text-align: right;\n",
       "    }\n",
       "</style>\n",
       "<table border=\"1\" class=\"dataframe\">\n",
       "  <thead>\n",
       "    <tr style=\"text-align: right;\">\n",
       "      <th></th>\n",
       "      <th>D</th>\n",
       "      <th>C</th>\n",
       "      <th>B</th>\n",
       "      <th>A</th>\n",
       "    </tr>\n",
       "  </thead>\n",
       "  <tbody>\n",
       "    <tr>\n",
       "      <th>2020-11-01</th>\n",
       "      <td>1.150930</td>\n",
       "      <td>-0.799502</td>\n",
       "      <td>1.157473</td>\n",
       "      <td>0.822360</td>\n",
       "    </tr>\n",
       "    <tr>\n",
       "      <th>2020-11-02</th>\n",
       "      <td>-0.745286</td>\n",
       "      <td>-0.461467</td>\n",
       "      <td>-1.262714</td>\n",
       "      <td>0.350608</td>\n",
       "    </tr>\n",
       "    <tr>\n",
       "      <th>2020-11-03</th>\n",
       "      <td>-1.429048</td>\n",
       "      <td>0.898560</td>\n",
       "      <td>-1.238298</td>\n",
       "      <td>-0.269674</td>\n",
       "    </tr>\n",
       "    <tr>\n",
       "      <th>2020-11-04</th>\n",
       "      <td>-1.150457</td>\n",
       "      <td>0.855766</td>\n",
       "      <td>-0.218234</td>\n",
       "      <td>-1.016871</td>\n",
       "    </tr>\n",
       "    <tr>\n",
       "      <th>2020-11-05</th>\n",
       "      <td>0.408281</td>\n",
       "      <td>-0.448507</td>\n",
       "      <td>0.178950</td>\n",
       "      <td>-1.386138</td>\n",
       "    </tr>\n",
       "    <tr>\n",
       "      <th>2020-11-06</th>\n",
       "      <td>-0.221846</td>\n",
       "      <td>-0.184575</td>\n",
       "      <td>0.227719</td>\n",
       "      <td>2.153887</td>\n",
       "    </tr>\n",
       "  </tbody>\n",
       "</table>\n",
       "</div>"
      ],
      "text/plain": [
       "                   D         C         B         A\n",
       "2020-11-01  1.150930 -0.799502  1.157473  0.822360\n",
       "2020-11-02 -0.745286 -0.461467 -1.262714  0.350608\n",
       "2020-11-03 -1.429048  0.898560 -1.238298 -0.269674\n",
       "2020-11-04 -1.150457  0.855766 -0.218234 -1.016871\n",
       "2020-11-05  0.408281 -0.448507  0.178950 -1.386138\n",
       "2020-11-06 -0.221846 -0.184575  0.227719  2.153887"
      ]
     },
     "execution_count": 11,
     "metadata": {},
     "output_type": "execute_result"
    }
   ],
   "source": [
    "df.sort_index(axis=1, ascending=False)"
   ]
  },
  {
   "cell_type": "markdown",
   "metadata": {},
   "source": [
    "Or by column:"
   ]
  },
  {
   "cell_type": "code",
   "execution_count": 12,
   "metadata": {},
   "outputs": [
    {
     "data": {
      "text/html": [
       "<div>\n",
       "<style scoped>\n",
       "    .dataframe tbody tr th:only-of-type {\n",
       "        vertical-align: middle;\n",
       "    }\n",
       "\n",
       "    .dataframe tbody tr th {\n",
       "        vertical-align: top;\n",
       "    }\n",
       "\n",
       "    .dataframe thead th {\n",
       "        text-align: right;\n",
       "    }\n",
       "</style>\n",
       "<table border=\"1\" class=\"dataframe\">\n",
       "  <thead>\n",
       "    <tr style=\"text-align: right;\">\n",
       "      <th></th>\n",
       "      <th>A</th>\n",
       "      <th>B</th>\n",
       "      <th>C</th>\n",
       "      <th>D</th>\n",
       "    </tr>\n",
       "  </thead>\n",
       "  <tbody>\n",
       "    <tr>\n",
       "      <th>2020-11-02</th>\n",
       "      <td>0.350608</td>\n",
       "      <td>-1.262714</td>\n",
       "      <td>-0.461467</td>\n",
       "      <td>-0.745286</td>\n",
       "    </tr>\n",
       "    <tr>\n",
       "      <th>2020-11-03</th>\n",
       "      <td>-0.269674</td>\n",
       "      <td>-1.238298</td>\n",
       "      <td>0.898560</td>\n",
       "      <td>-1.429048</td>\n",
       "    </tr>\n",
       "    <tr>\n",
       "      <th>2020-11-04</th>\n",
       "      <td>-1.016871</td>\n",
       "      <td>-0.218234</td>\n",
       "      <td>0.855766</td>\n",
       "      <td>-1.150457</td>\n",
       "    </tr>\n",
       "    <tr>\n",
       "      <th>2020-11-05</th>\n",
       "      <td>-1.386138</td>\n",
       "      <td>0.178950</td>\n",
       "      <td>-0.448507</td>\n",
       "      <td>0.408281</td>\n",
       "    </tr>\n",
       "    <tr>\n",
       "      <th>2020-11-06</th>\n",
       "      <td>2.153887</td>\n",
       "      <td>0.227719</td>\n",
       "      <td>-0.184575</td>\n",
       "      <td>-0.221846</td>\n",
       "    </tr>\n",
       "    <tr>\n",
       "      <th>2020-11-01</th>\n",
       "      <td>0.822360</td>\n",
       "      <td>1.157473</td>\n",
       "      <td>-0.799502</td>\n",
       "      <td>1.150930</td>\n",
       "    </tr>\n",
       "  </tbody>\n",
       "</table>\n",
       "</div>"
      ],
      "text/plain": [
       "                   A         B         C         D\n",
       "2020-11-02  0.350608 -1.262714 -0.461467 -0.745286\n",
       "2020-11-03 -0.269674 -1.238298  0.898560 -1.429048\n",
       "2020-11-04 -1.016871 -0.218234  0.855766 -1.150457\n",
       "2020-11-05 -1.386138  0.178950 -0.448507  0.408281\n",
       "2020-11-06  2.153887  0.227719 -0.184575 -0.221846\n",
       "2020-11-01  0.822360  1.157473 -0.799502  1.150930"
      ]
     },
     "execution_count": 12,
     "metadata": {},
     "output_type": "execute_result"
    }
   ],
   "source": [
    "df.sort_values(by='B')"
   ]
  },
  {
   "cell_type": "markdown",
   "metadata": {},
   "source": [
    "Pandas also offers a quick statistic summary of the data:"
   ]
  },
  {
   "cell_type": "code",
   "execution_count": 13,
   "metadata": {},
   "outputs": [
    {
     "data": {
      "text/html": [
       "<div>\n",
       "<style scoped>\n",
       "    .dataframe tbody tr th:only-of-type {\n",
       "        vertical-align: middle;\n",
       "    }\n",
       "\n",
       "    .dataframe tbody tr th {\n",
       "        vertical-align: top;\n",
       "    }\n",
       "\n",
       "    .dataframe thead th {\n",
       "        text-align: right;\n",
       "    }\n",
       "</style>\n",
       "<table border=\"1\" class=\"dataframe\">\n",
       "  <thead>\n",
       "    <tr style=\"text-align: right;\">\n",
       "      <th></th>\n",
       "      <th>A</th>\n",
       "      <th>B</th>\n",
       "      <th>C</th>\n",
       "      <th>D</th>\n",
       "    </tr>\n",
       "  </thead>\n",
       "  <tbody>\n",
       "    <tr>\n",
       "      <th>count</th>\n",
       "      <td>6.000000</td>\n",
       "      <td>6.000000</td>\n",
       "      <td>6.000000</td>\n",
       "      <td>6.000000</td>\n",
       "    </tr>\n",
       "    <tr>\n",
       "      <th>mean</th>\n",
       "      <td>0.109028</td>\n",
       "      <td>-0.192517</td>\n",
       "      <td>-0.023288</td>\n",
       "      <td>-0.331238</td>\n",
       "    </tr>\n",
       "    <tr>\n",
       "      <th>std</th>\n",
       "      <td>1.295781</td>\n",
       "      <td>0.935596</td>\n",
       "      <td>0.724413</td>\n",
       "      <td>0.980145</td>\n",
       "    </tr>\n",
       "    <tr>\n",
       "      <th>min</th>\n",
       "      <td>-1.386138</td>\n",
       "      <td>-1.262714</td>\n",
       "      <td>-0.799502</td>\n",
       "      <td>-1.429048</td>\n",
       "    </tr>\n",
       "    <tr>\n",
       "      <th>25%</th>\n",
       "      <td>-0.830072</td>\n",
       "      <td>-0.983282</td>\n",
       "      <td>-0.458227</td>\n",
       "      <td>-1.049164</td>\n",
       "    </tr>\n",
       "    <tr>\n",
       "      <th>50%</th>\n",
       "      <td>0.040467</td>\n",
       "      <td>-0.019642</td>\n",
       "      <td>-0.316541</td>\n",
       "      <td>-0.483566</td>\n",
       "    </tr>\n",
       "    <tr>\n",
       "      <th>75%</th>\n",
       "      <td>0.704422</td>\n",
       "      <td>0.215527</td>\n",
       "      <td>0.595680</td>\n",
       "      <td>0.250750</td>\n",
       "    </tr>\n",
       "    <tr>\n",
       "      <th>max</th>\n",
       "      <td>2.153887</td>\n",
       "      <td>1.157473</td>\n",
       "      <td>0.898560</td>\n",
       "      <td>1.150930</td>\n",
       "    </tr>\n",
       "  </tbody>\n",
       "</table>\n",
       "</div>"
      ],
      "text/plain": [
       "              A         B         C         D\n",
       "count  6.000000  6.000000  6.000000  6.000000\n",
       "mean   0.109028 -0.192517 -0.023288 -0.331238\n",
       "std    1.295781  0.935596  0.724413  0.980145\n",
       "min   -1.386138 -1.262714 -0.799502 -1.429048\n",
       "25%   -0.830072 -0.983282 -0.458227 -1.049164\n",
       "50%    0.040467 -0.019642 -0.316541 -0.483566\n",
       "75%    0.704422  0.215527  0.595680  0.250750\n",
       "max    2.153887  1.157473  0.898560  1.150930"
      ]
     },
     "execution_count": 13,
     "metadata": {},
     "output_type": "execute_result"
    }
   ],
   "source": [
    "df.describe()"
   ]
  },
  {
   "cell_type": "markdown",
   "metadata": {},
   "source": [
    "# Selection"
   ]
  },
  {
   "cell_type": "markdown",
   "metadata": {},
   "source": [
    "Another usual task whilst working with data is the selection. Pandas offers a \"pythonic\" selection interface so we can slice our DataFrame in multiple ways. With Series, the syntax works exactly as with an ndarray, returning a slice of the values and the corresponding labels."
   ]
  },
  {
   "cell_type": "markdown",
   "metadata": {},
   "source": [
    "We can select by column:"
   ]
  },
  {
   "cell_type": "code",
   "execution_count": 14,
   "metadata": {},
   "outputs": [
    {
     "data": {
      "text/plain": [
       "2020-11-01    0.822360\n",
       "2020-11-02    0.350608\n",
       "2020-11-03   -0.269674\n",
       "2020-11-04   -1.016871\n",
       "2020-11-05   -1.386138\n",
       "2020-11-06    2.153887\n",
       "Freq: D, Name: A, dtype: float64"
      ]
     },
     "execution_count": 14,
     "metadata": {},
     "output_type": "execute_result"
    }
   ],
   "source": [
    "df['A']"
   ]
  },
  {
   "cell_type": "code",
   "execution_count": 15,
   "metadata": {},
   "outputs": [
    {
     "data": {
      "text/html": [
       "<div>\n",
       "<style scoped>\n",
       "    .dataframe tbody tr th:only-of-type {\n",
       "        vertical-align: middle;\n",
       "    }\n",
       "\n",
       "    .dataframe tbody tr th {\n",
       "        vertical-align: top;\n",
       "    }\n",
       "\n",
       "    .dataframe thead th {\n",
       "        text-align: right;\n",
       "    }\n",
       "</style>\n",
       "<table border=\"1\" class=\"dataframe\">\n",
       "  <thead>\n",
       "    <tr style=\"text-align: right;\">\n",
       "      <th></th>\n",
       "      <th>A</th>\n",
       "      <th>C</th>\n",
       "    </tr>\n",
       "  </thead>\n",
       "  <tbody>\n",
       "    <tr>\n",
       "      <th>2020-11-01</th>\n",
       "      <td>0.822360</td>\n",
       "      <td>-0.799502</td>\n",
       "    </tr>\n",
       "    <tr>\n",
       "      <th>2020-11-02</th>\n",
       "      <td>0.350608</td>\n",
       "      <td>-0.461467</td>\n",
       "    </tr>\n",
       "    <tr>\n",
       "      <th>2020-11-03</th>\n",
       "      <td>-0.269674</td>\n",
       "      <td>0.898560</td>\n",
       "    </tr>\n",
       "    <tr>\n",
       "      <th>2020-11-04</th>\n",
       "      <td>-1.016871</td>\n",
       "      <td>0.855766</td>\n",
       "    </tr>\n",
       "    <tr>\n",
       "      <th>2020-11-05</th>\n",
       "      <td>-1.386138</td>\n",
       "      <td>-0.448507</td>\n",
       "    </tr>\n",
       "    <tr>\n",
       "      <th>2020-11-06</th>\n",
       "      <td>2.153887</td>\n",
       "      <td>-0.184575</td>\n",
       "    </tr>\n",
       "  </tbody>\n",
       "</table>\n",
       "</div>"
      ],
      "text/plain": [
       "                   A         C\n",
       "2020-11-01  0.822360 -0.799502\n",
       "2020-11-02  0.350608 -0.461467\n",
       "2020-11-03 -0.269674  0.898560\n",
       "2020-11-04 -1.016871  0.855766\n",
       "2020-11-05 -1.386138 -0.448507\n",
       "2020-11-06  2.153887 -0.184575"
      ]
     },
     "execution_count": 15,
     "metadata": {},
     "output_type": "execute_result"
    }
   ],
   "source": [
    "df[['A', 'C']]"
   ]
  },
  {
   "cell_type": "markdown",
   "metadata": {},
   "source": [
    "By index:"
   ]
  },
  {
   "cell_type": "code",
   "execution_count": 16,
   "metadata": {},
   "outputs": [
    {
     "data": {
      "text/html": [
       "<div>\n",
       "<style scoped>\n",
       "    .dataframe tbody tr th:only-of-type {\n",
       "        vertical-align: middle;\n",
       "    }\n",
       "\n",
       "    .dataframe tbody tr th {\n",
       "        vertical-align: top;\n",
       "    }\n",
       "\n",
       "    .dataframe thead th {\n",
       "        text-align: right;\n",
       "    }\n",
       "</style>\n",
       "<table border=\"1\" class=\"dataframe\">\n",
       "  <thead>\n",
       "    <tr style=\"text-align: right;\">\n",
       "      <th></th>\n",
       "      <th>A</th>\n",
       "      <th>B</th>\n",
       "      <th>C</th>\n",
       "      <th>D</th>\n",
       "    </tr>\n",
       "  </thead>\n",
       "  <tbody>\n",
       "    <tr>\n",
       "      <th>2020-11-01</th>\n",
       "      <td>0.822360</td>\n",
       "      <td>1.157473</td>\n",
       "      <td>-0.799502</td>\n",
       "      <td>1.150930</td>\n",
       "    </tr>\n",
       "    <tr>\n",
       "      <th>2020-11-02</th>\n",
       "      <td>0.350608</td>\n",
       "      <td>-1.262714</td>\n",
       "      <td>-0.461467</td>\n",
       "      <td>-0.745286</td>\n",
       "    </tr>\n",
       "    <tr>\n",
       "      <th>2020-11-03</th>\n",
       "      <td>-0.269674</td>\n",
       "      <td>-1.238298</td>\n",
       "      <td>0.898560</td>\n",
       "      <td>-1.429048</td>\n",
       "    </tr>\n",
       "  </tbody>\n",
       "</table>\n",
       "</div>"
      ],
      "text/plain": [
       "                   A         B         C         D\n",
       "2020-11-01  0.822360  1.157473 -0.799502  1.150930\n",
       "2020-11-02  0.350608 -1.262714 -0.461467 -0.745286\n",
       "2020-11-03 -0.269674 -1.238298  0.898560 -1.429048"
      ]
     },
     "execution_count": 16,
     "metadata": {},
     "output_type": "execute_result"
    }
   ],
   "source": [
    "df[0:3]"
   ]
  },
  {
   "cell_type": "markdown",
   "metadata": {},
   "source": [
    "Or by a combination of the previous method:"
   ]
  },
  {
   "cell_type": "code",
   "execution_count": 17,
   "metadata": {},
   "outputs": [
    {
     "data": {
      "text/html": [
       "<div>\n",
       "<style scoped>\n",
       "    .dataframe tbody tr th:only-of-type {\n",
       "        vertical-align: middle;\n",
       "    }\n",
       "\n",
       "    .dataframe tbody tr th {\n",
       "        vertical-align: top;\n",
       "    }\n",
       "\n",
       "    .dataframe thead th {\n",
       "        text-align: right;\n",
       "    }\n",
       "</style>\n",
       "<table border=\"1\" class=\"dataframe\">\n",
       "  <thead>\n",
       "    <tr style=\"text-align: right;\">\n",
       "      <th></th>\n",
       "      <th>A</th>\n",
       "      <th>B</th>\n",
       "      <th>C</th>\n",
       "      <th>D</th>\n",
       "    </tr>\n",
       "  </thead>\n",
       "  <tbody>\n",
       "    <tr>\n",
       "      <th>2020-11-02</th>\n",
       "      <td>0.350608</td>\n",
       "      <td>-1.262714</td>\n",
       "      <td>-0.461467</td>\n",
       "      <td>-0.745286</td>\n",
       "    </tr>\n",
       "    <tr>\n",
       "      <th>2020-11-03</th>\n",
       "      <td>-0.269674</td>\n",
       "      <td>-1.238298</td>\n",
       "      <td>0.898560</td>\n",
       "      <td>-1.429048</td>\n",
       "    </tr>\n",
       "  </tbody>\n",
       "</table>\n",
       "</div>"
      ],
      "text/plain": [
       "                   A         B         C         D\n",
       "2020-11-02  0.350608 -1.262714 -0.461467 -0.745286\n",
       "2020-11-03 -0.269674 -1.238298  0.898560 -1.429048"
      ]
     },
     "execution_count": 17,
     "metadata": {},
     "output_type": "execute_result"
    }
   ],
   "source": [
    "df.iloc[1:3, :]"
   ]
  },
  {
   "cell_type": "code",
   "execution_count": 18,
   "metadata": {},
   "outputs": [
    {
     "data": {
      "text/html": [
       "<div>\n",
       "<style scoped>\n",
       "    .dataframe tbody tr th:only-of-type {\n",
       "        vertical-align: middle;\n",
       "    }\n",
       "\n",
       "    .dataframe tbody tr th {\n",
       "        vertical-align: top;\n",
       "    }\n",
       "\n",
       "    .dataframe thead th {\n",
       "        text-align: right;\n",
       "    }\n",
       "</style>\n",
       "<table border=\"1\" class=\"dataframe\">\n",
       "  <thead>\n",
       "    <tr style=\"text-align: right;\">\n",
       "      <th></th>\n",
       "      <th>B</th>\n",
       "      <th>C</th>\n",
       "    </tr>\n",
       "  </thead>\n",
       "  <tbody>\n",
       "    <tr>\n",
       "      <th>2020-11-01</th>\n",
       "      <td>1.157473</td>\n",
       "      <td>-0.799502</td>\n",
       "    </tr>\n",
       "    <tr>\n",
       "      <th>2020-11-02</th>\n",
       "      <td>-1.262714</td>\n",
       "      <td>-0.461467</td>\n",
       "    </tr>\n",
       "    <tr>\n",
       "      <th>2020-11-03</th>\n",
       "      <td>-1.238298</td>\n",
       "      <td>0.898560</td>\n",
       "    </tr>\n",
       "    <tr>\n",
       "      <th>2020-11-04</th>\n",
       "      <td>-0.218234</td>\n",
       "      <td>0.855766</td>\n",
       "    </tr>\n",
       "    <tr>\n",
       "      <th>2020-11-05</th>\n",
       "      <td>0.178950</td>\n",
       "      <td>-0.448507</td>\n",
       "    </tr>\n",
       "    <tr>\n",
       "      <th>2020-11-06</th>\n",
       "      <td>0.227719</td>\n",
       "      <td>-0.184575</td>\n",
       "    </tr>\n",
       "  </tbody>\n",
       "</table>\n",
       "</div>"
      ],
      "text/plain": [
       "                   B         C\n",
       "2020-11-01  1.157473 -0.799502\n",
       "2020-11-02 -1.262714 -0.461467\n",
       "2020-11-03 -1.238298  0.898560\n",
       "2020-11-04 -0.218234  0.855766\n",
       "2020-11-05  0.178950 -0.448507\n",
       "2020-11-06  0.227719 -0.184575"
      ]
     },
     "execution_count": 18,
     "metadata": {},
     "output_type": "execute_result"
    }
   ],
   "source": [
    "df.iloc[:, 1:3]"
   ]
  },
  {
   "cell_type": "code",
   "execution_count": 19,
   "metadata": {},
   "outputs": [
    {
     "data": {
      "text/plain": [
       "DatetimeIndex(['2020-11-01', '2020-11-02', '2020-11-03', '2020-11-04',\n",
       "               '2020-11-05', '2020-11-06'],\n",
       "              dtype='datetime64[ns]', freq='D')"
      ]
     },
     "execution_count": 19,
     "metadata": {},
     "output_type": "execute_result"
    }
   ],
   "source": [
    "df.index"
   ]
  },
  {
   "cell_type": "code",
   "execution_count": 20,
   "metadata": {},
   "outputs": [
    {
     "data": {
      "text/html": [
       "<div>\n",
       "<style scoped>\n",
       "    .dataframe tbody tr th:only-of-type {\n",
       "        vertical-align: middle;\n",
       "    }\n",
       "\n",
       "    .dataframe tbody tr th {\n",
       "        vertical-align: top;\n",
       "    }\n",
       "\n",
       "    .dataframe thead th {\n",
       "        text-align: right;\n",
       "    }\n",
       "</style>\n",
       "<table border=\"1\" class=\"dataframe\">\n",
       "  <thead>\n",
       "    <tr style=\"text-align: right;\">\n",
       "      <th></th>\n",
       "      <th>A</th>\n",
       "      <th>B</th>\n",
       "      <th>C</th>\n",
       "      <th>D</th>\n",
       "    </tr>\n",
       "  </thead>\n",
       "  <tbody>\n",
       "    <tr>\n",
       "      <th>2020-11-03</th>\n",
       "      <td>-0.269674</td>\n",
       "      <td>-1.238298</td>\n",
       "      <td>0.898560</td>\n",
       "      <td>-1.429048</td>\n",
       "    </tr>\n",
       "    <tr>\n",
       "      <th>2020-11-04</th>\n",
       "      <td>-1.016871</td>\n",
       "      <td>-0.218234</td>\n",
       "      <td>0.855766</td>\n",
       "      <td>-1.150457</td>\n",
       "    </tr>\n",
       "    <tr>\n",
       "      <th>2020-11-05</th>\n",
       "      <td>-1.386138</td>\n",
       "      <td>0.178950</td>\n",
       "      <td>-0.448507</td>\n",
       "      <td>0.408281</td>\n",
       "    </tr>\n",
       "  </tbody>\n",
       "</table>\n",
       "</div>"
      ],
      "text/plain": [
       "                   A         B         C         D\n",
       "2020-11-03 -0.269674 -1.238298  0.898560 -1.429048\n",
       "2020-11-04 -1.016871 -0.218234  0.855766 -1.150457\n",
       "2020-11-05 -1.386138  0.178950 -0.448507  0.408281"
      ]
     },
     "execution_count": 20,
     "metadata": {},
     "output_type": "execute_result"
    }
   ],
   "source": [
    "df.loc['2020-11-3':'2020-11-5']"
   ]
  },
  {
   "cell_type": "markdown",
   "metadata": {},
   "source": [
    "# Boolean indexing"
   ]
  },
  {
   "cell_type": "markdown",
   "metadata": {},
   "source": [
    "Pandas also supports boolean indexing. With this feature we can select data based on conditions, complex or simple."
   ]
  },
  {
   "cell_type": "markdown",
   "metadata": {},
   "source": [
    "For example, we can obtain the boolean mask that satisfies the following condition:"
   ]
  },
  {
   "cell_type": "code",
   "execution_count": 21,
   "metadata": {},
   "outputs": [
    {
     "data": {
      "text/html": [
       "<div>\n",
       "<style scoped>\n",
       "    .dataframe tbody tr th:only-of-type {\n",
       "        vertical-align: middle;\n",
       "    }\n",
       "\n",
       "    .dataframe tbody tr th {\n",
       "        vertical-align: top;\n",
       "    }\n",
       "\n",
       "    .dataframe thead th {\n",
       "        text-align: right;\n",
       "    }\n",
       "</style>\n",
       "<table border=\"1\" class=\"dataframe\">\n",
       "  <thead>\n",
       "    <tr style=\"text-align: right;\">\n",
       "      <th></th>\n",
       "      <th>A</th>\n",
       "      <th>B</th>\n",
       "      <th>C</th>\n",
       "      <th>D</th>\n",
       "    </tr>\n",
       "  </thead>\n",
       "  <tbody>\n",
       "    <tr>\n",
       "      <th>2020-11-01</th>\n",
       "      <td>True</td>\n",
       "      <td>True</td>\n",
       "      <td>False</td>\n",
       "      <td>True</td>\n",
       "    </tr>\n",
       "    <tr>\n",
       "      <th>2020-11-02</th>\n",
       "      <td>True</td>\n",
       "      <td>False</td>\n",
       "      <td>False</td>\n",
       "      <td>False</td>\n",
       "    </tr>\n",
       "    <tr>\n",
       "      <th>2020-11-03</th>\n",
       "      <td>False</td>\n",
       "      <td>False</td>\n",
       "      <td>True</td>\n",
       "      <td>False</td>\n",
       "    </tr>\n",
       "    <tr>\n",
       "      <th>2020-11-04</th>\n",
       "      <td>False</td>\n",
       "      <td>False</td>\n",
       "      <td>True</td>\n",
       "      <td>False</td>\n",
       "    </tr>\n",
       "    <tr>\n",
       "      <th>2020-11-05</th>\n",
       "      <td>False</td>\n",
       "      <td>True</td>\n",
       "      <td>False</td>\n",
       "      <td>True</td>\n",
       "    </tr>\n",
       "    <tr>\n",
       "      <th>2020-11-06</th>\n",
       "      <td>True</td>\n",
       "      <td>True</td>\n",
       "      <td>False</td>\n",
       "      <td>False</td>\n",
       "    </tr>\n",
       "  </tbody>\n",
       "</table>\n",
       "</div>"
      ],
      "text/plain": [
       "                A      B      C      D\n",
       "2020-11-01   True   True  False   True\n",
       "2020-11-02   True  False  False  False\n",
       "2020-11-03  False  False   True  False\n",
       "2020-11-04  False  False   True  False\n",
       "2020-11-05  False   True  False   True\n",
       "2020-11-06   True   True  False  False"
      ]
     },
     "execution_count": 21,
     "metadata": {},
     "output_type": "execute_result"
    }
   ],
   "source": [
    "mask = df > 0\n",
    "mask"
   ]
  },
  {
   "cell_type": "code",
   "execution_count": 22,
   "metadata": {},
   "outputs": [
    {
     "data": {
      "text/html": [
       "<div>\n",
       "<style scoped>\n",
       "    .dataframe tbody tr th:only-of-type {\n",
       "        vertical-align: middle;\n",
       "    }\n",
       "\n",
       "    .dataframe tbody tr th {\n",
       "        vertical-align: top;\n",
       "    }\n",
       "\n",
       "    .dataframe thead th {\n",
       "        text-align: right;\n",
       "    }\n",
       "</style>\n",
       "<table border=\"1\" class=\"dataframe\">\n",
       "  <thead>\n",
       "    <tr style=\"text-align: right;\">\n",
       "      <th></th>\n",
       "      <th>A</th>\n",
       "      <th>B</th>\n",
       "      <th>C</th>\n",
       "      <th>D</th>\n",
       "    </tr>\n",
       "  </thead>\n",
       "  <tbody>\n",
       "    <tr>\n",
       "      <th>2020-11-01</th>\n",
       "      <td>0.822360</td>\n",
       "      <td>1.157473</td>\n",
       "      <td>NaN</td>\n",
       "      <td>1.150930</td>\n",
       "    </tr>\n",
       "    <tr>\n",
       "      <th>2020-11-02</th>\n",
       "      <td>0.350608</td>\n",
       "      <td>NaN</td>\n",
       "      <td>NaN</td>\n",
       "      <td>NaN</td>\n",
       "    </tr>\n",
       "    <tr>\n",
       "      <th>2020-11-03</th>\n",
       "      <td>NaN</td>\n",
       "      <td>NaN</td>\n",
       "      <td>0.898560</td>\n",
       "      <td>NaN</td>\n",
       "    </tr>\n",
       "    <tr>\n",
       "      <th>2020-11-04</th>\n",
       "      <td>NaN</td>\n",
       "      <td>NaN</td>\n",
       "      <td>0.855766</td>\n",
       "      <td>NaN</td>\n",
       "    </tr>\n",
       "    <tr>\n",
       "      <th>2020-11-05</th>\n",
       "      <td>NaN</td>\n",
       "      <td>0.178950</td>\n",
       "      <td>NaN</td>\n",
       "      <td>0.408281</td>\n",
       "    </tr>\n",
       "    <tr>\n",
       "      <th>2020-11-06</th>\n",
       "      <td>2.153887</td>\n",
       "      <td>0.227719</td>\n",
       "      <td>NaN</td>\n",
       "      <td>NaN</td>\n",
       "    </tr>\n",
       "  </tbody>\n",
       "</table>\n",
       "</div>"
      ],
      "text/plain": [
       "                   A         B         C         D\n",
       "2020-11-01  0.822360  1.157473       NaN  1.150930\n",
       "2020-11-02  0.350608       NaN       NaN       NaN\n",
       "2020-11-03       NaN       NaN  0.898560       NaN\n",
       "2020-11-04       NaN       NaN  0.855766       NaN\n",
       "2020-11-05       NaN  0.178950       NaN  0.408281\n",
       "2020-11-06  2.153887  0.227719       NaN       NaN"
      ]
     },
     "execution_count": 22,
     "metadata": {},
     "output_type": "execute_result"
    }
   ],
   "source": [
    "df[mask]"
   ]
  },
  {
   "cell_type": "markdown",
   "metadata": {},
   "source": [
    "We can also apply these conditions over a subset of the data. For example, we can get all the values that satisfy the next constraint:"
   ]
  },
  {
   "cell_type": "code",
   "execution_count": 23,
   "metadata": {},
   "outputs": [
    {
     "data": {
      "text/html": [
       "<div>\n",
       "<style scoped>\n",
       "    .dataframe tbody tr th:only-of-type {\n",
       "        vertical-align: middle;\n",
       "    }\n",
       "\n",
       "    .dataframe tbody tr th {\n",
       "        vertical-align: top;\n",
       "    }\n",
       "\n",
       "    .dataframe thead th {\n",
       "        text-align: right;\n",
       "    }\n",
       "</style>\n",
       "<table border=\"1\" class=\"dataframe\">\n",
       "  <thead>\n",
       "    <tr style=\"text-align: right;\">\n",
       "      <th></th>\n",
       "      <th>A</th>\n",
       "      <th>B</th>\n",
       "      <th>C</th>\n",
       "      <th>D</th>\n",
       "    </tr>\n",
       "  </thead>\n",
       "  <tbody>\n",
       "    <tr>\n",
       "      <th>2020-11-01</th>\n",
       "      <td>0.822360</td>\n",
       "      <td>1.157473</td>\n",
       "      <td>-0.799502</td>\n",
       "      <td>1.150930</td>\n",
       "    </tr>\n",
       "    <tr>\n",
       "      <th>2020-11-02</th>\n",
       "      <td>0.350608</td>\n",
       "      <td>-1.262714</td>\n",
       "      <td>-0.461467</td>\n",
       "      <td>-0.745286</td>\n",
       "    </tr>\n",
       "    <tr>\n",
       "      <th>2020-11-06</th>\n",
       "      <td>2.153887</td>\n",
       "      <td>0.227719</td>\n",
       "      <td>-0.184575</td>\n",
       "      <td>-0.221846</td>\n",
       "    </tr>\n",
       "  </tbody>\n",
       "</table>\n",
       "</div>"
      ],
      "text/plain": [
       "                   A         B         C         D\n",
       "2020-11-01  0.822360  1.157473 -0.799502  1.150930\n",
       "2020-11-02  0.350608 -1.262714 -0.461467 -0.745286\n",
       "2020-11-06  2.153887  0.227719 -0.184575 -0.221846"
      ]
     },
     "execution_count": 23,
     "metadata": {},
     "output_type": "execute_result"
    }
   ],
   "source": [
    "df[df['A'] > 0]"
   ]
  },
  {
   "cell_type": "markdown",
   "metadata": {},
   "source": [
    "And of course the logical operators (and, or, exclusive-or) are supported:"
   ]
  },
  {
   "cell_type": "code",
   "execution_count": 24,
   "metadata": {},
   "outputs": [
    {
     "data": {
      "text/html": [
       "<div>\n",
       "<style scoped>\n",
       "    .dataframe tbody tr th:only-of-type {\n",
       "        vertical-align: middle;\n",
       "    }\n",
       "\n",
       "    .dataframe tbody tr th {\n",
       "        vertical-align: top;\n",
       "    }\n",
       "\n",
       "    .dataframe thead th {\n",
       "        text-align: right;\n",
       "    }\n",
       "</style>\n",
       "<table border=\"1\" class=\"dataframe\">\n",
       "  <thead>\n",
       "    <tr style=\"text-align: right;\">\n",
       "      <th></th>\n",
       "      <th>A</th>\n",
       "      <th>B</th>\n",
       "      <th>C</th>\n",
       "      <th>D</th>\n",
       "    </tr>\n",
       "  </thead>\n",
       "  <tbody>\n",
       "  </tbody>\n",
       "</table>\n",
       "</div>"
      ],
      "text/plain": [
       "Empty DataFrame\n",
       "Columns: [A, B, C, D]\n",
       "Index: []"
      ]
     },
     "execution_count": 24,
     "metadata": {},
     "output_type": "execute_result"
    }
   ],
   "source": [
    "df[(df['A'] > 0) & (df['C'] > 0)]"
   ]
  },
  {
   "cell_type": "markdown",
   "metadata": {},
   "source": [
    "# Missing data"
   ]
  },
  {
   "cell_type": "markdown",
   "metadata": {},
   "source": [
    "Pandas can handle missing values without hassle. Given the Series introduced at the beginning of the notebook which contains one missing value:"
   ]
  },
  {
   "cell_type": "code",
   "execution_count": 25,
   "metadata": {},
   "outputs": [
    {
     "data": {
      "text/plain": [
       "0    1.0\n",
       "1    3.0\n",
       "2    5.0\n",
       "3    NaN\n",
       "4    6.0\n",
       "5    8.0\n",
       "dtype: float64"
      ]
     },
     "execution_count": 25,
     "metadata": {},
     "output_type": "execute_result"
    }
   ],
   "source": [
    "s"
   ]
  },
  {
   "cell_type": "markdown",
   "metadata": {},
   "source": [
    "We can obtain which values are missing (NaN):"
   ]
  },
  {
   "cell_type": "code",
   "execution_count": 26,
   "metadata": {},
   "outputs": [
    {
     "data": {
      "text/plain": [
       "0    False\n",
       "1    False\n",
       "2    False\n",
       "3     True\n",
       "4    False\n",
       "5    False\n",
       "dtype: bool"
      ]
     },
     "execution_count": 26,
     "metadata": {},
     "output_type": "execute_result"
    }
   ],
   "source": [
    "pd.isna(s)"
   ]
  },
  {
   "cell_type": "markdown",
   "metadata": {},
   "source": [
    "As we stated previously Pandas allows boolean indexing..."
   ]
  },
  {
   "cell_type": "code",
   "execution_count": 27,
   "metadata": {},
   "outputs": [
    {
     "data": {
      "text/plain": [
       "3   NaN\n",
       "dtype: float64"
      ]
     },
     "execution_count": 27,
     "metadata": {},
     "output_type": "execute_result"
    }
   ],
   "source": [
    "s[pd.isna(s)]"
   ]
  },
  {
   "cell_type": "markdown",
   "metadata": {},
   "source": [
    "At this point we are left with three choices: do nothing, delete the missing values or replace them with a value. The first one is not an issue and with Pandas neither of them are."
   ]
  },
  {
   "cell_type": "markdown",
   "metadata": {},
   "source": [
    "We can easily delete them:"
   ]
  },
  {
   "cell_type": "code",
   "execution_count": 28,
   "metadata": {},
   "outputs": [
    {
     "data": {
      "text/plain": [
       "0    1.0\n",
       "1    3.0\n",
       "2    5.0\n",
       "4    6.0\n",
       "5    8.0\n",
       "dtype: float64"
      ]
     },
     "execution_count": 28,
     "metadata": {},
     "output_type": "execute_result"
    }
   ],
   "source": [
    "s.dropna(how='any')"
   ]
  },
  {
   "cell_type": "markdown",
   "metadata": {},
   "source": [
    "Or replace it with another value, in this case 5, but Pandas offers multiple options: previous/next valid value, mean or whichever function we pass to the `fillna` method."
   ]
  },
  {
   "cell_type": "code",
   "execution_count": 29,
   "metadata": {},
   "outputs": [
    {
     "data": {
      "text/plain": [
       "0    1.0\n",
       "1    3.0\n",
       "2    5.0\n",
       "3    5.0\n",
       "4    6.0\n",
       "5    8.0\n",
       "dtype: float64"
      ]
     },
     "execution_count": 29,
     "metadata": {},
     "output_type": "execute_result"
    }
   ],
   "source": [
    "s.fillna(value=5)"
   ]
  },
  {
   "cell_type": "markdown",
   "metadata": {},
   "source": [
    "# Plotting"
   ]
  },
  {
   "cell_type": "markdown",
   "metadata": {},
   "source": [
    "Pandas offers a shortcut to `matplotlib` so we can easily plot our data with the call of a method. Let's build a random time series dataset and plot it."
   ]
  },
  {
   "cell_type": "code",
   "execution_count": 30,
   "metadata": {},
   "outputs": [],
   "source": [
    "ts = pd.Series(np.random.randn(1000), index=pd.date_range('11/1/2020', periods=1000))\n",
    "ts = ts.cumsum()"
   ]
  },
  {
   "cell_type": "markdown",
   "metadata": {},
   "source": [
    "The default plot type is the `line` plot, perfect for the data at hand."
   ]
  },
  {
   "cell_type": "code",
   "execution_count": 31,
   "metadata": {},
   "outputs": [
    {
     "data": {
      "text/plain": [
       "<AxesSubplot:>"
      ]
     },
     "execution_count": 31,
     "metadata": {},
     "output_type": "execute_result"
    },
    {
     "data": {
      "image/png": "[encoded data removed]",
      "text/plain": [
       "<Figure size 432x288 with 1 Axes>"
      ]
     },
     "metadata": {
      "needs_background": "light"
     },
     "output_type": "display_data"
    }
   ],
   "source": [
    "ts.plot()"
   ]
  },
  {
   "cell_type": "markdown",
   "metadata": {},
   "source": [
    "We can also plot multivariate data and Pandas will handle the labels, legends, colors..."
   ]
  },
  {
   "cell_type": "code",
   "execution_count": 32,
   "metadata": {},
   "outputs": [
    {
     "data": {
      "text/plain": [
       "<AxesSubplot:>"
      ]
     },
     "execution_count": 32,
     "metadata": {},
     "output_type": "execute_result"
    },
    {
     "data": {
      "image/png": "[encoded data removed]",
      "text/plain": [
       "<Figure size 432x288 with 1 Axes>"
      ]
     },
     "metadata": {
      "needs_background": "light"
     },
     "output_type": "display_data"
    }
   ],
   "source": [
    "df.plot()"
   ]
  },
  {
   "cell_type": "markdown",
   "metadata": {},
   "source": [
    "Or change the plot type:"
   ]
  },
  {
   "cell_type": "code",
   "execution_count": 33,
   "metadata": {},
   "outputs": [
    {
     "data": {
      "text/plain": [
       "<AxesSubplot:>"
      ]
     },
     "execution_count": 33,
     "metadata": {},
     "output_type": "execute_result"
    },
    {
     "data": {
      "image/png": "[encoded data removed]",
      "text/plain": [
       "<Figure size 432x288 with 1 Axes>"
      ]
     },
     "metadata": {
      "needs_background": "light"
     },
     "output_type": "display_data"
    }
   ],
   "source": [
    "df.plot(kind='bar')"
   ]
  },
  {
   "cell_type": "markdown",
   "metadata": {},
   "source": [
    "# Correlation \"plot\""
   ]
  },
  {
   "cell_type": "markdown",
   "metadata": {},
   "source": [
    "In some cases we don't even need to use the binding with Matplotlib. For example, another usual plot we can make with Pandas and Pandas alone is the correlation plot."
   ]
  },
  {
   "cell_type": "code",
   "execution_count": 34,
   "metadata": {},
   "outputs": [
    {
     "data": {
      "text/html": [
       "<div>\n",
       "<style scoped>\n",
       "    .dataframe tbody tr th:only-of-type {\n",
       "        vertical-align: middle;\n",
       "    }\n",
       "\n",
       "    .dataframe tbody tr th {\n",
       "        vertical-align: top;\n",
       "    }\n",
       "\n",
       "    .dataframe thead th {\n",
       "        text-align: right;\n",
       "    }\n",
       "</style>\n",
       "<table border=\"1\" class=\"dataframe\">\n",
       "  <thead>\n",
       "    <tr style=\"text-align: right;\">\n",
       "      <th></th>\n",
       "      <th>A</th>\n",
       "      <th>B</th>\n",
       "      <th>C</th>\n",
       "      <th>D</th>\n",
       "    </tr>\n",
       "  </thead>\n",
       "  <tbody>\n",
       "    <tr>\n",
       "      <th>A</th>\n",
       "      <td>1.000000</td>\n",
       "      <td>0.236466</td>\n",
       "      <td>-0.360596</td>\n",
       "      <td>0.222564</td>\n",
       "    </tr>\n",
       "    <tr>\n",
       "      <th>B</th>\n",
       "      <td>0.236466</td>\n",
       "      <td>1.000000</td>\n",
       "      <td>-0.528606</td>\n",
       "      <td>0.857962</td>\n",
       "    </tr>\n",
       "    <tr>\n",
       "      <th>C</th>\n",
       "      <td>-0.360596</td>\n",
       "      <td>-0.528606</td>\n",
       "      <td>1.000000</td>\n",
       "      <td>-0.854416</td>\n",
       "    </tr>\n",
       "    <tr>\n",
       "      <th>D</th>\n",
       "      <td>0.222564</td>\n",
       "      <td>0.857962</td>\n",
       "      <td>-0.854416</td>\n",
       "      <td>1.000000</td>\n",
       "    </tr>\n",
       "  </tbody>\n",
       "</table>\n",
       "</div>"
      ],
      "text/plain": [
       "          A         B         C         D\n",
       "A  1.000000  0.236466 -0.360596  0.222564\n",
       "B  0.236466  1.000000 -0.528606  0.857962\n",
       "C -0.360596 -0.528606  1.000000 -0.854416\n",
       "D  0.222564  0.857962 -0.854416  1.000000"
      ]
     },
     "execution_count": 34,
     "metadata": {},
     "output_type": "execute_result"
    }
   ],
   "source": [
    "df_corr = df.corr()\n",
    "df_corr"
   ]
  },
  {
   "cell_type": "markdown",
   "metadata": {},
   "source": [
    "Pandas supports styles (even with HTML and CSS) so creating a colored correlation plot is really easy."
   ]
  },
  {
   "cell_type": "code",
   "execution_count": 35,
   "metadata": {},
   "outputs": [
    {
     "data": {
      "text/html": [
       "<style  type=\"text/css\" >\n",
       "#T_fa41ea14_2e27_11eb_a122_73dddeb70e45row0_col0,#T_fa41ea14_2e27_11eb_a122_73dddeb70e45row1_col1,#T_fa41ea14_2e27_11eb_a122_73dddeb70e45row2_col2,#T_fa41ea14_2e27_11eb_a122_73dddeb70e45row3_col3{\n",
       "            background-color:  #b40426;\n",
       "            color:  #f1f1f1;\n",
       "        }#T_fa41ea14_2e27_11eb_a122_73dddeb70e45row0_col1,#T_fa41ea14_2e27_11eb_a122_73dddeb70e45row1_col0{\n",
       "            background-color:  #f0cdbb;\n",
       "            color:  #000000;\n",
       "        }#T_fa41ea14_2e27_11eb_a122_73dddeb70e45row0_col2,#T_fa41ea14_2e27_11eb_a122_73dddeb70e45row2_col0{\n",
       "            background-color:  #93b5fe;\n",
       "            color:  #000000;\n",
       "        }#T_fa41ea14_2e27_11eb_a122_73dddeb70e45row0_col3,#T_fa41ea14_2e27_11eb_a122_73dddeb70e45row3_col0{\n",
       "            background-color:  #efcfbf;\n",
       "            color:  #000000;\n",
       "        }#T_fa41ea14_2e27_11eb_a122_73dddeb70e45row1_col2,#T_fa41ea14_2e27_11eb_a122_73dddeb70e45row2_col1{\n",
       "            background-color:  #7295f4;\n",
       "            color:  #000000;\n",
       "        }#T_fa41ea14_2e27_11eb_a122_73dddeb70e45row1_col3,#T_fa41ea14_2e27_11eb_a122_73dddeb70e45row3_col1{\n",
       "            background-color:  #cf453c;\n",
       "            color:  #f1f1f1;\n",
       "        }#T_fa41ea14_2e27_11eb_a122_73dddeb70e45row2_col3,#T_fa41ea14_2e27_11eb_a122_73dddeb70e45row3_col2{\n",
       "            background-color:  #3b4cc0;\n",
       "            color:  #f1f1f1;\n",
       "        }</style><table id=\"T_fa41ea14_2e27_11eb_a122_73dddeb70e45\" ><thead>    <tr>        <th class=\"blank level0\" ></th>        <th class=\"col_heading level0 col0\" >A</th>        <th class=\"col_heading level0 col1\" >B</th>        <th class=\"col_heading level0 col2\" >C</th>        <th class=\"col_heading level0 col3\" >D</th>    </tr></thead><tbody>\n",
       "                <tr>\n",
       "                        <th id=\"T_fa41ea14_2e27_11eb_a122_73dddeb70e45level0_row0\" class=\"row_heading level0 row0\" >A</th>\n",
       "                        <td id=\"T_fa41ea14_2e27_11eb_a122_73dddeb70e45row0_col0\" class=\"data row0 col0\" >1.00</td>\n",
       "                        <td id=\"T_fa41ea14_2e27_11eb_a122_73dddeb70e45row0_col1\" class=\"data row0 col1\" >0.24</td>\n",
       "                        <td id=\"T_fa41ea14_2e27_11eb_a122_73dddeb70e45row0_col2\" class=\"data row0 col2\" >-0.36</td>\n",
       "                        <td id=\"T_fa41ea14_2e27_11eb_a122_73dddeb70e45row0_col3\" class=\"data row0 col3\" >0.22</td>\n",
       "            </tr>\n",
       "            <tr>\n",
       "                        <th id=\"T_fa41ea14_2e27_11eb_a122_73dddeb70e45level0_row1\" class=\"row_heading level0 row1\" >B</th>\n",
       "                        <td id=\"T_fa41ea14_2e27_11eb_a122_73dddeb70e45row1_col0\" class=\"data row1 col0\" >0.24</td>\n",
       "                        <td id=\"T_fa41ea14_2e27_11eb_a122_73dddeb70e45row1_col1\" class=\"data row1 col1\" >1.00</td>\n",
       "                        <td id=\"T_fa41ea14_2e27_11eb_a122_73dddeb70e45row1_col2\" class=\"data row1 col2\" >-0.53</td>\n",
       "                        <td id=\"T_fa41ea14_2e27_11eb_a122_73dddeb70e45row1_col3\" class=\"data row1 col3\" >0.86</td>\n",
       "            </tr>\n",
       "            <tr>\n",
       "                        <th id=\"T_fa41ea14_2e27_11eb_a122_73dddeb70e45level0_row2\" class=\"row_heading level0 row2\" >C</th>\n",
       "                        <td id=\"T_fa41ea14_2e27_11eb_a122_73dddeb70e45row2_col0\" class=\"data row2 col0\" >-0.36</td>\n",
       "                        <td id=\"T_fa41ea14_2e27_11eb_a122_73dddeb70e45row2_col1\" class=\"data row2 col1\" >-0.53</td>\n",
       "                        <td id=\"T_fa41ea14_2e27_11eb_a122_73dddeb70e45row2_col2\" class=\"data row2 col2\" >1.00</td>\n",
       "                        <td id=\"T_fa41ea14_2e27_11eb_a122_73dddeb70e45row2_col3\" class=\"data row2 col3\" >-0.85</td>\n",
       "            </tr>\n",
       "            <tr>\n",
       "                        <th id=\"T_fa41ea14_2e27_11eb_a122_73dddeb70e45level0_row3\" class=\"row_heading level0 row3\" >D</th>\n",
       "                        <td id=\"T_fa41ea14_2e27_11eb_a122_73dddeb70e45row3_col0\" class=\"data row3 col0\" >0.22</td>\n",
       "                        <td id=\"T_fa41ea14_2e27_11eb_a122_73dddeb70e45row3_col1\" class=\"data row3 col1\" >0.86</td>\n",
       "                        <td id=\"T_fa41ea14_2e27_11eb_a122_73dddeb70e45row3_col2\" class=\"data row3 col2\" >-0.85</td>\n",
       "                        <td id=\"T_fa41ea14_2e27_11eb_a122_73dddeb70e45row3_col3\" class=\"data row3 col3\" >1.00</td>\n",
       "            </tr>\n",
       "    </tbody></table>"
      ],
      "text/plain": [
       "<pandas.io.formats.style.Styler at 0x7f4bed930490>"
      ]
     },
     "execution_count": 35,
     "metadata": {},
     "output_type": "execute_result"
    }
   ],
   "source": [
    "df_corr.style.background_gradient(cmap='coolwarm', axis=None).set_precision(2)"
   ]
  },
  {
   "cell_type": "markdown",
   "metadata": {},
   "source": [
    "# Data reading"
   ]
  },
  {
   "cell_type": "markdown",
   "metadata": {},
   "source": [
    "And if you are wondering Pandas can also read (and write) from multiple file types: CSV, Excel, HDF5, Parquet... Let's load the SDSS (Sloan Digital Sky Survey) dataset from https://www.sdss.org/."
   ]
  },
  {
   "cell_type": "code",
   "execution_count": 36,
   "metadata": {},
   "outputs": [],
   "source": [
    "df =  pd.read_csv('data/sdss.csv')\n",
    "_ = df.pop('objid')"
   ]
  },
  {
   "cell_type": "markdown",
   "metadata": {},
   "source": [
    "But this is not all about Pandas. Pandas is a huge library which offers endless resources to handle our data. Do not forget to visit the official documentation to take a glance of all that Pandas has to offer: https://pandas.pydata.org/docs/reference/index.html#api"
   ]
  },
  {
   "cell_type": "markdown",
   "metadata": {},
   "source": [
    "# EDA (Exploratory Data Analysis)"
   ]
  },
  {
   "cell_type": "markdown",
   "metadata": {},
   "source": [
    "We can start by taking a peek at the head of the data to get a notion of the data at hand. The data consists of 10000 observations of space taken by the SDSS (Sloan Digital Sky Survey). Every observation is described by 17 feature columns and 1 class column which identifies it to be either a star, galaxy or quasar.\n",
    "\n",
    "Data from: https://www.sdss.org/\n",
    "\n",
    "The Sloan Digital Sky Survey has created the most detailed three-dimensional maps of the Universe ever made, with deep multi-color images of one third of the sky, and spectra for more than three million astronomical objects. Learn and explore all phases and surveys—past, present, and future—of the SDSS.\n"
   ]
  },
  {
   "cell_type": "code",
   "execution_count": 37,
   "metadata": {},
   "outputs": [
    {
     "data": {
      "text/html": [
       "<div>\n",
       "<style scoped>\n",
       "    .dataframe tbody tr th:only-of-type {\n",
       "        vertical-align: middle;\n",
       "    }\n",
       "\n",
       "    .dataframe tbody tr th {\n",
       "        vertical-align: top;\n",
       "    }\n",
       "\n",
       "    .dataframe thead th {\n",
       "        text-align: right;\n",
       "    }\n",
       "</style>\n",
       "<table border=\"1\" class=\"dataframe\">\n",
       "  <thead>\n",
       "    <tr style=\"text-align: right;\">\n",
       "      <th></th>\n",
       "      <th>ra</th>\n",
       "      <th>dec</th>\n",
       "      <th>u</th>\n",
       "      <th>g</th>\n",
       "      <th>r</th>\n",
       "      <th>i</th>\n",
       "      <th>z</th>\n",
       "      <th>run</th>\n",
       "      <th>rerun</th>\n",
       "      <th>camcol</th>\n",
       "      <th>field</th>\n",
       "      <th>specobjid</th>\n",
       "      <th>class</th>\n",
       "      <th>redshift</th>\n",
       "      <th>plate</th>\n",
       "      <th>mjd</th>\n",
       "      <th>fiberid</th>\n",
       "    </tr>\n",
       "  </thead>\n",
       "  <tbody>\n",
       "    <tr>\n",
       "      <th>0</th>\n",
       "      <td>183.531326</td>\n",
       "      <td>0.089693</td>\n",
       "      <td>19.47406</td>\n",
       "      <td>17.04240</td>\n",
       "      <td>15.94699</td>\n",
       "      <td>15.50342</td>\n",
       "      <td>15.22531</td>\n",
       "      <td>752</td>\n",
       "      <td>301</td>\n",
       "      <td>4</td>\n",
       "      <td>267</td>\n",
       "      <td>3722360139651588096</td>\n",
       "      <td>STAR</td>\n",
       "      <td>-0.000009</td>\n",
       "      <td>3306</td>\n",
       "      <td>54922</td>\n",
       "      <td>491</td>\n",
       "    </tr>\n",
       "    <tr>\n",
       "      <th>1</th>\n",
       "      <td>183.598371</td>\n",
       "      <td>0.135285</td>\n",
       "      <td>18.66280</td>\n",
       "      <td>17.21449</td>\n",
       "      <td>16.67637</td>\n",
       "      <td>16.48922</td>\n",
       "      <td>16.39150</td>\n",
       "      <td>752</td>\n",
       "      <td>301</td>\n",
       "      <td>4</td>\n",
       "      <td>267</td>\n",
       "      <td>363814405953054720</td>\n",
       "      <td>STAR</td>\n",
       "      <td>-0.000055</td>\n",
       "      <td>323</td>\n",
       "      <td>51615</td>\n",
       "      <td>541</td>\n",
       "    </tr>\n",
       "    <tr>\n",
       "      <th>2</th>\n",
       "      <td>183.680207</td>\n",
       "      <td>0.126185</td>\n",
       "      <td>19.38298</td>\n",
       "      <td>18.19169</td>\n",
       "      <td>17.47428</td>\n",
       "      <td>17.08732</td>\n",
       "      <td>16.80125</td>\n",
       "      <td>752</td>\n",
       "      <td>301</td>\n",
       "      <td>4</td>\n",
       "      <td>268</td>\n",
       "      <td>323274319570429952</td>\n",
       "      <td>GALAXY</td>\n",
       "      <td>0.123111</td>\n",
       "      <td>287</td>\n",
       "      <td>52023</td>\n",
       "      <td>513</td>\n",
       "    </tr>\n",
       "    <tr>\n",
       "      <th>3</th>\n",
       "      <td>183.870529</td>\n",
       "      <td>0.049911</td>\n",
       "      <td>17.76536</td>\n",
       "      <td>16.60272</td>\n",
       "      <td>16.16116</td>\n",
       "      <td>15.98233</td>\n",
       "      <td>15.90438</td>\n",
       "      <td>752</td>\n",
       "      <td>301</td>\n",
       "      <td>4</td>\n",
       "      <td>269</td>\n",
       "      <td>3722365362331820032</td>\n",
       "      <td>STAR</td>\n",
       "      <td>-0.000111</td>\n",
       "      <td>3306</td>\n",
       "      <td>54922</td>\n",
       "      <td>510</td>\n",
       "    </tr>\n",
       "    <tr>\n",
       "      <th>4</th>\n",
       "      <td>183.883288</td>\n",
       "      <td>0.102557</td>\n",
       "      <td>17.55025</td>\n",
       "      <td>16.26342</td>\n",
       "      <td>16.43869</td>\n",
       "      <td>16.55492</td>\n",
       "      <td>16.61326</td>\n",
       "      <td>752</td>\n",
       "      <td>301</td>\n",
       "      <td>4</td>\n",
       "      <td>269</td>\n",
       "      <td>3722365912087633920</td>\n",
       "      <td>STAR</td>\n",
       "      <td>0.000590</td>\n",
       "      <td>3306</td>\n",
       "      <td>54922</td>\n",
       "      <td>512</td>\n",
       "    </tr>\n",
       "  </tbody>\n",
       "</table>\n",
       "</div>"
      ],
      "text/plain": [
       "           ra       dec         u         g         r         i         z  \\\n",
       "0  183.531326  0.089693  19.47406  17.04240  15.94699  15.50342  15.22531   \n",
       "1  183.598371  0.135285  18.66280  17.21449  16.67637  16.48922  16.39150   \n",
       "2  183.680207  0.126185  19.38298  18.19169  17.47428  17.08732  16.80125   \n",
       "3  183.870529  0.049911  17.76536  16.60272  16.16116  15.98233  15.90438   \n",
       "4  183.883288  0.102557  17.55025  16.26342  16.43869  16.55492  16.61326   \n",
       "\n",
       "   run  rerun  camcol  field            specobjid   class  redshift  plate  \\\n",
       "0  752    301       4    267  3722360139651588096    STAR -0.000009   3306   \n",
       "1  752    301       4    267   363814405953054720    STAR -0.000055    323   \n",
       "2  752    301       4    268   323274319570429952  GALAXY  0.123111    287   \n",
       "3  752    301       4    269  3722365362331820032    STAR -0.000111   3306   \n",
       "4  752    301       4    269  3722365912087633920    STAR  0.000590   3306   \n",
       "\n",
       "     mjd  fiberid  \n",
       "0  54922      491  \n",
       "1  51615      541  \n",
       "2  52023      513  \n",
       "3  54922      510  \n",
       "4  54922      512  "
      ]
     },
     "execution_count": 37,
     "metadata": {},
     "output_type": "execute_result"
    }
   ],
   "source": [
    "df.head()"
   ]
  },
  {
   "cell_type": "markdown",
   "metadata": {},
   "source": [
    "The columns description is as follows:\n",
    "* `ra`: right ascension.\n",
    "* `dec`: declination.\n",
    "* `u`: ultraviolet.\n",
    "* `g`: green.\n",
    "* `r`: red.\n",
    "* `i`: near infrared.\n",
    "* `z`: infrared.\n",
    "* `run`: run number.\n",
    "* `rerun`: rerun number.\n",
    "* `camcol`: camera column.\n",
    "* `field`: field number.\n",
    "* `specobjid`: object Identifier.\n",
    "* `class`: object class (galaxy, star or quasar).\n",
    "* `redshift`: final redshift.\n",
    "* `plate`: plate number.\n",
    "* `mjd`: MJD of observation.\n",
    "* `fiberid`: fiber ID.\n"
   ]
  },
  {
   "cell_type": "code",
   "execution_count": 38,
   "metadata": {},
   "outputs": [
    {
     "data": {
      "text/html": [
       "<div>\n",
       "<style scoped>\n",
       "    .dataframe tbody tr th:only-of-type {\n",
       "        vertical-align: middle;\n",
       "    }\n",
       "\n",
       "    .dataframe tbody tr th {\n",
       "        vertical-align: top;\n",
       "    }\n",
       "\n",
       "    .dataframe thead th {\n",
       "        text-align: right;\n",
       "    }\n",
       "</style>\n",
       "<table border=\"1\" class=\"dataframe\">\n",
       "  <thead>\n",
       "    <tr style=\"text-align: right;\">\n",
       "      <th></th>\n",
       "      <th>ra</th>\n",
       "      <th>dec</th>\n",
       "      <th>u</th>\n",
       "      <th>g</th>\n",
       "      <th>r</th>\n",
       "      <th>i</th>\n",
       "      <th>z</th>\n",
       "      <th>run</th>\n",
       "      <th>rerun</th>\n",
       "      <th>camcol</th>\n",
       "      <th>field</th>\n",
       "      <th>specobjid</th>\n",
       "      <th>redshift</th>\n",
       "      <th>plate</th>\n",
       "      <th>mjd</th>\n",
       "      <th>fiberid</th>\n",
       "    </tr>\n",
       "  </thead>\n",
       "  <tbody>\n",
       "    <tr>\n",
       "      <th>count</th>\n",
       "      <td>10000.000000</td>\n",
       "      <td>10000.000000</td>\n",
       "      <td>10000.000000</td>\n",
       "      <td>10000.000000</td>\n",
       "      <td>10000.000000</td>\n",
       "      <td>10000.000000</td>\n",
       "      <td>10000.000000</td>\n",
       "      <td>10000.000000</td>\n",
       "      <td>10000.0</td>\n",
       "      <td>10000.000000</td>\n",
       "      <td>10000.000000</td>\n",
       "      <td>1.000000e+04</td>\n",
       "      <td>10000.000000</td>\n",
       "      <td>10000.000000</td>\n",
       "      <td>10000.000000</td>\n",
       "      <td>10000.000000</td>\n",
       "    </tr>\n",
       "    <tr>\n",
       "      <th>mean</th>\n",
       "      <td>175.529987</td>\n",
       "      <td>14.836148</td>\n",
       "      <td>18.619355</td>\n",
       "      <td>17.371931</td>\n",
       "      <td>16.840963</td>\n",
       "      <td>16.583579</td>\n",
       "      <td>16.422833</td>\n",
       "      <td>981.034800</td>\n",
       "      <td>301.0</td>\n",
       "      <td>3.648700</td>\n",
       "      <td>302.380100</td>\n",
       "      <td>1.645022e+18</td>\n",
       "      <td>0.143726</td>\n",
       "      <td>1460.986400</td>\n",
       "      <td>52943.533300</td>\n",
       "      <td>353.069400</td>\n",
       "    </tr>\n",
       "    <tr>\n",
       "      <th>std</th>\n",
       "      <td>47.783439</td>\n",
       "      <td>25.212207</td>\n",
       "      <td>0.828656</td>\n",
       "      <td>0.945457</td>\n",
       "      <td>1.067764</td>\n",
       "      <td>1.141805</td>\n",
       "      <td>1.203188</td>\n",
       "      <td>273.305024</td>\n",
       "      <td>0.0</td>\n",
       "      <td>1.666183</td>\n",
       "      <td>162.577763</td>\n",
       "      <td>2.013998e+18</td>\n",
       "      <td>0.388774</td>\n",
       "      <td>1788.778371</td>\n",
       "      <td>1511.150651</td>\n",
       "      <td>206.298149</td>\n",
       "    </tr>\n",
       "    <tr>\n",
       "      <th>min</th>\n",
       "      <td>8.235100</td>\n",
       "      <td>-5.382632</td>\n",
       "      <td>12.988970</td>\n",
       "      <td>12.799550</td>\n",
       "      <td>12.431600</td>\n",
       "      <td>11.947210</td>\n",
       "      <td>11.610410</td>\n",
       "      <td>308.000000</td>\n",
       "      <td>301.0</td>\n",
       "      <td>1.000000</td>\n",
       "      <td>11.000000</td>\n",
       "      <td>2.995782e+17</td>\n",
       "      <td>-0.004136</td>\n",
       "      <td>266.000000</td>\n",
       "      <td>51578.000000</td>\n",
       "      <td>1.000000</td>\n",
       "    </tr>\n",
       "    <tr>\n",
       "      <th>25%</th>\n",
       "      <td>157.370946</td>\n",
       "      <td>-0.539035</td>\n",
       "      <td>18.178035</td>\n",
       "      <td>16.815100</td>\n",
       "      <td>16.173333</td>\n",
       "      <td>15.853705</td>\n",
       "      <td>15.618285</td>\n",
       "      <td>752.000000</td>\n",
       "      <td>301.0</td>\n",
       "      <td>2.000000</td>\n",
       "      <td>184.000000</td>\n",
       "      <td>3.389250e+17</td>\n",
       "      <td>0.000081</td>\n",
       "      <td>301.000000</td>\n",
       "      <td>51900.000000</td>\n",
       "      <td>186.750000</td>\n",
       "    </tr>\n",
       "    <tr>\n",
       "      <th>50%</th>\n",
       "      <td>180.394514</td>\n",
       "      <td>0.404166</td>\n",
       "      <td>18.853095</td>\n",
       "      <td>17.495135</td>\n",
       "      <td>16.858770</td>\n",
       "      <td>16.554985</td>\n",
       "      <td>16.389945</td>\n",
       "      <td>756.000000</td>\n",
       "      <td>301.0</td>\n",
       "      <td>4.000000</td>\n",
       "      <td>299.000000</td>\n",
       "      <td>4.966580e+17</td>\n",
       "      <td>0.042591</td>\n",
       "      <td>441.000000</td>\n",
       "      <td>51997.000000</td>\n",
       "      <td>351.000000</td>\n",
       "    </tr>\n",
       "    <tr>\n",
       "      <th>75%</th>\n",
       "      <td>201.547279</td>\n",
       "      <td>35.649397</td>\n",
       "      <td>19.259232</td>\n",
       "      <td>18.010145</td>\n",
       "      <td>17.512675</td>\n",
       "      <td>17.258550</td>\n",
       "      <td>17.141447</td>\n",
       "      <td>1331.000000</td>\n",
       "      <td>301.0</td>\n",
       "      <td>5.000000</td>\n",
       "      <td>414.000000</td>\n",
       "      <td>2.881300e+18</td>\n",
       "      <td>0.092579</td>\n",
       "      <td>2559.000000</td>\n",
       "      <td>54468.000000</td>\n",
       "      <td>510.000000</td>\n",
       "    </tr>\n",
       "    <tr>\n",
       "      <th>max</th>\n",
       "      <td>260.884382</td>\n",
       "      <td>68.542265</td>\n",
       "      <td>19.599900</td>\n",
       "      <td>19.918970</td>\n",
       "      <td>24.802040</td>\n",
       "      <td>28.179630</td>\n",
       "      <td>22.833060</td>\n",
       "      <td>1412.000000</td>\n",
       "      <td>301.0</td>\n",
       "      <td>6.000000</td>\n",
       "      <td>768.000000</td>\n",
       "      <td>9.468834e+18</td>\n",
       "      <td>5.353854</td>\n",
       "      <td>8410.000000</td>\n",
       "      <td>57481.000000</td>\n",
       "      <td>1000.000000</td>\n",
       "    </tr>\n",
       "  </tbody>\n",
       "</table>\n",
       "</div>"
      ],
      "text/plain": [
       "                 ra           dec             u             g             r  \\\n",
       "count  10000.000000  10000.000000  10000.000000  10000.000000  10000.000000   \n",
       "mean     175.529987     14.836148     18.619355     17.371931     16.840963   \n",
       "std       47.783439     25.212207      0.828656      0.945457      1.067764   \n",
       "min        8.235100     -5.382632     12.988970     12.799550     12.431600   \n",
       "25%      157.370946     -0.539035     18.178035     16.815100     16.173333   \n",
       "50%      180.394514      0.404166     18.853095     17.495135     16.858770   \n",
       "75%      201.547279     35.649397     19.259232     18.010145     17.512675   \n",
       "max      260.884382     68.542265     19.599900     19.918970     24.802040   \n",
       "\n",
       "                  i             z           run    rerun        camcol  \\\n",
       "count  10000.000000  10000.000000  10000.000000  10000.0  10000.000000   \n",
       "mean      16.583579     16.422833    981.034800    301.0      3.648700   \n",
       "std        1.141805      1.203188    273.305024      0.0      1.666183   \n",
       "min       11.947210     11.610410    308.000000    301.0      1.000000   \n",
       "25%       15.853705     15.618285    752.000000    301.0      2.000000   \n",
       "50%       16.554985     16.389945    756.000000    301.0      4.000000   \n",
       "75%       17.258550     17.141447   1331.000000    301.0      5.000000   \n",
       "max       28.179630     22.833060   1412.000000    301.0      6.000000   \n",
       "\n",
       "              field     specobjid      redshift         plate           mjd  \\\n",
       "count  10000.000000  1.000000e+04  10000.000000  10000.000000  10000.000000   \n",
       "mean     302.380100  1.645022e+18      0.143726   1460.986400  52943.533300   \n",
       "std      162.577763  2.013998e+18      0.388774   1788.778371   1511.150651   \n",
       "min       11.000000  2.995782e+17     -0.004136    266.000000  51578.000000   \n",
       "25%      184.000000  3.389250e+17      0.000081    301.000000  51900.000000   \n",
       "50%      299.000000  4.966580e+17      0.042591    441.000000  51997.000000   \n",
       "75%      414.000000  2.881300e+18      0.092579   2559.000000  54468.000000   \n",
       "max      768.000000  9.468834e+18      5.353854   8410.000000  57481.000000   \n",
       "\n",
       "            fiberid  \n",
       "count  10000.000000  \n",
       "mean     353.069400  \n",
       "std      206.298149  \n",
       "min        1.000000  \n",
       "25%      186.750000  \n",
       "50%      351.000000  \n",
       "75%      510.000000  \n",
       "max     1000.000000  "
      ]
     },
     "execution_count": 38,
     "metadata": {},
     "output_type": "execute_result"
    }
   ],
   "source": [
    "df.describe()"
   ]
  },
  {
   "cell_type": "markdown",
   "metadata": {},
   "source": [
    "After knowing a bit about the data we can check for missing values:"
   ]
  },
  {
   "cell_type": "code",
   "execution_count": 39,
   "metadata": {},
   "outputs": [
    {
     "data": {
      "text/html": [
       "<div>\n",
       "<style scoped>\n",
       "    .dataframe tbody tr th:only-of-type {\n",
       "        vertical-align: middle;\n",
       "    }\n",
       "\n",
       "    .dataframe tbody tr th {\n",
       "        vertical-align: top;\n",
       "    }\n",
       "\n",
       "    .dataframe thead th {\n",
       "        text-align: right;\n",
       "    }\n",
       "</style>\n",
       "<table border=\"1\" class=\"dataframe\">\n",
       "  <thead>\n",
       "    <tr style=\"text-align: right;\">\n",
       "      <th></th>\n",
       "      <th>ra</th>\n",
       "      <th>dec</th>\n",
       "      <th>u</th>\n",
       "      <th>g</th>\n",
       "      <th>r</th>\n",
       "      <th>i</th>\n",
       "      <th>z</th>\n",
       "      <th>run</th>\n",
       "      <th>rerun</th>\n",
       "      <th>camcol</th>\n",
       "      <th>field</th>\n",
       "      <th>specobjid</th>\n",
       "      <th>class</th>\n",
       "      <th>redshift</th>\n",
       "      <th>plate</th>\n",
       "      <th>mjd</th>\n",
       "      <th>fiberid</th>\n",
       "    </tr>\n",
       "  </thead>\n",
       "  <tbody>\n",
       "    <tr>\n",
       "      <th>0</th>\n",
       "      <td>False</td>\n",
       "      <td>False</td>\n",
       "      <td>False</td>\n",
       "      <td>False</td>\n",
       "      <td>False</td>\n",
       "      <td>False</td>\n",
       "      <td>False</td>\n",
       "      <td>False</td>\n",
       "      <td>False</td>\n",
       "      <td>False</td>\n",
       "      <td>False</td>\n",
       "      <td>False</td>\n",
       "      <td>False</td>\n",
       "      <td>False</td>\n",
       "      <td>False</td>\n",
       "      <td>False</td>\n",
       "      <td>False</td>\n",
       "    </tr>\n",
       "    <tr>\n",
       "      <th>1</th>\n",
       "      <td>False</td>\n",
       "      <td>False</td>\n",
       "      <td>False</td>\n",
       "      <td>False</td>\n",
       "      <td>False</td>\n",
       "      <td>False</td>\n",
       "      <td>False</td>\n",
       "      <td>False</td>\n",
       "      <td>False</td>\n",
       "      <td>False</td>\n",
       "      <td>False</td>\n",
       "      <td>False</td>\n",
       "      <td>False</td>\n",
       "      <td>False</td>\n",
       "      <td>False</td>\n",
       "      <td>False</td>\n",
       "      <td>False</td>\n",
       "    </tr>\n",
       "    <tr>\n",
       "      <th>2</th>\n",
       "      <td>False</td>\n",
       "      <td>False</td>\n",
       "      <td>False</td>\n",
       "      <td>False</td>\n",
       "      <td>False</td>\n",
       "      <td>False</td>\n",
       "      <td>False</td>\n",
       "      <td>False</td>\n",
       "      <td>False</td>\n",
       "      <td>False</td>\n",
       "      <td>False</td>\n",
       "      <td>False</td>\n",
       "      <td>False</td>\n",
       "      <td>False</td>\n",
       "      <td>False</td>\n",
       "      <td>False</td>\n",
       "      <td>False</td>\n",
       "    </tr>\n",
       "    <tr>\n",
       "      <th>3</th>\n",
       "      <td>False</td>\n",
       "      <td>False</td>\n",
       "      <td>False</td>\n",
       "      <td>False</td>\n",
       "      <td>False</td>\n",
       "      <td>False</td>\n",
       "      <td>False</td>\n",
       "      <td>False</td>\n",
       "      <td>False</td>\n",
       "      <td>False</td>\n",
       "      <td>False</td>\n",
       "      <td>False</td>\n",
       "      <td>False</td>\n",
       "      <td>False</td>\n",
       "      <td>False</td>\n",
       "      <td>False</td>\n",
       "      <td>False</td>\n",
       "    </tr>\n",
       "    <tr>\n",
       "      <th>4</th>\n",
       "      <td>False</td>\n",
       "      <td>False</td>\n",
       "      <td>False</td>\n",
       "      <td>False</td>\n",
       "      <td>False</td>\n",
       "      <td>False</td>\n",
       "      <td>False</td>\n",
       "      <td>False</td>\n",
       "      <td>False</td>\n",
       "      <td>False</td>\n",
       "      <td>False</td>\n",
       "      <td>False</td>\n",
       "      <td>False</td>\n",
       "      <td>False</td>\n",
       "      <td>False</td>\n",
       "      <td>False</td>\n",
       "      <td>False</td>\n",
       "    </tr>\n",
       "    <tr>\n",
       "      <th>...</th>\n",
       "      <td>...</td>\n",
       "      <td>...</td>\n",
       "      <td>...</td>\n",
       "      <td>...</td>\n",
       "      <td>...</td>\n",
       "      <td>...</td>\n",
       "      <td>...</td>\n",
       "      <td>...</td>\n",
       "      <td>...</td>\n",
       "      <td>...</td>\n",
       "      <td>...</td>\n",
       "      <td>...</td>\n",
       "      <td>...</td>\n",
       "      <td>...</td>\n",
       "      <td>...</td>\n",
       "      <td>...</td>\n",
       "      <td>...</td>\n",
       "    </tr>\n",
       "    <tr>\n",
       "      <th>9995</th>\n",
       "      <td>False</td>\n",
       "      <td>False</td>\n",
       "      <td>False</td>\n",
       "      <td>False</td>\n",
       "      <td>False</td>\n",
       "      <td>False</td>\n",
       "      <td>False</td>\n",
       "      <td>False</td>\n",
       "      <td>False</td>\n",
       "      <td>False</td>\n",
       "      <td>False</td>\n",
       "      <td>False</td>\n",
       "      <td>False</td>\n",
       "      <td>False</td>\n",
       "      <td>False</td>\n",
       "      <td>False</td>\n",
       "      <td>False</td>\n",
       "    </tr>\n",
       "    <tr>\n",
       "      <th>9996</th>\n",
       "      <td>False</td>\n",
       "      <td>False</td>\n",
       "      <td>False</td>\n",
       "      <td>False</td>\n",
       "      <td>False</td>\n",
       "      <td>False</td>\n",
       "      <td>False</td>\n",
       "      <td>False</td>\n",
       "      <td>False</td>\n",
       "      <td>False</td>\n",
       "      <td>False</td>\n",
       "      <td>False</td>\n",
       "      <td>False</td>\n",
       "      <td>False</td>\n",
       "      <td>False</td>\n",
       "      <td>False</td>\n",
       "      <td>False</td>\n",
       "    </tr>\n",
       "    <tr>\n",
       "      <th>9997</th>\n",
       "      <td>False</td>\n",
       "      <td>False</td>\n",
       "      <td>False</td>\n",
       "      <td>False</td>\n",
       "      <td>False</td>\n",
       "      <td>False</td>\n",
       "      <td>False</td>\n",
       "      <td>False</td>\n",
       "      <td>False</td>\n",
       "      <td>False</td>\n",
       "      <td>False</td>\n",
       "      <td>False</td>\n",
       "      <td>False</td>\n",
       "      <td>False</td>\n",
       "      <td>False</td>\n",
       "      <td>False</td>\n",
       "      <td>False</td>\n",
       "    </tr>\n",
       "    <tr>\n",
       "      <th>9998</th>\n",
       "      <td>False</td>\n",
       "      <td>False</td>\n",
       "      <td>False</td>\n",
       "      <td>False</td>\n",
       "      <td>False</td>\n",
       "      <td>False</td>\n",
       "      <td>False</td>\n",
       "      <td>False</td>\n",
       "      <td>False</td>\n",
       "      <td>False</td>\n",
       "      <td>False</td>\n",
       "      <td>False</td>\n",
       "      <td>False</td>\n",
       "      <td>False</td>\n",
       "      <td>False</td>\n",
       "      <td>False</td>\n",
       "      <td>False</td>\n",
       "    </tr>\n",
       "    <tr>\n",
       "      <th>9999</th>\n",
       "      <td>False</td>\n",
       "      <td>False</td>\n",
       "      <td>False</td>\n",
       "      <td>False</td>\n",
       "      <td>False</td>\n",
       "      <td>False</td>\n",
       "      <td>False</td>\n",
       "      <td>False</td>\n",
       "      <td>False</td>\n",
       "      <td>False</td>\n",
       "      <td>False</td>\n",
       "      <td>False</td>\n",
       "      <td>False</td>\n",
       "      <td>False</td>\n",
       "      <td>False</td>\n",
       "      <td>False</td>\n",
       "      <td>False</td>\n",
       "    </tr>\n",
       "  </tbody>\n",
       "</table>\n",
       "<p>10000 rows × 17 columns</p>\n",
       "</div>"
      ],
      "text/plain": [
       "         ra    dec      u      g      r      i      z    run  rerun  camcol  \\\n",
       "0     False  False  False  False  False  False  False  False  False   False   \n",
       "1     False  False  False  False  False  False  False  False  False   False   \n",
       "2     False  False  False  False  False  False  False  False  False   False   \n",
       "3     False  False  False  False  False  False  False  False  False   False   \n",
       "4     False  False  False  False  False  False  False  False  False   False   \n",
       "...     ...    ...    ...    ...    ...    ...    ...    ...    ...     ...   \n",
       "9995  False  False  False  False  False  False  False  False  False   False   \n",
       "9996  False  False  False  False  False  False  False  False  False   False   \n",
       "9997  False  False  False  False  False  False  False  False  False   False   \n",
       "9998  False  False  False  False  False  False  False  False  False   False   \n",
       "9999  False  False  False  False  False  False  False  False  False   False   \n",
       "\n",
       "      field  specobjid  class  redshift  plate    mjd  fiberid  \n",
       "0     False      False  False     False  False  False    False  \n",
       "1     False      False  False     False  False  False    False  \n",
       "2     False      False  False     False  False  False    False  \n",
       "3     False      False  False     False  False  False    False  \n",
       "4     False      False  False     False  False  False    False  \n",
       "...     ...        ...    ...       ...    ...    ...      ...  \n",
       "9995  False      False  False     False  False  False    False  \n",
       "9996  False      False  False     False  False  False    False  \n",
       "9997  False      False  False     False  False  False    False  \n",
       "9998  False      False  False     False  False  False    False  \n",
       "9999  False      False  False     False  False  False    False  \n",
       "\n",
       "[10000 rows x 17 columns]"
      ]
     },
     "execution_count": 39,
     "metadata": {},
     "output_type": "execute_result"
    }
   ],
   "source": [
    "pd.isna(df) #.any()"
   ]
  },
  {
   "cell_type": "markdown",
   "metadata": {},
   "source": [
    "Another basic task during the EDA phase is to check the class distribution. We can easily plot the histogram with Pandas:"
   ]
  },
  {
   "cell_type": "code",
   "execution_count": 40,
   "metadata": {},
   "outputs": [
    {
     "data": {
      "text/plain": [
       "<AxesSubplot:>"
      ]
     },
     "execution_count": 40,
     "metadata": {},
     "output_type": "execute_result"
    },
    {
     "data": {
      "image/png": "[encoded data removed]",
      "text/plain": [
       "<Figure size 432x288 with 1 Axes>"
      ]
     },
     "metadata": {
      "needs_background": "light"
     },
     "output_type": "display_data"
    }
   ],
   "source": [
    "df['class'].value_counts().plot(kind='bar')"
   ]
  },
  {
   "cell_type": "markdown",
   "metadata": {},
   "source": [
    "The data is clearly imbalanced towards the GALAXY and STAR classes."
   ]
  },
  {
   "cell_type": "code",
   "execution_count": 41,
   "metadata": {},
   "outputs": [
    {
     "data": {
      "text/plain": [
       "GALAXY    4998\n",
       "STAR      4152\n",
       "QSO        850\n",
       "Name: class, dtype: int64"
      ]
     },
     "execution_count": 41,
     "metadata": {},
     "output_type": "execute_result"
    }
   ],
   "source": [
    "df['class'].value_counts()"
   ]
  },
  {
   "cell_type": "markdown",
   "metadata": {},
   "source": [
    "---"
   ]
  },
  {
   "cell_type": "markdown",
   "metadata": {},
   "source": [
    "# Scikit-learn"
   ]
  },
  {
   "cell_type": "markdown",
   "metadata": {},
   "source": [
    "Scikit-learn is an open source machine learning library that supports supervised and unsupervised learning. It also provides various tools for model fitting, data preprocessing, model selection and evaluation, and many other utilities."
   ]
  },
  {
   "cell_type": "markdown",
   "metadata": {},
   "source": [
    "# Workflow"
   ]
  },
  {
   "cell_type": "markdown",
   "metadata": {},
   "source": [
    "The next figure shows the basic workflow while approaching a Machine Learning problem. We can distinguish two tasks, separate at first but intertwined in the last stages:\n",
    "\n",
    "* Optimization of the machine learning model (left) which will make the prediction using the data.\n",
    "* Construction of the dataset (accomplished during the EDA phase) and partitioning in training and test data (right)."
   ]
  },
  {
   "cell_type": "markdown",
   "metadata": {},
   "source": [
    "![](data/grid_search_workflow.png)\n",
    "From: https://scikit-learn.org/stable/modules/cross_validation.html"
   ]
  },
  {
   "cell_type": "markdown",
   "metadata": {},
   "source": [
    "# Data split"
   ]
  },
  {
   "cell_type": "markdown",
   "metadata": {},
   "source": [
    "We must first split the data in two sets: `X` and `y`. These names are a common convention. `X` for the variables and `y` for the target (class)."
   ]
  },
  {
   "cell_type": "code",
   "execution_count": 42,
   "metadata": {},
   "outputs": [],
   "source": [
    "y = df.pop('class')\n",
    "X = df"
   ]
  },
  {
   "cell_type": "markdown",
   "metadata": {},
   "source": [
    "The next step is to split the data, one more time, into train and test partitions. Scikit-learn can easily do that for us."
   ]
  },
  {
   "cell_type": "code",
   "execution_count": 43,
   "metadata": {},
   "outputs": [],
   "source": [
    "X_train, X_test, y_train, y_test = train_test_split(X, y, test_size=0.2, stratify=y, random_state=24112020)"
   ]
  },
  {
   "cell_type": "markdown",
   "metadata": {},
   "source": [
    "We get the train partition (80% of our data) and the test partition (20% of our data) randomly selected from all the data and stratified (both partitions has the same class distribution) for better results."
   ]
  },
  {
   "cell_type": "markdown",
   "metadata": {},
   "source": [
    "# Cross Validation"
   ]
  },
  {
   "cell_type": "markdown",
   "metadata": {},
   "source": [
    "Next, we train and optimize the desired model via the cross validation strategy. The next figure shows a graphical representation of this strategy:"
   ]
  },
  {
   "cell_type": "markdown",
   "metadata": {},
   "source": [
    "![](data/grid_search_cross_validation.png)\n",
    "From: https://scikit-learn.org/stable/modules/cross_validation.html"
   ]
  },
  {
   "cell_type": "markdown",
   "metadata": {},
   "source": [
    "# kNN"
   ]
  },
  {
   "cell_type": "markdown",
   "metadata": {},
   "source": [
    "![](data/knn_example.png)\n",
    "From: Cheng, Debo, et al. \"kNN algorithm with data-driven k value.\" International Conference on Advanced Data Mining and Applications. Springer, Cham, 2014."
   ]
  },
  {
   "cell_type": "markdown",
   "metadata": {},
   "source": [
    "First, we need to define the parameters which will be tested. In this case, the number of neighbors (`k`) that the algorithm will use."
   ]
  },
  {
   "cell_type": "code",
   "execution_count": 44,
   "metadata": {},
   "outputs": [],
   "source": [
    "parameters = {'n_neighbors': [x for x in range (3, 16)]}"
   ]
  },
  {
   "cell_type": "markdown",
   "metadata": {},
   "source": [
    "Next, we instantiate our classifier."
   ]
  },
  {
   "cell_type": "code",
   "execution_count": 45,
   "metadata": {},
   "outputs": [],
   "source": [
    "clf = KNeighborsClassifier()"
   ]
  },
  {
   "cell_type": "markdown",
   "metadata": {},
   "source": [
    "Now we can search for the best `k`. Sklearn offers the `GridSearchCV` method to accomplish this. This method will test all the combination of parameters via cross validation and will return the best parameters obtained during this training phase."
   ]
  },
  {
   "cell_type": "code",
   "execution_count": 46,
   "metadata": {},
   "outputs": [],
   "source": [
    "clf = GridSearchCV(clf, parameters, refit=True, cv=StratifiedKFold(), n_jobs=4)"
   ]
  },
  {
   "cell_type": "code",
   "execution_count": 47,
   "metadata": {},
   "outputs": [
    {
     "data": {
      "text/plain": [
       "GridSearchCV(cv=StratifiedKFold(n_splits=5, random_state=None, shuffle=False),\n",
       "             estimator=KNeighborsClassifier(), n_jobs=4,\n",
       "             param_grid={'n_neighbors': [3, 4, 5, 6, 7, 8, 9, 10, 11, 12, 13,\n",
       "                                         14, 15]})"
      ]
     },
     "execution_count": 47,
     "metadata": {},
     "output_type": "execute_result"
    }
   ],
   "source": [
    "clf.fit(X_train, y_train)"
   ]
  },
  {
   "cell_type": "markdown",
   "metadata": {},
   "source": [
    "In this example, we get `k=15`."
   ]
  },
  {
   "cell_type": "code",
   "execution_count": 48,
   "metadata": {},
   "outputs": [
    {
     "data": {
      "text/plain": [
       "KNeighborsClassifier(n_neighbors=15)"
      ]
     },
     "execution_count": 48,
     "metadata": {},
     "output_type": "execute_result"
    }
   ],
   "source": [
    "clf.best_estimator_"
   ]
  },
  {
   "cell_type": "code",
   "execution_count": 49,
   "metadata": {},
   "outputs": [],
   "source": [
    "clf = clf.best_estimator_"
   ]
  },
  {
   "cell_type": "markdown",
   "metadata": {},
   "source": [
    "After the training step we need to check how the model performs against data that has not been \"seen\" by the model (the test data)."
   ]
  },
  {
   "cell_type": "code",
   "execution_count": 50,
   "metadata": {},
   "outputs": [],
   "source": [
    "y_pred = clf.predict(X_test)"
   ]
  },
  {
   "cell_type": "markdown",
   "metadata": {},
   "source": [
    "After we get the predictions we compare them to the ground-truth to check the model's performance. Once again, sklearn has a classification report with all the common metrics used in this type of problems. "
   ]
  },
  {
   "cell_type": "code",
   "execution_count": 51,
   "metadata": {},
   "outputs": [
    {
     "name": "stdout",
     "output_type": "stream",
     "text": [
      "              precision    recall  f1-score   support\n",
      "\n",
      "      GALAXY       0.75      0.96      0.85      1000\n",
      "         QSO       0.57      0.02      0.05       170\n",
      "        STAR       0.91      0.78      0.84       830\n",
      "\n",
      "    accuracy                           0.81      2000\n",
      "   macro avg       0.74      0.59      0.58      2000\n",
      "weighted avg       0.80      0.81      0.78      2000\n",
      "\n"
     ]
    }
   ],
   "source": [
    "print(classification_report(y_test, y_pred))"
   ]
  },
  {
   "cell_type": "markdown",
   "metadata": {},
   "source": [
    "# Decision Tree"
   ]
  },
  {
   "cell_type": "markdown",
   "metadata": {},
   "source": [
    "But what if we use a more complex (yet simple) model? The next figure shows a simple decision tree."
   ]
  },
  {
   "cell_type": "markdown",
   "metadata": {},
   "source": [
    "![](data/dt_example.png)\n",
    "From: https://towardsai.net/p/programming/decision-trees-explained-with-a-practical-example-fe47872d3b53"
   ]
  },
  {
   "cell_type": "code",
   "execution_count": 52,
   "metadata": {},
   "outputs": [],
   "source": [
    "parameters = {'criterion':('gini', 'entropy'), \n",
    "              'max_depth':[5, 10, 15, None]}"
   ]
  },
  {
   "cell_type": "code",
   "execution_count": 53,
   "metadata": {},
   "outputs": [],
   "source": [
    "clf = tree.DecisionTreeClassifier(random_state=24112020)"
   ]
  },
  {
   "cell_type": "code",
   "execution_count": 54,
   "metadata": {},
   "outputs": [],
   "source": [
    "clf = GridSearchCV(clf, parameters, refit=True, cv=StratifiedKFold(), n_jobs=4)"
   ]
  },
  {
   "cell_type": "code",
   "execution_count": 55,
   "metadata": {},
   "outputs": [
    {
     "data": {
      "text/plain": [
       "GridSearchCV(cv=StratifiedKFold(n_splits=5, random_state=None, shuffle=False),\n",
       "             estimator=DecisionTreeClassifier(random_state=24112020), n_jobs=4,\n",
       "             param_grid={'criterion': ('gini', 'entropy'),\n",
       "                         'max_depth': [5, 10, 15, None]})"
      ]
     },
     "execution_count": 55,
     "metadata": {},
     "output_type": "execute_result"
    }
   ],
   "source": [
    "clf.fit(X_train, y_train)"
   ]
  },
  {
   "cell_type": "code",
   "execution_count": 56,
   "metadata": {},
   "outputs": [
    {
     "data": {
      "text/plain": [
       "DecisionTreeClassifier(criterion='entropy', max_depth=5, random_state=24112020)"
      ]
     },
     "execution_count": 56,
     "metadata": {},
     "output_type": "execute_result"
    }
   ],
   "source": [
    "clf.best_estimator_"
   ]
  },
  {
   "cell_type": "code",
   "execution_count": 57,
   "metadata": {},
   "outputs": [],
   "source": [
    "clf = clf.best_estimator_"
   ]
  },
  {
   "cell_type": "code",
   "execution_count": 58,
   "metadata": {},
   "outputs": [],
   "source": [
    "y_pred = clf.predict(X_test)"
   ]
  },
  {
   "cell_type": "code",
   "execution_count": 59,
   "metadata": {},
   "outputs": [
    {
     "name": "stdout",
     "output_type": "stream",
     "text": [
      "              precision    recall  f1-score   support\n",
      "\n",
      "      GALAXY       0.98      0.99      0.99      1000\n",
      "         QSO       0.94      0.91      0.93       170\n",
      "        STAR       1.00      1.00      1.00       830\n",
      "\n",
      "    accuracy                           0.99      2000\n",
      "   macro avg       0.97      0.97      0.97      2000\n",
      "weighted avg       0.99      0.99      0.99      2000\n",
      "\n"
     ]
    }
   ],
   "source": [
    "print(classification_report(y_test, y_pred))"
   ]
  },
  {
   "cell_type": "markdown",
   "metadata": {},
   "source": [
    "One of the perks of this model is the interpretability of it. Thanks to sklearn, we can plot the final decision tree:"
   ]
  },
  {
   "cell_type": "code",
   "execution_count": 60,
   "metadata": {},
   "outputs": [
    {
     "data": {
      "image/png": "[encoded data removed]",
      "text/plain": [
       "<Figure size 2880x1440 with 1 Axes>"
      ]
     },
     "metadata": {
      "needs_background": "light"
     },
     "output_type": "display_data"
    }
   ],
   "source": [
    "plt.figure(figsize=(40,20))\n",
    "tree.plot_tree(clf, feature_names=X.columns, class_names=['GALAXY', 'QSAR', 'STAR']);"
   ]
  },
  {
   "cell_type": "markdown",
   "metadata": {},
   "source": [
    "# Random Forest"
   ]
  },
  {
   "cell_type": "markdown",
   "metadata": {},
   "source": [
    "Random forests are an ensemble learning method for classification, regression and other tasks that operate by constructing a multitude of decision trees."
   ]
  },
  {
   "cell_type": "markdown",
   "metadata": {},
   "source": [
    "![](data/rf_example.png)\n",
    "From: https://rpubs.com/Avalos42/randomforest"
   ]
  },
  {
   "cell_type": "code",
   "execution_count": 61,
   "metadata": {},
   "outputs": [],
   "source": [
    "parameters = {'criterion': ['gini', 'entropy'],\n",
    "              'n_estimators': [5, 10, 15, 20],\n",
    "              'max_depth': [5, 10, 15, None]}"
   ]
  },
  {
   "cell_type": "code",
   "execution_count": 62,
   "metadata": {},
   "outputs": [],
   "source": [
    "clf = RandomForestClassifier(random_state=24112020)\n"
   ]
  },
  {
   "cell_type": "code",
   "execution_count": 63,
   "metadata": {},
   "outputs": [],
   "source": [
    "clf = GridSearchCV(clf, parameters, refit=True, cv=StratifiedKFold(), n_jobs=4)"
   ]
  },
  {
   "cell_type": "code",
   "execution_count": 64,
   "metadata": {},
   "outputs": [
    {
     "data": {
      "text/plain": [
       "GridSearchCV(cv=StratifiedKFold(n_splits=5, random_state=None, shuffle=False),\n",
       "             estimator=RandomForestClassifier(random_state=24112020), n_jobs=4,\n",
       "             param_grid={'criterion': ['gini', 'entropy'],\n",
       "                         'max_depth': [5, 10, 15, None],\n",
       "                         'n_estimators': [5, 10, 15, 20]})"
      ]
     },
     "execution_count": 64,
     "metadata": {},
     "output_type": "execute_result"
    }
   ],
   "source": [
    "clf.fit(X_train, y_train)"
   ]
  },
  {
   "cell_type": "code",
   "execution_count": 65,
   "metadata": {},
   "outputs": [
    {
     "data": {
      "text/plain": [
       "RandomForestClassifier(max_depth=15, n_estimators=15, random_state=24112020)"
      ]
     },
     "execution_count": 65,
     "metadata": {},
     "output_type": "execute_result"
    }
   ],
   "source": [
    "clf.best_estimator_"
   ]
  },
  {
   "cell_type": "code",
   "execution_count": 66,
   "metadata": {},
   "outputs": [],
   "source": [
    "clf = clf.best_estimator_"
   ]
  },
  {
   "cell_type": "code",
   "execution_count": 67,
   "metadata": {},
   "outputs": [],
   "source": [
    "y_pred = clf.predict(X_test)"
   ]
  },
  {
   "cell_type": "code",
   "execution_count": 68,
   "metadata": {},
   "outputs": [
    {
     "name": "stdout",
     "output_type": "stream",
     "text": [
      "              precision    recall  f1-score   support\n",
      "\n",
      "      GALAXY       0.99      0.99      0.99      1000\n",
      "         QSO       0.96      0.93      0.94       170\n",
      "        STAR       1.00      1.00      1.00       830\n",
      "\n",
      "    accuracy                           0.99      2000\n",
      "   macro avg       0.98      0.97      0.98      2000\n",
      "weighted avg       0.99      0.99      0.99      2000\n",
      "\n"
     ]
    }
   ],
   "source": [
    "print(classification_report(y_test, y_pred))"
   ]
  },
  {
   "cell_type": "markdown",
   "metadata": {},
   "source": [
    "This model offers an useful trait: the feature importance. The higher the value the more important is the feature (variable) to the model so we can discard useless variables and improve the performance of the model. This is called \"feature selection\" and is one of the most powerful preprocessing techniques."
   ]
  },
  {
   "cell_type": "code",
   "execution_count": 69,
   "metadata": {},
   "outputs": [
    {
     "data": {
      "text/plain": [
       "array([0.00391372, 0.0032789 , 0.02165442, 0.02865361, 0.01082761,\n",
       "       0.10353049, 0.0497029 , 0.00244479, 0.        , 0.00107068,\n",
       "       0.00400284, 0.14607243, 0.56476699, 0.03300232, 0.02383341,\n",
       "       0.0032449 ])"
      ]
     },
     "execution_count": 69,
     "metadata": {},
     "output_type": "execute_result"
    }
   ],
   "source": [
    "feature_importance = clf.feature_importances_\n",
    "feature_importance"
   ]
  },
  {
   "cell_type": "code",
   "execution_count": 70,
   "metadata": {},
   "outputs": [
    {
     "data": {
      "text/html": [
       "<div>\n",
       "<style scoped>\n",
       "    .dataframe tbody tr th:only-of-type {\n",
       "        vertical-align: middle;\n",
       "    }\n",
       "\n",
       "    .dataframe tbody tr th {\n",
       "        vertical-align: top;\n",
       "    }\n",
       "\n",
       "    .dataframe thead th {\n",
       "        text-align: right;\n",
       "    }\n",
       "</style>\n",
       "<table border=\"1\" class=\"dataframe\">\n",
       "  <thead>\n",
       "    <tr style=\"text-align: right;\">\n",
       "      <th></th>\n",
       "      <th>Feature</th>\n",
       "      <th>Importance</th>\n",
       "    </tr>\n",
       "  </thead>\n",
       "  <tbody>\n",
       "    <tr>\n",
       "      <th>12</th>\n",
       "      <td>redshift</td>\n",
       "      <td>0.564767</td>\n",
       "    </tr>\n",
       "    <tr>\n",
       "      <th>11</th>\n",
       "      <td>specobjid</td>\n",
       "      <td>0.146072</td>\n",
       "    </tr>\n",
       "    <tr>\n",
       "      <th>5</th>\n",
       "      <td>i</td>\n",
       "      <td>0.10353</td>\n",
       "    </tr>\n",
       "    <tr>\n",
       "      <th>6</th>\n",
       "      <td>z</td>\n",
       "      <td>0.0497029</td>\n",
       "    </tr>\n",
       "    <tr>\n",
       "      <th>13</th>\n",
       "      <td>plate</td>\n",
       "      <td>0.0330023</td>\n",
       "    </tr>\n",
       "    <tr>\n",
       "      <th>3</th>\n",
       "      <td>g</td>\n",
       "      <td>0.0286536</td>\n",
       "    </tr>\n",
       "    <tr>\n",
       "      <th>14</th>\n",
       "      <td>mjd</td>\n",
       "      <td>0.0238334</td>\n",
       "    </tr>\n",
       "    <tr>\n",
       "      <th>2</th>\n",
       "      <td>u</td>\n",
       "      <td>0.0216544</td>\n",
       "    </tr>\n",
       "    <tr>\n",
       "      <th>4</th>\n",
       "      <td>r</td>\n",
       "      <td>0.0108276</td>\n",
       "    </tr>\n",
       "    <tr>\n",
       "      <th>10</th>\n",
       "      <td>field</td>\n",
       "      <td>0.00400284</td>\n",
       "    </tr>\n",
       "    <tr>\n",
       "      <th>0</th>\n",
       "      <td>ra</td>\n",
       "      <td>0.00391372</td>\n",
       "    </tr>\n",
       "    <tr>\n",
       "      <th>1</th>\n",
       "      <td>dec</td>\n",
       "      <td>0.0032789</td>\n",
       "    </tr>\n",
       "    <tr>\n",
       "      <th>15</th>\n",
       "      <td>fiberid</td>\n",
       "      <td>0.0032449</td>\n",
       "    </tr>\n",
       "    <tr>\n",
       "      <th>7</th>\n",
       "      <td>run</td>\n",
       "      <td>0.00244479</td>\n",
       "    </tr>\n",
       "    <tr>\n",
       "      <th>9</th>\n",
       "      <td>camcol</td>\n",
       "      <td>0.00107068</td>\n",
       "    </tr>\n",
       "    <tr>\n",
       "      <th>8</th>\n",
       "      <td>rerun</td>\n",
       "      <td>0</td>\n",
       "    </tr>\n",
       "  </tbody>\n",
       "</table>\n",
       "</div>"
      ],
      "text/plain": [
       "      Feature  Importance\n",
       "12   redshift    0.564767\n",
       "11  specobjid    0.146072\n",
       "5           i     0.10353\n",
       "6           z   0.0497029\n",
       "13      plate   0.0330023\n",
       "3           g   0.0286536\n",
       "14        mjd   0.0238334\n",
       "2           u   0.0216544\n",
       "4           r   0.0108276\n",
       "10      field  0.00400284\n",
       "0          ra  0.00391372\n",
       "1         dec   0.0032789\n",
       "15    fiberid   0.0032449\n",
       "7         run  0.00244479\n",
       "9      camcol  0.00107068\n",
       "8       rerun           0"
      ]
     },
     "execution_count": 70,
     "metadata": {},
     "output_type": "execute_result"
    }
   ],
   "source": [
    "fs_df = pd.DataFrame([X.columns, feature_importance]).T\n",
    "fs_df.columns = ['Feature', 'Importance']\n",
    "fs_df.sort_values(by='Importance', ascending=False)"
   ]
  },
  {
   "cell_type": "markdown",
   "metadata": {},
   "source": [
    "As we can see the `redshift` is the more important feature by a huge margin. Let's see what happens when we train another model with only this feature."
   ]
  },
  {
   "cell_type": "markdown",
   "metadata": {},
   "source": [
    "# Support Vector Machine (SVM)"
   ]
  },
  {
   "cell_type": "markdown",
   "metadata": {},
   "source": [
    "A support-vector machine (SVM) constructs a hyperplane or set of hyperplanes in a high- or infinite-dimensional space, which can be used for classification, regression, or other tasks like outliers detection."
   ]
  },
  {
   "cell_type": "markdown",
   "metadata": {},
   "source": [
    "![](data/svm_example.png)\n",
    "From: Ulas, Cagdas. (2013). INCORPORATION OF A LANGUAGE MODEL INTO A BRAIN COMPUTER INTERFACE BASED SPELLER. 10.13140/2.1.2017.6326. "
   ]
  },
  {
   "cell_type": "code",
   "execution_count": 71,
   "metadata": {},
   "outputs": [],
   "source": [
    "parameters = {'svc__kernel': ['rbf', 'linear', 'poly']}"
   ]
  },
  {
   "cell_type": "markdown",
   "metadata": {},
   "source": [
    "The purpose of the pipeline is to assemble several steps that can be cross-validated together while setting different parameters. For this, it enables setting parameters of the various steps using their names and the parameter name."
   ]
  },
  {
   "cell_type": "code",
   "execution_count": 72,
   "metadata": {},
   "outputs": [],
   "source": [
    "clf = make_pipeline(StandardScaler(), SVC(random_state=24112020))"
   ]
  },
  {
   "cell_type": "code",
   "execution_count": 73,
   "metadata": {},
   "outputs": [],
   "source": [
    "clf = GridSearchCV(clf, parameters, refit=True, cv=StratifiedKFold(), n_jobs=4)"
   ]
  },
  {
   "cell_type": "code",
   "execution_count": 74,
   "metadata": {},
   "outputs": [
    {
     "data": {
      "text/plain": [
       "GridSearchCV(cv=StratifiedKFold(n_splits=5, random_state=None, shuffle=False),\n",
       "             estimator=Pipeline(steps=[('standardscaler', StandardScaler()),\n",
       "                                       ('svc', SVC(random_state=24112020))]),\n",
       "             n_jobs=4, param_grid={'svc__kernel': ['rbf', 'linear', 'poly']})"
      ]
     },
     "execution_count": 74,
     "metadata": {},
     "output_type": "execute_result"
    }
   ],
   "source": [
    "clf.fit(X_train['redshift'].values.reshape(-1, 1), y_train)"
   ]
  },
  {
   "cell_type": "code",
   "execution_count": 75,
   "metadata": {},
   "outputs": [
    {
     "data": {
      "text/plain": [
       "Pipeline(steps=[('standardscaler', StandardScaler()),\n",
       "                ('svc', SVC(random_state=24112020))])"
      ]
     },
     "execution_count": 75,
     "metadata": {},
     "output_type": "execute_result"
    }
   ],
   "source": [
    "clf.best_estimator_"
   ]
  },
  {
   "cell_type": "code",
   "execution_count": 76,
   "metadata": {},
   "outputs": [],
   "source": [
    "clf = clf.best_estimator_"
   ]
  },
  {
   "cell_type": "code",
   "execution_count": 77,
   "metadata": {},
   "outputs": [],
   "source": [
    "y_pred = clf.predict(X_test['redshift'].values.reshape(-1, 1))"
   ]
  },
  {
   "cell_type": "markdown",
   "metadata": {},
   "source": [
    "As we can see we obtain \"nearly perfect\" results using only one feature. This is a huge improvement in terms of training speed, prediction speed and model complexity (less complex models are often preferred)"
   ]
  },
  {
   "cell_type": "code",
   "execution_count": 78,
   "metadata": {},
   "outputs": [
    {
     "name": "stdout",
     "output_type": "stream",
     "text": [
      "              precision    recall  f1-score   support\n",
      "\n",
      "      GALAXY       0.98      0.98      0.98      1000\n",
      "         QSO       0.96      0.88      0.92       170\n",
      "        STAR       0.99      1.00      0.99       830\n",
      "\n",
      "    accuracy                           0.98      2000\n",
      "   macro avg       0.98      0.95      0.96      2000\n",
      "weighted avg       0.98      0.98      0.98      2000\n",
      "\n"
     ]
    }
   ],
   "source": [
    "print(classification_report(y_test, y_pred))"
   ]
  },
  {
   "cell_type": "markdown",
   "metadata": {},
   "source": [
    "# Clustering (K-Means)"
   ]
  },
  {
   "cell_type": "markdown",
   "metadata": {},
   "source": [
    "Lastly, lets try an unsupervised learning (a type of machine learning that looks for previously undetected patterns in a data set with no pre-existing labels and with a minimum of human supervision) model for clustering: K-Means"
   ]
  },
  {
   "cell_type": "markdown",
   "metadata": {},
   "source": [
    "## Choosing the best number of cluster: the elbow method"
   ]
  },
  {
   "cell_type": "markdown",
   "metadata": {},
   "source": [
    "In cluster analysis, the elbow method is a heuristic used in determining the number of clusters in a data set. The method consists of plotting the explained variation as a function of the number of clusters, and picking the elbow of the curve as the number of clusters to use."
   ]
  },
  {
   "cell_type": "code",
   "execution_count": 79,
   "metadata": {},
   "outputs": [
    {
     "data": {
      "text/plain": [
       "Text(0.5, 1.0, 'Elbow curve')"
      ]
     },
     "execution_count": 79,
     "metadata": {},
     "output_type": "execute_result"
    },
    {
     "data": {
      "image/png": "[encoded data removed]",
      "text/plain": [
       "<Figure size 1080x360 with 1 Axes>"
      ]
     },
     "metadata": {
      "needs_background": "light"
     },
     "output_type": "display_data"
    }
   ],
   "source": [
    "distorsions = []\n",
    "labels = []\n",
    "centroids = []\n",
    "X = X[['ra', 'dec', 'redshift']]\n",
    "X_test = X_test[['ra', 'dec', 'redshift']]\n",
    "for k in range(2, 10):\n",
    "    clf = KMeans(n_clusters=k, random_state=24112020)\n",
    "    clf.fit(X)\n",
    "    labels.append(clf.predict(X_test))\n",
    "    distorsions.append(clf.inertia_)\n",
    "    centroids.append(clf.cluster_centers_)\n",
    "\n",
    "fig = plt.figure(figsize=(15, 5))\n",
    "plt.plot(range(2, 10), distorsions)\n",
    "plt.grid(True)\n",
    "plt.title('Elbow curve')"
   ]
  },
  {
   "cell_type": "code",
   "execution_count": 80,
   "metadata": {},
   "outputs": [],
   "source": [
    "%matplotlib notebook"
   ]
  },
  {
   "cell_type": "code",
   "execution_count": 81,
   "metadata": {
    "scrolled": true
   },
   "outputs": [
    {
     "data": {
      "application/javascript": [
       "/* Put everything inside the global mpl namespace */\n",
       "/* global mpl */\n",
       "window.mpl = {};\n",
       "\n",
       "mpl.get_websocket_type = function () {\n",
       "    if (typeof WebSocket !== 'undefined') {\n",
       "        return WebSocket;\n",
       "    } else if (typeof MozWebSocket !== 'undefined') {\n",
       "        return MozWebSocket;\n",
       "    } else {\n",
       "        alert(\n",
       "            'Your browser does not have WebSocket support. ' +\n",
       "                'Please try Chrome, Safari or Firefox ≥ 6. ' +\n",
       "                'Firefox 4 and 5 are also supported but you ' +\n",
       "                'have to enable WebSockets in about:config.'\n",
       "        );\n",
       "    }\n",
       "};\n",
       "\n",
       "mpl.figure = function (figure_id, websocket, ondownload, parent_element) {\n",
       "    this.id = figure_id;\n",
       "\n",
       "    this.ws = websocket;\n",
       "\n",
       "    this.supports_binary = this.ws.binaryType !== undefined;\n",
       "\n",
       "    if (!this.supports_binary) {\n",
       "        var warnings = document.getElementById('mpl-warnings');\n",
       "        if (warnings) {\n",
       "            warnings.style.display = 'block';\n",
       "            warnings.textContent =\n",
       "                'This browser does not support binary websocket messages. ' +\n",
       "                'Performance may be slow.';\n",
       "        }\n",
       "    }\n",
       "\n",
       "    this.imageObj = new Image();\n",
       "\n",
       "    this.context = undefined;\n",
       "    this.message = undefined;\n",
       "    this.canvas = undefined;\n",
       "    this.rubberband_canvas = undefined;\n",
       "    this.rubberband_context = undefined;\n",
       "    this.format_dropdown = undefined;\n",
       "\n",
       "    this.image_mode = 'full';\n",
       "\n",
       "    this.root = document.createElement('div');\n",
       "    this.root.setAttribute('style', 'display: inline-block');\n",
       "    this._root_extra_style(this.root);\n",
       "\n",
       "    parent_element.appendChild(this.root);\n",
       "\n",
       "    this._init_header(this);\n",
       "    this._init_canvas(this);\n",
       "    this._init_toolbar(this);\n",
       "\n",
       "    var fig = this;\n",
       "\n",
       "    this.waiting = false;\n",
       "\n",
       "    this.ws.onopen = function () {\n",
       "        fig.send_message('supports_binary', { value: fig.supports_binary });\n",
       "        fig.send_message('send_image_mode', {});\n",
       "        if (fig.ratio !== 1) {\n",
       "            fig.send_message('set_dpi_ratio', { dpi_ratio: fig.ratio });\n",
       "        }\n",
       "        fig.send_message('refresh', {});\n",
       "    };\n",
       "\n",
       "    this.imageObj.onload = function () {\n",
       "        if (fig.image_mode === 'full') {\n",
       "            // Full images could contain transparency (where diff images\n",
       "            // almost always do), so we need to clear the canvas so that\n",
       "            // there is no ghosting.\n",
       "            fig.context.clearRect(0, 0, fig.canvas.width, fig.canvas.height);\n",
       "        }\n",
       "        fig.context.drawImage(fig.imageObj, 0, 0);\n",
       "    };\n",
       "\n",
       "    this.imageObj.onunload = function () {\n",
       "        fig.ws.close();\n",
       "    };\n",
       "\n",
       "    this.ws.onmessage = this._make_on_message_function(this);\n",
       "\n",
       "    this.ondownload = ondownload;\n",
       "};\n",
       "\n",
       "mpl.figure.prototype._init_header = function () {\n",
       "    var titlebar = document.createElement('div');\n",
       "    titlebar.classList =\n",
       "        'ui-dialog-titlebar ui-widget-header ui-corner-all ui-helper-clearfix';\n",
       "    var titletext = document.createElement('div');\n",
       "    titletext.classList = 'ui-dialog-title';\n",
       "    titletext.setAttribute(\n",
       "        'style',\n",
       "        'width: 100%; text-align: center; padding: 3px;'\n",
       "    );\n",
       "    titlebar.appendChild(titletext);\n",
       "    this.root.appendChild(titlebar);\n",
       "    this.header = titletext;\n",
       "};\n",
       "\n",
       "mpl.figure.prototype._canvas_extra_style = function (_canvas_div) {};\n",
       "\n",
       "mpl.figure.prototype._root_extra_style = function (_canvas_div) {};\n",
       "\n",
       "mpl.figure.prototype._init_canvas = function () {\n",
       "    var fig = this;\n",
       "\n",
       "    var canvas_div = (this.canvas_div = document.createElement('div'));\n",
       "    canvas_div.setAttribute(\n",
       "        'style',\n",
       "        'border: 1px solid #ddd;' +\n",
       "            'box-sizing: content-box;' +\n",
       "            'clear: both;' +\n",
       "            'min-height: 1px;' +\n",
       "            'min-width: 1px;' +\n",
       "            'outline: 0;' +\n",
       "            'overflow: hidden;' +\n",
       "            'position: relative;' +\n",
       "            'resize: both;'\n",
       "    );\n",
       "\n",
       "    function on_keyboard_event_closure(name) {\n",
       "        return function (event) {\n",
       "            return fig.key_event(event, name);\n",
       "        };\n",
       "    }\n",
       "\n",
       "    canvas_div.addEventListener(\n",
       "        'keydown',\n",
       "        on_keyboard_event_closure('key_press')\n",
       "    );\n",
       "    canvas_div.addEventListener(\n",
       "        'keyup',\n",
       "        on_keyboard_event_closure('key_release')\n",
       "    );\n",
       "\n",
       "    this._canvas_extra_style(canvas_div);\n",
       "    this.root.appendChild(canvas_div);\n",
       "\n",
       "    var canvas = (this.canvas = document.createElement('canvas'));\n",
       "    canvas.classList.add('mpl-canvas');\n",
       "    canvas.setAttribute('style', 'box-sizing: content-box;');\n",
       "\n",
       "    this.context = canvas.getContext('2d');\n",
       "\n",
       "    var backingStore =\n",
       "        this.context.backingStorePixelRatio ||\n",
       "        this.context.webkitBackingStorePixelRatio ||\n",
       "        this.context.mozBackingStorePixelRatio ||\n",
       "        this.context.msBackingStorePixelRatio ||\n",
       "        this.context.oBackingStorePixelRatio ||\n",
       "        this.context.backingStorePixelRatio ||\n",
       "        1;\n",
       "\n",
       "    this.ratio = (window.devicePixelRatio || 1) / backingStore;\n",
       "    if (this.ratio !== 1) {\n",
       "        fig.send_message('set_dpi_ratio', { dpi_ratio: this.ratio });\n",
       "    }\n",
       "\n",
       "    var rubberband_canvas = (this.rubberband_canvas = document.createElement(\n",
       "        'canvas'\n",
       "    ));\n",
       "    rubberband_canvas.setAttribute(\n",
       "        'style',\n",
       "        'box-sizing: content-box; position: absolute; left: 0; top: 0; z-index: 1;'\n",
       "    );\n",
       "\n",
       "    var resizeObserver = new ResizeObserver(function (entries) {\n",
       "        var nentries = entries.length;\n",
       "        for (var i = 0; i < nentries; i++) {\n",
       "            var entry = entries[i];\n",
       "            var width, height;\n",
       "            if (entry.contentBoxSize) {\n",
       "                if (entry.contentBoxSize instanceof Array) {\n",
       "                    // Chrome 84 implements new version of spec.\n",
       "                    width = entry.contentBoxSize[0].inlineSize;\n",
       "                    height = entry.contentBoxSize[0].blockSize;\n",
       "                } else {\n",
       "                    // Firefox implements old version of spec.\n",
       "                    width = entry.contentBoxSize.inlineSize;\n",
       "                    height = entry.contentBoxSize.blockSize;\n",
       "                }\n",
       "            } else {\n",
       "                // Chrome <84 implements even older version of spec.\n",
       "                width = entry.contentRect.width;\n",
       "                height = entry.contentRect.height;\n",
       "            }\n",
       "\n",
       "            // Keep the size of the canvas and rubber band canvas in sync with\n",
       "            // the canvas container.\n",
       "            if (entry.devicePixelContentBoxSize) {\n",
       "                // Chrome 84 implements new version of spec.\n",
       "                canvas.setAttribute(\n",
       "                    'width',\n",
       "                    entry.devicePixelContentBoxSize[0].inlineSize\n",
       "                );\n",
       "                canvas.setAttribute(\n",
       "                    'height',\n",
       "                    entry.devicePixelContentBoxSize[0].blockSize\n",
       "                );\n",
       "            } else {\n",
       "                canvas.setAttribute('width', width * fig.ratio);\n",
       "                canvas.setAttribute('height', height * fig.ratio);\n",
       "            }\n",
       "            canvas.setAttribute(\n",
       "                'style',\n",
       "                'width: ' + width + 'px; height: ' + height + 'px;'\n",
       "            );\n",
       "\n",
       "            rubberband_canvas.setAttribute('width', width);\n",
       "            rubberband_canvas.setAttribute('height', height);\n",
       "\n",
       "            // And update the size in Python. We ignore the initial 0/0 size\n",
       "            // that occurs as the element is placed into the DOM, which should\n",
       "            // otherwise not happen due to the minimum size styling.\n",
       "            if (width != 0 && height != 0) {\n",
       "                fig.request_resize(width, height);\n",
       "            }\n",
       "        }\n",
       "    });\n",
       "    resizeObserver.observe(canvas_div);\n",
       "\n",
       "    function on_mouse_event_closure(name) {\n",
       "        return function (event) {\n",
       "            return fig.mouse_event(event, name);\n",
       "        };\n",
       "    }\n",
       "\n",
       "    rubberband_canvas.addEventListener(\n",
       "        'mousedown',\n",
       "        on_mouse_event_closure('button_press')\n",
       "    );\n",
       "    rubberband_canvas.addEventListener(\n",
       "        'mouseup',\n",
       "        on_mouse_event_closure('button_release')\n",
       "    );\n",
       "    // Throttle sequential mouse events to 1 every 20ms.\n",
       "    rubberband_canvas.addEventListener(\n",
       "        'mousemove',\n",
       "        on_mouse_event_closure('motion_notify')\n",
       "    );\n",
       "\n",
       "    rubberband_canvas.addEventListener(\n",
       "        'mouseenter',\n",
       "        on_mouse_event_closure('figure_enter')\n",
       "    );\n",
       "    rubberband_canvas.addEventListener(\n",
       "        'mouseleave',\n",
       "        on_mouse_event_closure('figure_leave')\n",
       "    );\n",
       "\n",
       "    canvas_div.addEventListener('wheel', function (event) {\n",
       "        if (event.deltaY < 0) {\n",
       "            event.step = 1;\n",
       "        } else {\n",
       "            event.step = -1;\n",
       "        }\n",
       "        on_mouse_event_closure('scroll')(event);\n",
       "    });\n",
       "\n",
       "    canvas_div.appendChild(canvas);\n",
       "    canvas_div.appendChild(rubberband_canvas);\n",
       "\n",
       "    this.rubberband_context = rubberband_canvas.getContext('2d');\n",
       "    this.rubberband_context.strokeStyle = '#000000';\n",
       "\n",
       "    this._resize_canvas = function (width, height, forward) {\n",
       "        if (forward) {\n",
       "            canvas_div.style.width = width + 'px';\n",
       "            canvas_div.style.height = height + 'px';\n",
       "        }\n",
       "    };\n",
       "\n",
       "    // Disable right mouse context menu.\n",
       "    this.rubberband_canvas.addEventListener('contextmenu', function (_e) {\n",
       "        event.preventDefault();\n",
       "        return false;\n",
       "    });\n",
       "\n",
       "    function set_focus() {\n",
       "        canvas.focus();\n",
       "        canvas_div.focus();\n",
       "    }\n",
       "\n",
       "    window.setTimeout(set_focus, 100);\n",
       "};\n",
       "\n",
       "mpl.figure.prototype._init_toolbar = function () {\n",
       "    var fig = this;\n",
       "\n",
       "    var toolbar = document.createElement('div');\n",
       "    toolbar.classList = 'mpl-toolbar';\n",
       "    this.root.appendChild(toolbar);\n",
       "\n",
       "    function on_click_closure(name) {\n",
       "        return function (_event) {\n",
       "            return fig.toolbar_button_onclick(name);\n",
       "        };\n",
       "    }\n",
       "\n",
       "    function on_mouseover_closure(tooltip) {\n",
       "        return function (event) {\n",
       "            if (!event.currentTarget.disabled) {\n",
       "                return fig.toolbar_button_onmouseover(tooltip);\n",
       "            }\n",
       "        };\n",
       "    }\n",
       "\n",
       "    fig.buttons = {};\n",
       "    var buttonGroup = document.createElement('div');\n",
       "    buttonGroup.classList = 'mpl-button-group';\n",
       "    for (var toolbar_ind in mpl.toolbar_items) {\n",
       "        var name = mpl.toolbar_items[toolbar_ind][0];\n",
       "        var tooltip = mpl.toolbar_items[toolbar_ind][1];\n",
       "        var image = mpl.toolbar_items[toolbar_ind][2];\n",
       "        var method_name = mpl.toolbar_items[toolbar_ind][3];\n",
       "\n",
       "        if (!name) {\n",
       "            /* Instead of a spacer, we start a new button group. */\n",
       "            if (buttonGroup.hasChildNodes()) {\n",
       "                toolbar.appendChild(buttonGroup);\n",
       "            }\n",
       "            buttonGroup = document.createElement('div');\n",
       "            buttonGroup.classList = 'mpl-button-group';\n",
       "            continue;\n",
       "        }\n",
       "\n",
       "        var button = (fig.buttons[name] = document.createElement('button'));\n",
       "        button.classList = 'mpl-widget';\n",
       "        button.setAttribute('role', 'button');\n",
       "        button.setAttribute('aria-disabled', 'false');\n",
       "        button.addEventListener('click', on_click_closure(method_name));\n",
       "        button.addEventListener('mouseover', on_mouseover_closure(tooltip));\n",
       "\n",
       "        var icon_img = document.createElement('img');\n",
       "        icon_img.src = '_images/' + image + '.png';\n",
       "        icon_img.srcset = '_images/' + image + '_large.png 2x';\n",
       "        icon_img.alt = tooltip;\n",
       "        button.appendChild(icon_img);\n",
       "\n",
       "        buttonGroup.appendChild(button);\n",
       "    }\n",
       "\n",
       "    if (buttonGroup.hasChildNodes()) {\n",
       "        toolbar.appendChild(buttonGroup);\n",
       "    }\n",
       "\n",
       "    var fmt_picker = document.createElement('select');\n",
       "    fmt_picker.classList = 'mpl-widget';\n",
       "    toolbar.appendChild(fmt_picker);\n",
       "    this.format_dropdown = fmt_picker;\n",
       "\n",
       "    for (var ind in mpl.extensions) {\n",
       "        var fmt = mpl.extensions[ind];\n",
       "        var option = document.createElement('option');\n",
       "        option.selected = fmt === mpl.default_extension;\n",
       "        option.innerHTML = fmt;\n",
       "        fmt_picker.appendChild(option);\n",
       "    }\n",
       "\n",
       "    var status_bar = document.createElement('span');\n",
       "    status_bar.classList = 'mpl-message';\n",
       "    toolbar.appendChild(status_bar);\n",
       "    this.message = status_bar;\n",
       "};\n",
       "\n",
       "mpl.figure.prototype.request_resize = function (x_pixels, y_pixels) {\n",
       "    // Request matplotlib to resize the figure. Matplotlib will then trigger a resize in the client,\n",
       "    // which will in turn request a refresh of the image.\n",
       "    this.send_message('resize', { width: x_pixels, height: y_pixels });\n",
       "};\n",
       "\n",
       "mpl.figure.prototype.send_message = function (type, properties) {\n",
       "    properties['type'] = type;\n",
       "    properties['figure_id'] = this.id;\n",
       "    this.ws.send(JSON.stringify(properties));\n",
       "};\n",
       "\n",
       "mpl.figure.prototype.send_draw_message = function () {\n",
       "    if (!this.waiting) {\n",
       "        this.waiting = true;\n",
       "        this.ws.send(JSON.stringify({ type: 'draw', figure_id: this.id }));\n",
       "    }\n",
       "};\n",
       "\n",
       "mpl.figure.prototype.handle_save = function (fig, _msg) {\n",
       "    var format_dropdown = fig.format_dropdown;\n",
       "    var format = format_dropdown.options[format_dropdown.selectedIndex].value;\n",
       "    fig.ondownload(fig, format);\n",
       "};\n",
       "\n",
       "mpl.figure.prototype.handle_resize = function (fig, msg) {\n",
       "    var size = msg['size'];\n",
       "    if (size[0] !== fig.canvas.width || size[1] !== fig.canvas.height) {\n",
       "        fig._resize_canvas(size[0], size[1], msg['forward']);\n",
       "        fig.send_message('refresh', {});\n",
       "    }\n",
       "};\n",
       "\n",
       "mpl.figure.prototype.handle_rubberband = function (fig, msg) {\n",
       "    var x0 = msg['x0'] / fig.ratio;\n",
       "    var y0 = (fig.canvas.height - msg['y0']) / fig.ratio;\n",
       "    var x1 = msg['x1'] / fig.ratio;\n",
       "    var y1 = (fig.canvas.height - msg['y1']) / fig.ratio;\n",
       "    x0 = Math.floor(x0) + 0.5;\n",
       "    y0 = Math.floor(y0) + 0.5;\n",
       "    x1 = Math.floor(x1) + 0.5;\n",
       "    y1 = Math.floor(y1) + 0.5;\n",
       "    var min_x = Math.min(x0, x1);\n",
       "    var min_y = Math.min(y0, y1);\n",
       "    var width = Math.abs(x1 - x0);\n",
       "    var height = Math.abs(y1 - y0);\n",
       "\n",
       "    fig.rubberband_context.clearRect(\n",
       "        0,\n",
       "        0,\n",
       "        fig.canvas.width / fig.ratio,\n",
       "        fig.canvas.height / fig.ratio\n",
       "    );\n",
       "\n",
       "    fig.rubberband_context.strokeRect(min_x, min_y, width, height);\n",
       "};\n",
       "\n",
       "mpl.figure.prototype.handle_figure_label = function (fig, msg) {\n",
       "    // Updates the figure title.\n",
       "    fig.header.textContent = msg['label'];\n",
       "};\n",
       "\n",
       "mpl.figure.prototype.handle_cursor = function (fig, msg) {\n",
       "    var cursor = msg['cursor'];\n",
       "    switch (cursor) {\n",
       "        case 0:\n",
       "            cursor = 'pointer';\n",
       "            break;\n",
       "        case 1:\n",
       "            cursor = 'default';\n",
       "            break;\n",
       "        case 2:\n",
       "            cursor = 'crosshair';\n",
       "            break;\n",
       "        case 3:\n",
       "            cursor = 'move';\n",
       "            break;\n",
       "    }\n",
       "    fig.rubberband_canvas.style.cursor = cursor;\n",
       "};\n",
       "\n",
       "mpl.figure.prototype.handle_message = function (fig, msg) {\n",
       "    fig.message.textContent = msg['message'];\n",
       "};\n",
       "\n",
       "mpl.figure.prototype.handle_draw = function (fig, _msg) {\n",
       "    // Request the server to send over a new figure.\n",
       "    fig.send_draw_message();\n",
       "};\n",
       "\n",
       "mpl.figure.prototype.handle_image_mode = function (fig, msg) {\n",
       "    fig.image_mode = msg['mode'];\n",
       "};\n",
       "\n",
       "mpl.figure.prototype.handle_history_buttons = function (fig, msg) {\n",
       "    for (var key in msg) {\n",
       "        if (!(key in fig.buttons)) {\n",
       "            continue;\n",
       "        }\n",
       "        fig.buttons[key].disabled = !msg[key];\n",
       "        fig.buttons[key].setAttribute('aria-disabled', !msg[key]);\n",
       "    }\n",
       "};\n",
       "\n",
       "mpl.figure.prototype.handle_navigate_mode = function (fig, msg) {\n",
       "    if (msg['mode'] === 'PAN') {\n",
       "        fig.buttons['Pan'].classList.add('active');\n",
       "        fig.buttons['Zoom'].classList.remove('active');\n",
       "    } else if (msg['mode'] === 'ZOOM') {\n",
       "        fig.buttons['Pan'].classList.remove('active');\n",
       "        fig.buttons['Zoom'].classList.add('active');\n",
       "    } else {\n",
       "        fig.buttons['Pan'].classList.remove('active');\n",
       "        fig.buttons['Zoom'].classList.remove('active');\n",
       "    }\n",
       "};\n",
       "\n",
       "mpl.figure.prototype.updated_canvas_event = function () {\n",
       "    // Called whenever the canvas gets updated.\n",
       "    this.send_message('ack', {});\n",
       "};\n",
       "\n",
       "// A function to construct a web socket function for onmessage handling.\n",
       "// Called in the figure constructor.\n",
       "mpl.figure.prototype._make_on_message_function = function (fig) {\n",
       "    return function socket_on_message(evt) {\n",
       "        if (evt.data instanceof Blob) {\n",
       "            /* FIXME: We get \"Resource interpreted as Image but\n",
       "             * transferred with MIME type text/plain:\" errors on\n",
       "             * Chrome.  But how to set the MIME type?  It doesn't seem\n",
       "             * to be part of the websocket stream */\n",
       "            evt.data.type = 'image/png';\n",
       "\n",
       "            /* Free the memory for the previous frames */\n",
       "            if (fig.imageObj.src) {\n",
       "                (window.URL || window.webkitURL).revokeObjectURL(\n",
       "                    fig.imageObj.src\n",
       "                );\n",
       "            }\n",
       "\n",
       "            fig.imageObj.src = (window.URL || window.webkitURL).createObjectURL(\n",
       "                evt.data\n",
       "            );\n",
       "            fig.updated_canvas_event();\n",
       "            fig.waiting = false;\n",
       "            return;\n",
       "        } else if (\n",
       "            typeof evt.data === 'string' &&\n",
       "            evt.data.slice(0, 21) === 'data:image/png;base64'\n",
       "        ) {\n",
       "            fig.imageObj.src = evt.data;\n",
       "            fig.updated_canvas_event();\n",
       "            fig.waiting = false;\n",
       "            return;\n",
       "        }\n",
       "\n",
       "        var msg = JSON.parse(evt.data);\n",
       "        var msg_type = msg['type'];\n",
       "\n",
       "        // Call the  \"handle_{type}\" callback, which takes\n",
       "        // the figure and JSON message as its only arguments.\n",
       "        try {\n",
       "            var callback = fig['handle_' + msg_type];\n",
       "        } catch (e) {\n",
       "            console.log(\n",
       "                \"No handler for the '\" + msg_type + \"' message type: \",\n",
       "                msg\n",
       "            );\n",
       "            return;\n",
       "        }\n",
       "\n",
       "        if (callback) {\n",
       "            try {\n",
       "                // console.log(\"Handling '\" + msg_type + \"' message: \", msg);\n",
       "                callback(fig, msg);\n",
       "            } catch (e) {\n",
       "                console.log(\n",
       "                    \"Exception inside the 'handler_\" + msg_type + \"' callback:\",\n",
       "                    e,\n",
       "                    e.stack,\n",
       "                    msg\n",
       "                );\n",
       "            }\n",
       "        }\n",
       "    };\n",
       "};\n",
       "\n",
       "// from http://stackoverflow.com/questions/1114465/getting-mouse-location-in-canvas\n",
       "mpl.findpos = function (e) {\n",
       "    //this section is from http://www.quirksmode.org/js/events_properties.html\n",
       "    var targ;\n",
       "    if (!e) {\n",
       "        e = window.event;\n",
       "    }\n",
       "    if (e.target) {\n",
       "        targ = e.target;\n",
       "    } else if (e.srcElement) {\n",
       "        targ = e.srcElement;\n",
       "    }\n",
       "    if (targ.nodeType === 3) {\n",
       "        // defeat Safari bug\n",
       "        targ = targ.parentNode;\n",
       "    }\n",
       "\n",
       "    // pageX,Y are the mouse positions relative to the document\n",
       "    var boundingRect = targ.getBoundingClientRect();\n",
       "    var x = e.pageX - (boundingRect.left + document.body.scrollLeft);\n",
       "    var y = e.pageY - (boundingRect.top + document.body.scrollTop);\n",
       "\n",
       "    return { x: x, y: y };\n",
       "};\n",
       "\n",
       "/*\n",
       " * return a copy of an object with only non-object keys\n",
       " * we need this to avoid circular references\n",
       " * http://stackoverflow.com/a/24161582/3208463\n",
       " */\n",
       "function simpleKeys(original) {\n",
       "    return Object.keys(original).reduce(function (obj, key) {\n",
       "        if (typeof original[key] !== 'object') {\n",
       "            obj[key] = original[key];\n",
       "        }\n",
       "        return obj;\n",
       "    }, {});\n",
       "}\n",
       "\n",
       "mpl.figure.prototype.mouse_event = function (event, name) {\n",
       "    var canvas_pos = mpl.findpos(event);\n",
       "\n",
       "    if (name === 'button_press') {\n",
       "        this.canvas.focus();\n",
       "        this.canvas_div.focus();\n",
       "    }\n",
       "\n",
       "    var x = canvas_pos.x * this.ratio;\n",
       "    var y = canvas_pos.y * this.ratio;\n",
       "\n",
       "    this.send_message(name, {\n",
       "        x: x,\n",
       "        y: y,\n",
       "        button: event.button,\n",
       "        step: event.step,\n",
       "        guiEvent: simpleKeys(event),\n",
       "    });\n",
       "\n",
       "    /* This prevents the web browser from automatically changing to\n",
       "     * the text insertion cursor when the button is pressed.  We want\n",
       "     * to control all of the cursor setting manually through the\n",
       "     * 'cursor' event from matplotlib */\n",
       "    event.preventDefault();\n",
       "    return false;\n",
       "};\n",
       "\n",
       "mpl.figure.prototype._key_event_extra = function (_event, _name) {\n",
       "    // Handle any extra behaviour associated with a key event\n",
       "};\n",
       "\n",
       "mpl.figure.prototype.key_event = function (event, name) {\n",
       "    // Prevent repeat events\n",
       "    if (name === 'key_press') {\n",
       "        if (event.which === this._key) {\n",
       "            return;\n",
       "        } else {\n",
       "            this._key = event.which;\n",
       "        }\n",
       "    }\n",
       "    if (name === 'key_release') {\n",
       "        this._key = null;\n",
       "    }\n",
       "\n",
       "    var value = '';\n",
       "    if (event.ctrlKey && event.which !== 17) {\n",
       "        value += 'ctrl+';\n",
       "    }\n",
       "    if (event.altKey && event.which !== 18) {\n",
       "        value += 'alt+';\n",
       "    }\n",
       "    if (event.shiftKey && event.which !== 16) {\n",
       "        value += 'shift+';\n",
       "    }\n",
       "\n",
       "    value += 'k';\n",
       "    value += event.which.toString();\n",
       "\n",
       "    this._key_event_extra(event, name);\n",
       "\n",
       "    this.send_message(name, { key: value, guiEvent: simpleKeys(event) });\n",
       "    return false;\n",
       "};\n",
       "\n",
       "mpl.figure.prototype.toolbar_button_onclick = function (name) {\n",
       "    if (name === 'download') {\n",
       "        this.handle_save(this, null);\n",
       "    } else {\n",
       "        this.send_message('toolbar_button', { name: name });\n",
       "    }\n",
       "};\n",
       "\n",
       "mpl.figure.prototype.toolbar_button_onmouseover = function (tooltip) {\n",
       "    this.message.textContent = tooltip;\n",
       "};\n",
       "mpl.toolbar_items = [[\"Home\", \"Reset original view\", \"fa fa-home icon-home\", \"home\"], [\"Back\", \"Back to previous view\", \"fa fa-arrow-left icon-arrow-left\", \"back\"], [\"Forward\", \"Forward to next view\", \"fa fa-arrow-right icon-arrow-right\", \"forward\"], [\"\", \"\", \"\", \"\"], [\"Pan\", \"Left button pans, Right button zooms\\nx/y fixes axis, CTRL fixes aspect\", \"fa fa-arrows icon-move\", \"pan\"], [\"Zoom\", \"Zoom to rectangle\\nx/y fixes axis, CTRL fixes aspect\", \"fa fa-square-o icon-check-empty\", \"zoom\"], [\"\", \"\", \"\", \"\"], [\"Download\", \"Download plot\", \"fa fa-floppy-o icon-save\", \"download\"]];\n",
       "\n",
       "mpl.extensions = [\"eps\", \"jpeg\", \"pdf\", \"png\", \"ps\", \"raw\", \"svg\", \"tif\"];\n",
       "\n",
       "mpl.default_extension = \"png\";/* global mpl */\n",
       "\n",
       "var comm_websocket_adapter = function (comm) {\n",
       "    // Create a \"websocket\"-like object which calls the given IPython comm\n",
       "    // object with the appropriate methods. Currently this is a non binary\n",
       "    // socket, so there is still some room for performance tuning.\n",
       "    var ws = {};\n",
       "\n",
       "    ws.close = function () {\n",
       "        comm.close();\n",
       "    };\n",
       "    ws.send = function (m) {\n",
       "        //console.log('sending', m);\n",
       "        comm.send(m);\n",
       "    };\n",
       "    // Register the callback with on_msg.\n",
       "    comm.on_msg(function (msg) {\n",
       "        //console.log('receiving', msg['content']['data'], msg);\n",
       "        // Pass the mpl event to the overridden (by mpl) onmessage function.\n",
       "        ws.onmessage(msg['content']['data']);\n",
       "    });\n",
       "    return ws;\n",
       "};\n",
       "\n",
       "mpl.mpl_figure_comm = function (comm, msg) {\n",
       "    // This is the function which gets called when the mpl process\n",
       "    // starts-up an IPython Comm through the \"matplotlib\" channel.\n",
       "\n",
       "    var id = msg.content.data.id;\n",
       "    // Get hold of the div created by the display call when the Comm\n",
       "    // socket was opened in Python.\n",
       "    var element = document.getElementById(id);\n",
       "    var ws_proxy = comm_websocket_adapter(comm);\n",
       "\n",
       "    function ondownload(figure, _format) {\n",
       "        window.open(figure.canvas.toDataURL());\n",
       "    }\n",
       "\n",
       "    var fig = new mpl.figure(id, ws_proxy, ondownload, element);\n",
       "\n",
       "    // Call onopen now - mpl needs it, as it is assuming we've passed it a real\n",
       "    // web socket which is closed, not our websocket->open comm proxy.\n",
       "    ws_proxy.onopen();\n",
       "\n",
       "    fig.parent_element = element;\n",
       "    fig.cell_info = mpl.find_output_cell(\"<div id='\" + id + \"'></div>\");\n",
       "    if (!fig.cell_info) {\n",
       "        console.error('Failed to find cell for figure', id, fig);\n",
       "        return;\n",
       "    }\n",
       "    fig.cell_info[0].output_area.element.one(\n",
       "        'cleared',\n",
       "        { fig: fig },\n",
       "        fig._remove_fig_handler\n",
       "    );\n",
       "};\n",
       "\n",
       "mpl.figure.prototype.handle_close = function (fig, msg) {\n",
       "    var width = fig.canvas.width / fig.ratio;\n",
       "    fig.cell_info[0].output_area.element.off(\n",
       "        'cleared',\n",
       "        fig._remove_fig_handler\n",
       "    );\n",
       "\n",
       "    // Update the output cell to use the data from the current canvas.\n",
       "    fig.push_to_output();\n",
       "    var dataURL = fig.canvas.toDataURL();\n",
       "    // Re-enable the keyboard manager in IPython - without this line, in FF,\n",
       "    // the notebook keyboard shortcuts fail.\n",
       "    IPython.keyboard_manager.enable();\n",
       "    fig.parent_element.innerHTML =\n",
       "        '<img src=\"' + dataURL + '\" width=\"' + width + '\">';\n",
       "    fig.close_ws(fig, msg);\n",
       "};\n",
       "\n",
       "mpl.figure.prototype.close_ws = function (fig, msg) {\n",
       "    fig.send_message('closing', msg);\n",
       "    // fig.ws.close()\n",
       "};\n",
       "\n",
       "mpl.figure.prototype.push_to_output = function (_remove_interactive) {\n",
       "    // Turn the data on the canvas into data in the output cell.\n",
       "    var width = this.canvas.width / this.ratio;\n",
       "    var dataURL = this.canvas.toDataURL();\n",
       "    this.cell_info[1]['text/html'] =\n",
       "        '<img src=\"' + dataURL + '\" width=\"' + width + '\">';\n",
       "};\n",
       "\n",
       "mpl.figure.prototype.updated_canvas_event = function () {\n",
       "    // Tell IPython that the notebook contents must change.\n",
       "    IPython.notebook.set_dirty(true);\n",
       "    this.send_message('ack', {});\n",
       "    var fig = this;\n",
       "    // Wait a second, then push the new image to the DOM so\n",
       "    // that it is saved nicely (might be nice to debounce this).\n",
       "    setTimeout(function () {\n",
       "        fig.push_to_output();\n",
       "    }, 1000);\n",
       "};\n",
       "\n",
       "mpl.figure.prototype._init_toolbar = function () {\n",
       "    var fig = this;\n",
       "\n",
       "    var toolbar = document.createElement('div');\n",
       "    toolbar.classList = 'btn-toolbar';\n",
       "    this.root.appendChild(toolbar);\n",
       "\n",
       "    function on_click_closure(name) {\n",
       "        return function (_event) {\n",
       "            return fig.toolbar_button_onclick(name);\n",
       "        };\n",
       "    }\n",
       "\n",
       "    function on_mouseover_closure(tooltip) {\n",
       "        return function (event) {\n",
       "            if (!event.currentTarget.disabled) {\n",
       "                return fig.toolbar_button_onmouseover(tooltip);\n",
       "            }\n",
       "        };\n",
       "    }\n",
       "\n",
       "    fig.buttons = {};\n",
       "    var buttonGroup = document.createElement('div');\n",
       "    buttonGroup.classList = 'btn-group';\n",
       "    var button;\n",
       "    for (var toolbar_ind in mpl.toolbar_items) {\n",
       "        var name = mpl.toolbar_items[toolbar_ind][0];\n",
       "        var tooltip = mpl.toolbar_items[toolbar_ind][1];\n",
       "        var image = mpl.toolbar_items[toolbar_ind][2];\n",
       "        var method_name = mpl.toolbar_items[toolbar_ind][3];\n",
       "\n",
       "        if (!name) {\n",
       "            /* Instead of a spacer, we start a new button group. */\n",
       "            if (buttonGroup.hasChildNodes()) {\n",
       "                toolbar.appendChild(buttonGroup);\n",
       "            }\n",
       "            buttonGroup = document.createElement('div');\n",
       "            buttonGroup.classList = 'btn-group';\n",
       "            continue;\n",
       "        }\n",
       "\n",
       "        button = fig.buttons[name] = document.createElement('button');\n",
       "        button.classList = 'btn btn-default';\n",
       "        button.href = '#';\n",
       "        button.title = name;\n",
       "        button.innerHTML = '<i class=\"fa ' + image + ' fa-lg\"></i>';\n",
       "        button.addEventListener('click', on_click_closure(method_name));\n",
       "        button.addEventListener('mouseover', on_mouseover_closure(tooltip));\n",
       "        buttonGroup.appendChild(button);\n",
       "    }\n",
       "\n",
       "    if (buttonGroup.hasChildNodes()) {\n",
       "        toolbar.appendChild(buttonGroup);\n",
       "    }\n",
       "\n",
       "    // Add the status bar.\n",
       "    var status_bar = document.createElement('span');\n",
       "    status_bar.classList = 'mpl-message pull-right';\n",
       "    toolbar.appendChild(status_bar);\n",
       "    this.message = status_bar;\n",
       "\n",
       "    // Add the close button to the window.\n",
       "    var buttongrp = document.createElement('div');\n",
       "    buttongrp.classList = 'btn-group inline pull-right';\n",
       "    button = document.createElement('button');\n",
       "    button.classList = 'btn btn-mini btn-primary';\n",
       "    button.href = '#';\n",
       "    button.title = 'Stop Interaction';\n",
       "    button.innerHTML = '<i class=\"fa fa-power-off icon-remove icon-large\"></i>';\n",
       "    button.addEventListener('click', function (_evt) {\n",
       "        fig.handle_close(fig, {});\n",
       "    });\n",
       "    button.addEventListener(\n",
       "        'mouseover',\n",
       "        on_mouseover_closure('Stop Interaction')\n",
       "    );\n",
       "    buttongrp.appendChild(button);\n",
       "    var titlebar = this.root.querySelector('.ui-dialog-titlebar');\n",
       "    titlebar.insertBefore(buttongrp, titlebar.firstChild);\n",
       "};\n",
       "\n",
       "mpl.figure.prototype._remove_fig_handler = function (event) {\n",
       "    var fig = event.data.fig;\n",
       "    fig.close_ws(fig, {});\n",
       "};\n",
       "\n",
       "mpl.figure.prototype._root_extra_style = function (el) {\n",
       "    el.style.boxSizing = 'content-box'; // override notebook setting of border-box.\n",
       "};\n",
       "\n",
       "mpl.figure.prototype._canvas_extra_style = function (el) {\n",
       "    // this is important to make the div 'focusable\n",
       "    el.setAttribute('tabindex', 0);\n",
       "    // reach out to IPython and tell the keyboard manager to turn it's self\n",
       "    // off when our div gets focus\n",
       "\n",
       "    // location in version 3\n",
       "    if (IPython.notebook.keyboard_manager) {\n",
       "        IPython.notebook.keyboard_manager.register_events(el);\n",
       "    } else {\n",
       "        // location in version 2\n",
       "        IPython.keyboard_manager.register_events(el);\n",
       "    }\n",
       "};\n",
       "\n",
       "mpl.figure.prototype._key_event_extra = function (event, _name) {\n",
       "    var manager = IPython.notebook.keyboard_manager;\n",
       "    if (!manager) {\n",
       "        manager = IPython.keyboard_manager;\n",
       "    }\n",
       "\n",
       "    // Check for shift+enter\n",
       "    if (event.shiftKey && event.which === 13) {\n",
       "        this.canvas_div.blur();\n",
       "        // select the cell after this one\n",
       "        var index = IPython.notebook.find_cell_index(this.cell_info[0]);\n",
       "        IPython.notebook.select(index + 1);\n",
       "    }\n",
       "};\n",
       "\n",
       "mpl.figure.prototype.handle_save = function (fig, _msg) {\n",
       "    fig.ondownload(fig, null);\n",
       "};\n",
       "\n",
       "mpl.find_output_cell = function (html_output) {\n",
       "    // Return the cell and output element which can be found *uniquely* in the notebook.\n",
       "    // Note - this is a bit hacky, but it is done because the \"notebook_saving.Notebook\"\n",
       "    // IPython event is triggered only after the cells have been serialised, which for\n",
       "    // our purposes (turning an active figure into a static one), is too late.\n",
       "    var cells = IPython.notebook.get_cells();\n",
       "    var ncells = cells.length;\n",
       "    for (var i = 0; i < ncells; i++) {\n",
       "        var cell = cells[i];\n",
       "        if (cell.cell_type === 'code') {\n",
       "            for (var j = 0; j < cell.output_area.outputs.length; j++) {\n",
       "                var data = cell.output_area.outputs[j];\n",
       "                if (data.data) {\n",
       "                    // IPython >= 3 moved mimebundle to data attribute of output\n",
       "                    data = data.data;\n",
       "                }\n",
       "                if (data['text/html'] === html_output) {\n",
       "                    return [cell, data, j];\n",
       "                }\n",
       "            }\n",
       "        }\n",
       "    }\n",
       "};\n",
       "\n",
       "// Register the function which deals with the matplotlib target/channel.\n",
       "// The kernel may be null if the page has been refreshed.\n",
       "if (IPython.notebook.kernel !== null) {\n",
       "    IPython.notebook.kernel.comm_manager.register_target(\n",
       "        'matplotlib',\n",
       "        mpl.mpl_figure_comm\n",
       "    );\n",
       "}\n"
      ],
      "text/plain": [
       "<IPython.core.display.Javascript object>"
      ]
     },
     "metadata": {},
     "output_type": "display_data"
    },
    {
     "data": {
      "text/html": [
       "<img src=\"data:image/png;base64,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\" width=\"1000\">"
      ],
      "text/plain": [
       "<IPython.core.display.HTML object>"
      ]
     },
     "metadata": {},
     "output_type": "display_data"
    },
    {
     "data": {
      "text/plain": [
       "<matplotlib.legend.Legend at 0x7f4c2f52a2e0>"
      ]
     },
     "execution_count": 81,
     "metadata": {},
     "output_type": "execute_result"
    }
   ],
   "source": [
    "fig = plt.figure('K-Means on SDSS Dataset', figsize=(10,10))\n",
    "ax = plt.axes(projection='3d')\n",
    "ax.scatter(centroids[1][0][0], centroids[1][0][1], centroids[1][0][2], c='r', s=100)\n",
    "ax.scatter(centroids[1][1][0], centroids[1][1][1], centroids[1][1][2], c='r', s=100)\n",
    "ax.scatter(centroids[1][2][0], centroids[1][2][1], centroids[1][2][2], c='r', s=100)\n",
    "scatter = ax.scatter(X_test['ra'], X_test['dec'], X_test['redshift'], c=labels[1])\n",
    "fig.legend(handles=scatter.legend_elements()[0], labels=['GALAXY', 'QSO', 'STAR'])"
   ]
  },
  {
   "cell_type": "code",
   "execution_count": 82,
   "metadata": {},
   "outputs": [
    {
     "data": {
      "application/javascript": [
       "/* Put everything inside the global mpl namespace */\n",
       "/* global mpl */\n",
       "window.mpl = {};\n",
       "\n",
       "mpl.get_websocket_type = function () {\n",
       "    if (typeof WebSocket !== 'undefined') {\n",
       "        return WebSocket;\n",
       "    } else if (typeof MozWebSocket !== 'undefined') {\n",
       "        return MozWebSocket;\n",
       "    } else {\n",
       "        alert(\n",
       "            'Your browser does not have WebSocket support. ' +\n",
       "                'Please try Chrome, Safari or Firefox ≥ 6. ' +\n",
       "                'Firefox 4 and 5 are also supported but you ' +\n",
       "                'have to enable WebSockets in about:config.'\n",
       "        );\n",
       "    }\n",
       "};\n",
       "\n",
       "mpl.figure = function (figure_id, websocket, ondownload, parent_element) {\n",
       "    this.id = figure_id;\n",
       "\n",
       "    this.ws = websocket;\n",
       "\n",
       "    this.supports_binary = this.ws.binaryType !== undefined;\n",
       "\n",
       "    if (!this.supports_binary) {\n",
       "        var warnings = document.getElementById('mpl-warnings');\n",
       "        if (warnings) {\n",
       "            warnings.style.display = 'block';\n",
       "            warnings.textContent =\n",
       "                'This browser does not support binary websocket messages. ' +\n",
       "                'Performance may be slow.';\n",
       "        }\n",
       "    }\n",
       "\n",
       "    this.imageObj = new Image();\n",
       "\n",
       "    this.context = undefined;\n",
       "    this.message = undefined;\n",
       "    this.canvas = undefined;\n",
       "    this.rubberband_canvas = undefined;\n",
       "    this.rubberband_context = undefined;\n",
       "    this.format_dropdown = undefined;\n",
       "\n",
       "    this.image_mode = 'full';\n",
       "\n",
       "    this.root = document.createElement('div');\n",
       "    this.root.setAttribute('style', 'display: inline-block');\n",
       "    this._root_extra_style(this.root);\n",
       "\n",
       "    parent_element.appendChild(this.root);\n",
       "\n",
       "    this._init_header(this);\n",
       "    this._init_canvas(this);\n",
       "    this._init_toolbar(this);\n",
       "\n",
       "    var fig = this;\n",
       "\n",
       "    this.waiting = false;\n",
       "\n",
       "    this.ws.onopen = function () {\n",
       "        fig.send_message('supports_binary', { value: fig.supports_binary });\n",
       "        fig.send_message('send_image_mode', {});\n",
       "        if (fig.ratio !== 1) {\n",
       "            fig.send_message('set_dpi_ratio', { dpi_ratio: fig.ratio });\n",
       "        }\n",
       "        fig.send_message('refresh', {});\n",
       "    };\n",
       "\n",
       "    this.imageObj.onload = function () {\n",
       "        if (fig.image_mode === 'full') {\n",
       "            // Full images could contain transparency (where diff images\n",
       "            // almost always do), so we need to clear the canvas so that\n",
       "            // there is no ghosting.\n",
       "            fig.context.clearRect(0, 0, fig.canvas.width, fig.canvas.height);\n",
       "        }\n",
       "        fig.context.drawImage(fig.imageObj, 0, 0);\n",
       "    };\n",
       "\n",
       "    this.imageObj.onunload = function () {\n",
       "        fig.ws.close();\n",
       "    };\n",
       "\n",
       "    this.ws.onmessage = this._make_on_message_function(this);\n",
       "\n",
       "    this.ondownload = ondownload;\n",
       "};\n",
       "\n",
       "mpl.figure.prototype._init_header = function () {\n",
       "    var titlebar = document.createElement('div');\n",
       "    titlebar.classList =\n",
       "        'ui-dialog-titlebar ui-widget-header ui-corner-all ui-helper-clearfix';\n",
       "    var titletext = document.createElement('div');\n",
       "    titletext.classList = 'ui-dialog-title';\n",
       "    titletext.setAttribute(\n",
       "        'style',\n",
       "        'width: 100%; text-align: center; padding: 3px;'\n",
       "    );\n",
       "    titlebar.appendChild(titletext);\n",
       "    this.root.appendChild(titlebar);\n",
       "    this.header = titletext;\n",
       "};\n",
       "\n",
       "mpl.figure.prototype._canvas_extra_style = function (_canvas_div) {};\n",
       "\n",
       "mpl.figure.prototype._root_extra_style = function (_canvas_div) {};\n",
       "\n",
       "mpl.figure.prototype._init_canvas = function () {\n",
       "    var fig = this;\n",
       "\n",
       "    var canvas_div = (this.canvas_div = document.createElement('div'));\n",
       "    canvas_div.setAttribute(\n",
       "        'style',\n",
       "        'border: 1px solid #ddd;' +\n",
       "            'box-sizing: content-box;' +\n",
       "            'clear: both;' +\n",
       "            'min-height: 1px;' +\n",
       "            'min-width: 1px;' +\n",
       "            'outline: 0;' +\n",
       "            'overflow: hidden;' +\n",
       "            'position: relative;' +\n",
       "            'resize: both;'\n",
       "    );\n",
       "\n",
       "    function on_keyboard_event_closure(name) {\n",
       "        return function (event) {\n",
       "            return fig.key_event(event, name);\n",
       "        };\n",
       "    }\n",
       "\n",
       "    canvas_div.addEventListener(\n",
       "        'keydown',\n",
       "        on_keyboard_event_closure('key_press')\n",
       "    );\n",
       "    canvas_div.addEventListener(\n",
       "        'keyup',\n",
       "        on_keyboard_event_closure('key_release')\n",
       "    );\n",
       "\n",
       "    this._canvas_extra_style(canvas_div);\n",
       "    this.root.appendChild(canvas_div);\n",
       "\n",
       "    var canvas = (this.canvas = document.createElement('canvas'));\n",
       "    canvas.classList.add('mpl-canvas');\n",
       "    canvas.setAttribute('style', 'box-sizing: content-box;');\n",
       "\n",
       "    this.context = canvas.getContext('2d');\n",
       "\n",
       "    var backingStore =\n",
       "        this.context.backingStorePixelRatio ||\n",
       "        this.context.webkitBackingStorePixelRatio ||\n",
       "        this.context.mozBackingStorePixelRatio ||\n",
       "        this.context.msBackingStorePixelRatio ||\n",
       "        this.context.oBackingStorePixelRatio ||\n",
       "        this.context.backingStorePixelRatio ||\n",
       "        1;\n",
       "\n",
       "    this.ratio = (window.devicePixelRatio || 1) / backingStore;\n",
       "    if (this.ratio !== 1) {\n",
       "        fig.send_message('set_dpi_ratio', { dpi_ratio: this.ratio });\n",
       "    }\n",
       "\n",
       "    var rubberband_canvas = (this.rubberband_canvas = document.createElement(\n",
       "        'canvas'\n",
       "    ));\n",
       "    rubberband_canvas.setAttribute(\n",
       "        'style',\n",
       "        'box-sizing: content-box; position: absolute; left: 0; top: 0; z-index: 1;'\n",
       "    );\n",
       "\n",
       "    var resizeObserver = new ResizeObserver(function (entries) {\n",
       "        var nentries = entries.length;\n",
       "        for (var i = 0; i < nentries; i++) {\n",
       "            var entry = entries[i];\n",
       "            var width, height;\n",
       "            if (entry.contentBoxSize) {\n",
       "                if (entry.contentBoxSize instanceof Array) {\n",
       "                    // Chrome 84 implements new version of spec.\n",
       "                    width = entry.contentBoxSize[0].inlineSize;\n",
       "                    height = entry.contentBoxSize[0].blockSize;\n",
       "                } else {\n",
       "                    // Firefox implements old version of spec.\n",
       "                    width = entry.contentBoxSize.inlineSize;\n",
       "                    height = entry.contentBoxSize.blockSize;\n",
       "                }\n",
       "            } else {\n",
       "                // Chrome <84 implements even older version of spec.\n",
       "                width = entry.contentRect.width;\n",
       "                height = entry.contentRect.height;\n",
       "            }\n",
       "\n",
       "            // Keep the size of the canvas and rubber band canvas in sync with\n",
       "            // the canvas container.\n",
       "            if (entry.devicePixelContentBoxSize) {\n",
       "                // Chrome 84 implements new version of spec.\n",
       "                canvas.setAttribute(\n",
       "                    'width',\n",
       "                    entry.devicePixelContentBoxSize[0].inlineSize\n",
       "                );\n",
       "                canvas.setAttribute(\n",
       "                    'height',\n",
       "                    entry.devicePixelContentBoxSize[0].blockSize\n",
       "                );\n",
       "            } else {\n",
       "                canvas.setAttribute('width', width * fig.ratio);\n",
       "                canvas.setAttribute('height', height * fig.ratio);\n",
       "            }\n",
       "            canvas.setAttribute(\n",
       "                'style',\n",
       "                'width: ' + width + 'px; height: ' + height + 'px;'\n",
       "            );\n",
       "\n",
       "            rubberband_canvas.setAttribute('width', width);\n",
       "            rubberband_canvas.setAttribute('height', height);\n",
       "\n",
       "            // And update the size in Python. We ignore the initial 0/0 size\n",
       "            // that occurs as the element is placed into the DOM, which should\n",
       "            // otherwise not happen due to the minimum size styling.\n",
       "            if (width != 0 && height != 0) {\n",
       "                fig.request_resize(width, height);\n",
       "            }\n",
       "        }\n",
       "    });\n",
       "    resizeObserver.observe(canvas_div);\n",
       "\n",
       "    function on_mouse_event_closure(name) {\n",
       "        return function (event) {\n",
       "            return fig.mouse_event(event, name);\n",
       "        };\n",
       "    }\n",
       "\n",
       "    rubberband_canvas.addEventListener(\n",
       "        'mousedown',\n",
       "        on_mouse_event_closure('button_press')\n",
       "    );\n",
       "    rubberband_canvas.addEventListener(\n",
       "        'mouseup',\n",
       "        on_mouse_event_closure('button_release')\n",
       "    );\n",
       "    // Throttle sequential mouse events to 1 every 20ms.\n",
       "    rubberband_canvas.addEventListener(\n",
       "        'mousemove',\n",
       "        on_mouse_event_closure('motion_notify')\n",
       "    );\n",
       "\n",
       "    rubberband_canvas.addEventListener(\n",
       "        'mouseenter',\n",
       "        on_mouse_event_closure('figure_enter')\n",
       "    );\n",
       "    rubberband_canvas.addEventListener(\n",
       "        'mouseleave',\n",
       "        on_mouse_event_closure('figure_leave')\n",
       "    );\n",
       "\n",
       "    canvas_div.addEventListener('wheel', function (event) {\n",
       "        if (event.deltaY < 0) {\n",
       "            event.step = 1;\n",
       "        } else {\n",
       "            event.step = -1;\n",
       "        }\n",
       "        on_mouse_event_closure('scroll')(event);\n",
       "    });\n",
       "\n",
       "    canvas_div.appendChild(canvas);\n",
       "    canvas_div.appendChild(rubberband_canvas);\n",
       "\n",
       "    this.rubberband_context = rubberband_canvas.getContext('2d');\n",
       "    this.rubberband_context.strokeStyle = '#000000';\n",
       "\n",
       "    this._resize_canvas = function (width, height, forward) {\n",
       "        if (forward) {\n",
       "            canvas_div.style.width = width + 'px';\n",
       "            canvas_div.style.height = height + 'px';\n",
       "        }\n",
       "    };\n",
       "\n",
       "    // Disable right mouse context menu.\n",
       "    this.rubberband_canvas.addEventListener('contextmenu', function (_e) {\n",
       "        event.preventDefault();\n",
       "        return false;\n",
       "    });\n",
       "\n",
       "    function set_focus() {\n",
       "        canvas.focus();\n",
       "        canvas_div.focus();\n",
       "    }\n",
       "\n",
       "    window.setTimeout(set_focus, 100);\n",
       "};\n",
       "\n",
       "mpl.figure.prototype._init_toolbar = function () {\n",
       "    var fig = this;\n",
       "\n",
       "    var toolbar = document.createElement('div');\n",
       "    toolbar.classList = 'mpl-toolbar';\n",
       "    this.root.appendChild(toolbar);\n",
       "\n",
       "    function on_click_closure(name) {\n",
       "        return function (_event) {\n",
       "            return fig.toolbar_button_onclick(name);\n",
       "        };\n",
       "    }\n",
       "\n",
       "    function on_mouseover_closure(tooltip) {\n",
       "        return function (event) {\n",
       "            if (!event.currentTarget.disabled) {\n",
       "                return fig.toolbar_button_onmouseover(tooltip);\n",
       "            }\n",
       "        };\n",
       "    }\n",
       "\n",
       "    fig.buttons = {};\n",
       "    var buttonGroup = document.createElement('div');\n",
       "    buttonGroup.classList = 'mpl-button-group';\n",
       "    for (var toolbar_ind in mpl.toolbar_items) {\n",
       "        var name = mpl.toolbar_items[toolbar_ind][0];\n",
       "        var tooltip = mpl.toolbar_items[toolbar_ind][1];\n",
       "        var image = mpl.toolbar_items[toolbar_ind][2];\n",
       "        var method_name = mpl.toolbar_items[toolbar_ind][3];\n",
       "\n",
       "        if (!name) {\n",
       "            /* Instead of a spacer, we start a new button group. */\n",
       "            if (buttonGroup.hasChildNodes()) {\n",
       "                toolbar.appendChild(buttonGroup);\n",
       "            }\n",
       "            buttonGroup = document.createElement('div');\n",
       "            buttonGroup.classList = 'mpl-button-group';\n",
       "            continue;\n",
       "        }\n",
       "\n",
       "        var button = (fig.buttons[name] = document.createElement('button'));\n",
       "        button.classList = 'mpl-widget';\n",
       "        button.setAttribute('role', 'button');\n",
       "        button.setAttribute('aria-disabled', 'false');\n",
       "        button.addEventListener('click', on_click_closure(method_name));\n",
       "        button.addEventListener('mouseover', on_mouseover_closure(tooltip));\n",
       "\n",
       "        var icon_img = document.createElement('img');\n",
       "        icon_img.src = '_images/' + image + '.png';\n",
       "        icon_img.srcset = '_images/' + image + '_large.png 2x';\n",
       "        icon_img.alt = tooltip;\n",
       "        button.appendChild(icon_img);\n",
       "\n",
       "        buttonGroup.appendChild(button);\n",
       "    }\n",
       "\n",
       "    if (buttonGroup.hasChildNodes()) {\n",
       "        toolbar.appendChild(buttonGroup);\n",
       "    }\n",
       "\n",
       "    var fmt_picker = document.createElement('select');\n",
       "    fmt_picker.classList = 'mpl-widget';\n",
       "    toolbar.appendChild(fmt_picker);\n",
       "    this.format_dropdown = fmt_picker;\n",
       "\n",
       "    for (var ind in mpl.extensions) {\n",
       "        var fmt = mpl.extensions[ind];\n",
       "        var option = document.createElement('option');\n",
       "        option.selected = fmt === mpl.default_extension;\n",
       "        option.innerHTML = fmt;\n",
       "        fmt_picker.appendChild(option);\n",
       "    }\n",
       "\n",
       "    var status_bar = document.createElement('span');\n",
       "    status_bar.classList = 'mpl-message';\n",
       "    toolbar.appendChild(status_bar);\n",
       "    this.message = status_bar;\n",
       "};\n",
       "\n",
       "mpl.figure.prototype.request_resize = function (x_pixels, y_pixels) {\n",
       "    // Request matplotlib to resize the figure. Matplotlib will then trigger a resize in the client,\n",
       "    // which will in turn request a refresh of the image.\n",
       "    this.send_message('resize', { width: x_pixels, height: y_pixels });\n",
       "};\n",
       "\n",
       "mpl.figure.prototype.send_message = function (type, properties) {\n",
       "    properties['type'] = type;\n",
       "    properties['figure_id'] = this.id;\n",
       "    this.ws.send(JSON.stringify(properties));\n",
       "};\n",
       "\n",
       "mpl.figure.prototype.send_draw_message = function () {\n",
       "    if (!this.waiting) {\n",
       "        this.waiting = true;\n",
       "        this.ws.send(JSON.stringify({ type: 'draw', figure_id: this.id }));\n",
       "    }\n",
       "};\n",
       "\n",
       "mpl.figure.prototype.handle_save = function (fig, _msg) {\n",
       "    var format_dropdown = fig.format_dropdown;\n",
       "    var format = format_dropdown.options[format_dropdown.selectedIndex].value;\n",
       "    fig.ondownload(fig, format);\n",
       "};\n",
       "\n",
       "mpl.figure.prototype.handle_resize = function (fig, msg) {\n",
       "    var size = msg['size'];\n",
       "    if (size[0] !== fig.canvas.width || size[1] !== fig.canvas.height) {\n",
       "        fig._resize_canvas(size[0], size[1], msg['forward']);\n",
       "        fig.send_message('refresh', {});\n",
       "    }\n",
       "};\n",
       "\n",
       "mpl.figure.prototype.handle_rubberband = function (fig, msg) {\n",
       "    var x0 = msg['x0'] / fig.ratio;\n",
       "    var y0 = (fig.canvas.height - msg['y0']) / fig.ratio;\n",
       "    var x1 = msg['x1'] / fig.ratio;\n",
       "    var y1 = (fig.canvas.height - msg['y1']) / fig.ratio;\n",
       "    x0 = Math.floor(x0) + 0.5;\n",
       "    y0 = Math.floor(y0) + 0.5;\n",
       "    x1 = Math.floor(x1) + 0.5;\n",
       "    y1 = Math.floor(y1) + 0.5;\n",
       "    var min_x = Math.min(x0, x1);\n",
       "    var min_y = Math.min(y0, y1);\n",
       "    var width = Math.abs(x1 - x0);\n",
       "    var height = Math.abs(y1 - y0);\n",
       "\n",
       "    fig.rubberband_context.clearRect(\n",
       "        0,\n",
       "        0,\n",
       "        fig.canvas.width / fig.ratio,\n",
       "        fig.canvas.height / fig.ratio\n",
       "    );\n",
       "\n",
       "    fig.rubberband_context.strokeRect(min_x, min_y, width, height);\n",
       "};\n",
       "\n",
       "mpl.figure.prototype.handle_figure_label = function (fig, msg) {\n",
       "    // Updates the figure title.\n",
       "    fig.header.textContent = msg['label'];\n",
       "};\n",
       "\n",
       "mpl.figure.prototype.handle_cursor = function (fig, msg) {\n",
       "    var cursor = msg['cursor'];\n",
       "    switch (cursor) {\n",
       "        case 0:\n",
       "            cursor = 'pointer';\n",
       "            break;\n",
       "        case 1:\n",
       "            cursor = 'default';\n",
       "            break;\n",
       "        case 2:\n",
       "            cursor = 'crosshair';\n",
       "            break;\n",
       "        case 3:\n",
       "            cursor = 'move';\n",
       "            break;\n",
       "    }\n",
       "    fig.rubberband_canvas.style.cursor = cursor;\n",
       "};\n",
       "\n",
       "mpl.figure.prototype.handle_message = function (fig, msg) {\n",
       "    fig.message.textContent = msg['message'];\n",
       "};\n",
       "\n",
       "mpl.figure.prototype.handle_draw = function (fig, _msg) {\n",
       "    // Request the server to send over a new figure.\n",
       "    fig.send_draw_message();\n",
       "};\n",
       "\n",
       "mpl.figure.prototype.handle_image_mode = function (fig, msg) {\n",
       "    fig.image_mode = msg['mode'];\n",
       "};\n",
       "\n",
       "mpl.figure.prototype.handle_history_buttons = function (fig, msg) {\n",
       "    for (var key in msg) {\n",
       "        if (!(key in fig.buttons)) {\n",
       "            continue;\n",
       "        }\n",
       "        fig.buttons[key].disabled = !msg[key];\n",
       "        fig.buttons[key].setAttribute('aria-disabled', !msg[key]);\n",
       "    }\n",
       "};\n",
       "\n",
       "mpl.figure.prototype.handle_navigate_mode = function (fig, msg) {\n",
       "    if (msg['mode'] === 'PAN') {\n",
       "        fig.buttons['Pan'].classList.add('active');\n",
       "        fig.buttons['Zoom'].classList.remove('active');\n",
       "    } else if (msg['mode'] === 'ZOOM') {\n",
       "        fig.buttons['Pan'].classList.remove('active');\n",
       "        fig.buttons['Zoom'].classList.add('active');\n",
       "    } else {\n",
       "        fig.buttons['Pan'].classList.remove('active');\n",
       "        fig.buttons['Zoom'].classList.remove('active');\n",
       "    }\n",
       "};\n",
       "\n",
       "mpl.figure.prototype.updated_canvas_event = function () {\n",
       "    // Called whenever the canvas gets updated.\n",
       "    this.send_message('ack', {});\n",
       "};\n",
       "\n",
       "// A function to construct a web socket function for onmessage handling.\n",
       "// Called in the figure constructor.\n",
       "mpl.figure.prototype._make_on_message_function = function (fig) {\n",
       "    return function socket_on_message(evt) {\n",
       "        if (evt.data instanceof Blob) {\n",
       "            /* FIXME: We get \"Resource interpreted as Image but\n",
       "             * transferred with MIME type text/plain:\" errors on\n",
       "             * Chrome.  But how to set the MIME type?  It doesn't seem\n",
       "             * to be part of the websocket stream */\n",
       "            evt.data.type = 'image/png';\n",
       "\n",
       "            /* Free the memory for the previous frames */\n",
       "            if (fig.imageObj.src) {\n",
       "                (window.URL || window.webkitURL).revokeObjectURL(\n",
       "                    fig.imageObj.src\n",
       "                );\n",
       "            }\n",
       "\n",
       "            fig.imageObj.src = (window.URL || window.webkitURL).createObjectURL(\n",
       "                evt.data\n",
       "            );\n",
       "            fig.updated_canvas_event();\n",
       "            fig.waiting = false;\n",
       "            return;\n",
       "        } else if (\n",
       "            typeof evt.data === 'string' &&\n",
       "            evt.data.slice(0, 21) === 'data:image/png;base64'\n",
       "        ) {\n",
       "            fig.imageObj.src = evt.data;\n",
       "            fig.updated_canvas_event();\n",
       "            fig.waiting = false;\n",
       "            return;\n",
       "        }\n",
       "\n",
       "        var msg = JSON.parse(evt.data);\n",
       "        var msg_type = msg['type'];\n",
       "\n",
       "        // Call the  \"handle_{type}\" callback, which takes\n",
       "        // the figure and JSON message as its only arguments.\n",
       "        try {\n",
       "            var callback = fig['handle_' + msg_type];\n",
       "        } catch (e) {\n",
       "            console.log(\n",
       "                \"No handler for the '\" + msg_type + \"' message type: \",\n",
       "                msg\n",
       "            );\n",
       "            return;\n",
       "        }\n",
       "\n",
       "        if (callback) {\n",
       "            try {\n",
       "                // console.log(\"Handling '\" + msg_type + \"' message: \", msg);\n",
       "                callback(fig, msg);\n",
       "            } catch (e) {\n",
       "                console.log(\n",
       "                    \"Exception inside the 'handler_\" + msg_type + \"' callback:\",\n",
       "                    e,\n",
       "                    e.stack,\n",
       "                    msg\n",
       "                );\n",
       "            }\n",
       "        }\n",
       "    };\n",
       "};\n",
       "\n",
       "// from http://stackoverflow.com/questions/1114465/getting-mouse-location-in-canvas\n",
       "mpl.findpos = function (e) {\n",
       "    //this section is from http://www.quirksmode.org/js/events_properties.html\n",
       "    var targ;\n",
       "    if (!e) {\n",
       "        e = window.event;\n",
       "    }\n",
       "    if (e.target) {\n",
       "        targ = e.target;\n",
       "    } else if (e.srcElement) {\n",
       "        targ = e.srcElement;\n",
       "    }\n",
       "    if (targ.nodeType === 3) {\n",
       "        // defeat Safari bug\n",
       "        targ = targ.parentNode;\n",
       "    }\n",
       "\n",
       "    // pageX,Y are the mouse positions relative to the document\n",
       "    var boundingRect = targ.getBoundingClientRect();\n",
       "    var x = e.pageX - (boundingRect.left + document.body.scrollLeft);\n",
       "    var y = e.pageY - (boundingRect.top + document.body.scrollTop);\n",
       "\n",
       "    return { x: x, y: y };\n",
       "};\n",
       "\n",
       "/*\n",
       " * return a copy of an object with only non-object keys\n",
       " * we need this to avoid circular references\n",
       " * http://stackoverflow.com/a/24161582/3208463\n",
       " */\n",
       "function simpleKeys(original) {\n",
       "    return Object.keys(original).reduce(function (obj, key) {\n",
       "        if (typeof original[key] !== 'object') {\n",
       "            obj[key] = original[key];\n",
       "        }\n",
       "        return obj;\n",
       "    }, {});\n",
       "}\n",
       "\n",
       "mpl.figure.prototype.mouse_event = function (event, name) {\n",
       "    var canvas_pos = mpl.findpos(event);\n",
       "\n",
       "    if (name === 'button_press') {\n",
       "        this.canvas.focus();\n",
       "        this.canvas_div.focus();\n",
       "    }\n",
       "\n",
       "    var x = canvas_pos.x * this.ratio;\n",
       "    var y = canvas_pos.y * this.ratio;\n",
       "\n",
       "    this.send_message(name, {\n",
       "        x: x,\n",
       "        y: y,\n",
       "        button: event.button,\n",
       "        step: event.step,\n",
       "        guiEvent: simpleKeys(event),\n",
       "    });\n",
       "\n",
       "    /* This prevents the web browser from automatically changing to\n",
       "     * the text insertion cursor when the button is pressed.  We want\n",
       "     * to control all of the cursor setting manually through the\n",
       "     * 'cursor' event from matplotlib */\n",
       "    event.preventDefault();\n",
       "    return false;\n",
       "};\n",
       "\n",
       "mpl.figure.prototype._key_event_extra = function (_event, _name) {\n",
       "    // Handle any extra behaviour associated with a key event\n",
       "};\n",
       "\n",
       "mpl.figure.prototype.key_event = function (event, name) {\n",
       "    // Prevent repeat events\n",
       "    if (name === 'key_press') {\n",
       "        if (event.which === this._key) {\n",
       "            return;\n",
       "        } else {\n",
       "            this._key = event.which;\n",
       "        }\n",
       "    }\n",
       "    if (name === 'key_release') {\n",
       "        this._key = null;\n",
       "    }\n",
       "\n",
       "    var value = '';\n",
       "    if (event.ctrlKey && event.which !== 17) {\n",
       "        value += 'ctrl+';\n",
       "    }\n",
       "    if (event.altKey && event.which !== 18) {\n",
       "        value += 'alt+';\n",
       "    }\n",
       "    if (event.shiftKey && event.which !== 16) {\n",
       "        value += 'shift+';\n",
       "    }\n",
       "\n",
       "    value += 'k';\n",
       "    value += event.which.toString();\n",
       "\n",
       "    this._key_event_extra(event, name);\n",
       "\n",
       "    this.send_message(name, { key: value, guiEvent: simpleKeys(event) });\n",
       "    return false;\n",
       "};\n",
       "\n",
       "mpl.figure.prototype.toolbar_button_onclick = function (name) {\n",
       "    if (name === 'download') {\n",
       "        this.handle_save(this, null);\n",
       "    } else {\n",
       "        this.send_message('toolbar_button', { name: name });\n",
       "    }\n",
       "};\n",
       "\n",
       "mpl.figure.prototype.toolbar_button_onmouseover = function (tooltip) {\n",
       "    this.message.textContent = tooltip;\n",
       "};\n",
       "mpl.toolbar_items = [[\"Home\", \"Reset original view\", \"fa fa-home icon-home\", \"home\"], [\"Back\", \"Back to previous view\", \"fa fa-arrow-left icon-arrow-left\", \"back\"], [\"Forward\", \"Forward to next view\", \"fa fa-arrow-right icon-arrow-right\", \"forward\"], [\"\", \"\", \"\", \"\"], [\"Pan\", \"Left button pans, Right button zooms\\nx/y fixes axis, CTRL fixes aspect\", \"fa fa-arrows icon-move\", \"pan\"], [\"Zoom\", \"Zoom to rectangle\\nx/y fixes axis, CTRL fixes aspect\", \"fa fa-square-o icon-check-empty\", \"zoom\"], [\"\", \"\", \"\", \"\"], [\"Download\", \"Download plot\", \"fa fa-floppy-o icon-save\", \"download\"]];\n",
       "\n",
       "mpl.extensions = [\"eps\", \"jpeg\", \"pdf\", \"png\", \"ps\", \"raw\", \"svg\", \"tif\"];\n",
       "\n",
       "mpl.default_extension = \"png\";/* global mpl */\n",
       "\n",
       "var comm_websocket_adapter = function (comm) {\n",
       "    // Create a \"websocket\"-like object which calls the given IPython comm\n",
       "    // object with the appropriate methods. Currently this is a non binary\n",
       "    // socket, so there is still some room for performance tuning.\n",
       "    var ws = {};\n",
       "\n",
       "    ws.close = function () {\n",
       "        comm.close();\n",
       "    };\n",
       "    ws.send = function (m) {\n",
       "        //console.log('sending', m);\n",
       "        comm.send(m);\n",
       "    };\n",
       "    // Register the callback with on_msg.\n",
       "    comm.on_msg(function (msg) {\n",
       "        //console.log('receiving', msg['content']['data'], msg);\n",
       "        // Pass the mpl event to the overridden (by mpl) onmessage function.\n",
       "        ws.onmessage(msg['content']['data']);\n",
       "    });\n",
       "    return ws;\n",
       "};\n",
       "\n",
       "mpl.mpl_figure_comm = function (comm, msg) {\n",
       "    // This is the function which gets called when the mpl process\n",
       "    // starts-up an IPython Comm through the \"matplotlib\" channel.\n",
       "\n",
       "    var id = msg.content.data.id;\n",
       "    // Get hold of the div created by the display call when the Comm\n",
       "    // socket was opened in Python.\n",
       "    var element = document.getElementById(id);\n",
       "    var ws_proxy = comm_websocket_adapter(comm);\n",
       "\n",
       "    function ondownload(figure, _format) {\n",
       "        window.open(figure.canvas.toDataURL());\n",
       "    }\n",
       "\n",
       "    var fig = new mpl.figure(id, ws_proxy, ondownload, element);\n",
       "\n",
       "    // Call onopen now - mpl needs it, as it is assuming we've passed it a real\n",
       "    // web socket which is closed, not our websocket->open comm proxy.\n",
       "    ws_proxy.onopen();\n",
       "\n",
       "    fig.parent_element = element;\n",
       "    fig.cell_info = mpl.find_output_cell(\"<div id='\" + id + \"'></div>\");\n",
       "    if (!fig.cell_info) {\n",
       "        console.error('Failed to find cell for figure', id, fig);\n",
       "        return;\n",
       "    }\n",
       "    fig.cell_info[0].output_area.element.one(\n",
       "        'cleared',\n",
       "        { fig: fig },\n",
       "        fig._remove_fig_handler\n",
       "    );\n",
       "};\n",
       "\n",
       "mpl.figure.prototype.handle_close = function (fig, msg) {\n",
       "    var width = fig.canvas.width / fig.ratio;\n",
       "    fig.cell_info[0].output_area.element.off(\n",
       "        'cleared',\n",
       "        fig._remove_fig_handler\n",
       "    );\n",
       "\n",
       "    // Update the output cell to use the data from the current canvas.\n",
       "    fig.push_to_output();\n",
       "    var dataURL = fig.canvas.toDataURL();\n",
       "    // Re-enable the keyboard manager in IPython - without this line, in FF,\n",
       "    // the notebook keyboard shortcuts fail.\n",
       "    IPython.keyboard_manager.enable();\n",
       "    fig.parent_element.innerHTML =\n",
       "        '<img src=\"' + dataURL + '\" width=\"' + width + '\">';\n",
       "    fig.close_ws(fig, msg);\n",
       "};\n",
       "\n",
       "mpl.figure.prototype.close_ws = function (fig, msg) {\n",
       "    fig.send_message('closing', msg);\n",
       "    // fig.ws.close()\n",
       "};\n",
       "\n",
       "mpl.figure.prototype.push_to_output = function (_remove_interactive) {\n",
       "    // Turn the data on the canvas into data in the output cell.\n",
       "    var width = this.canvas.width / this.ratio;\n",
       "    var dataURL = this.canvas.toDataURL();\n",
       "    this.cell_info[1]['text/html'] =\n",
       "        '<img src=\"' + dataURL + '\" width=\"' + width + '\">';\n",
       "};\n",
       "\n",
       "mpl.figure.prototype.updated_canvas_event = function () {\n",
       "    // Tell IPython that the notebook contents must change.\n",
       "    IPython.notebook.set_dirty(true);\n",
       "    this.send_message('ack', {});\n",
       "    var fig = this;\n",
       "    // Wait a second, then push the new image to the DOM so\n",
       "    // that it is saved nicely (might be nice to debounce this).\n",
       "    setTimeout(function () {\n",
       "        fig.push_to_output();\n",
       "    }, 1000);\n",
       "};\n",
       "\n",
       "mpl.figure.prototype._init_toolbar = function () {\n",
       "    var fig = this;\n",
       "\n",
       "    var toolbar = document.createElement('div');\n",
       "    toolbar.classList = 'btn-toolbar';\n",
       "    this.root.appendChild(toolbar);\n",
       "\n",
       "    function on_click_closure(name) {\n",
       "        return function (_event) {\n",
       "            return fig.toolbar_button_onclick(name);\n",
       "        };\n",
       "    }\n",
       "\n",
       "    function on_mouseover_closure(tooltip) {\n",
       "        return function (event) {\n",
       "            if (!event.currentTarget.disabled) {\n",
       "                return fig.toolbar_button_onmouseover(tooltip);\n",
       "            }\n",
       "        };\n",
       "    }\n",
       "\n",
       "    fig.buttons = {};\n",
       "    var buttonGroup = document.createElement('div');\n",
       "    buttonGroup.classList = 'btn-group';\n",
       "    var button;\n",
       "    for (var toolbar_ind in mpl.toolbar_items) {\n",
       "        var name = mpl.toolbar_items[toolbar_ind][0];\n",
       "        var tooltip = mpl.toolbar_items[toolbar_ind][1];\n",
       "        var image = mpl.toolbar_items[toolbar_ind][2];\n",
       "        var method_name = mpl.toolbar_items[toolbar_ind][3];\n",
       "\n",
       "        if (!name) {\n",
       "            /* Instead of a spacer, we start a new button group. */\n",
       "            if (buttonGroup.hasChildNodes()) {\n",
       "                toolbar.appendChild(buttonGroup);\n",
       "            }\n",
       "            buttonGroup = document.createElement('div');\n",
       "            buttonGroup.classList = 'btn-group';\n",
       "            continue;\n",
       "        }\n",
       "\n",
       "        button = fig.buttons[name] = document.createElement('button');\n",
       "        button.classList = 'btn btn-default';\n",
       "        button.href = '#';\n",
       "        button.title = name;\n",
       "        button.innerHTML = '<i class=\"fa ' + image + ' fa-lg\"></i>';\n",
       "        button.addEventListener('click', on_click_closure(method_name));\n",
       "        button.addEventListener('mouseover', on_mouseover_closure(tooltip));\n",
       "        buttonGroup.appendChild(button);\n",
       "    }\n",
       "\n",
       "    if (buttonGroup.hasChildNodes()) {\n",
       "        toolbar.appendChild(buttonGroup);\n",
       "    }\n",
       "\n",
       "    // Add the status bar.\n",
       "    var status_bar = document.createElement('span');\n",
       "    status_bar.classList = 'mpl-message pull-right';\n",
       "    toolbar.appendChild(status_bar);\n",
       "    this.message = status_bar;\n",
       "\n",
       "    // Add the close button to the window.\n",
       "    var buttongrp = document.createElement('div');\n",
       "    buttongrp.classList = 'btn-group inline pull-right';\n",
       "    button = document.createElement('button');\n",
       "    button.classList = 'btn btn-mini btn-primary';\n",
       "    button.href = '#';\n",
       "    button.title = 'Stop Interaction';\n",
       "    button.innerHTML = '<i class=\"fa fa-power-off icon-remove icon-large\"></i>';\n",
       "    button.addEventListener('click', function (_evt) {\n",
       "        fig.handle_close(fig, {});\n",
       "    });\n",
       "    button.addEventListener(\n",
       "        'mouseover',\n",
       "        on_mouseover_closure('Stop Interaction')\n",
       "    );\n",
       "    buttongrp.appendChild(button);\n",
       "    var titlebar = this.root.querySelector('.ui-dialog-titlebar');\n",
       "    titlebar.insertBefore(buttongrp, titlebar.firstChild);\n",
       "};\n",
       "\n",
       "mpl.figure.prototype._remove_fig_handler = function (event) {\n",
       "    var fig = event.data.fig;\n",
       "    fig.close_ws(fig, {});\n",
       "};\n",
       "\n",
       "mpl.figure.prototype._root_extra_style = function (el) {\n",
       "    el.style.boxSizing = 'content-box'; // override notebook setting of border-box.\n",
       "};\n",
       "\n",
       "mpl.figure.prototype._canvas_extra_style = function (el) {\n",
       "    // this is important to make the div 'focusable\n",
       "    el.setAttribute('tabindex', 0);\n",
       "    // reach out to IPython and tell the keyboard manager to turn it's self\n",
       "    // off when our div gets focus\n",
       "\n",
       "    // location in version 3\n",
       "    if (IPython.notebook.keyboard_manager) {\n",
       "        IPython.notebook.keyboard_manager.register_events(el);\n",
       "    } else {\n",
       "        // location in version 2\n",
       "        IPython.keyboard_manager.register_events(el);\n",
       "    }\n",
       "};\n",
       "\n",
       "mpl.figure.prototype._key_event_extra = function (event, _name) {\n",
       "    var manager = IPython.notebook.keyboard_manager;\n",
       "    if (!manager) {\n",
       "        manager = IPython.keyboard_manager;\n",
       "    }\n",
       "\n",
       "    // Check for shift+enter\n",
       "    if (event.shiftKey && event.which === 13) {\n",
       "        this.canvas_div.blur();\n",
       "        // select the cell after this one\n",
       "        var index = IPython.notebook.find_cell_index(this.cell_info[0]);\n",
       "        IPython.notebook.select(index + 1);\n",
       "    }\n",
       "};\n",
       "\n",
       "mpl.figure.prototype.handle_save = function (fig, _msg) {\n",
       "    fig.ondownload(fig, null);\n",
       "};\n",
       "\n",
       "mpl.find_output_cell = function (html_output) {\n",
       "    // Return the cell and output element which can be found *uniquely* in the notebook.\n",
       "    // Note - this is a bit hacky, but it is done because the \"notebook_saving.Notebook\"\n",
       "    // IPython event is triggered only after the cells have been serialised, which for\n",
       "    // our purposes (turning an active figure into a static one), is too late.\n",
       "    var cells = IPython.notebook.get_cells();\n",
       "    var ncells = cells.length;\n",
       "    for (var i = 0; i < ncells; i++) {\n",
       "        var cell = cells[i];\n",
       "        if (cell.cell_type === 'code') {\n",
       "            for (var j = 0; j < cell.output_area.outputs.length; j++) {\n",
       "                var data = cell.output_area.outputs[j];\n",
       "                if (data.data) {\n",
       "                    // IPython >= 3 moved mimebundle to data attribute of output\n",
       "                    data = data.data;\n",
       "                }\n",
       "                if (data['text/html'] === html_output) {\n",
       "                    return [cell, data, j];\n",
       "                }\n",
       "            }\n",
       "        }\n",
       "    }\n",
       "};\n",
       "\n",
       "// Register the function which deals with the matplotlib target/channel.\n",
       "// The kernel may be null if the page has been refreshed.\n",
       "if (IPython.notebook.kernel !== null) {\n",
       "    IPython.notebook.kernel.comm_manager.register_target(\n",
       "        'matplotlib',\n",
       "        mpl.mpl_figure_comm\n",
       "    );\n",
       "}\n"
      ],
      "text/plain": [
       "<IPython.core.display.Javascript object>"
      ]
     },
     "metadata": {},
     "output_type": "display_data"
    },
    {
     "data": {
      "text/html": [
       "<img src=\"data:image/png;base64,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\" width=\"1000\">"
      ],
      "text/plain": [
       "<IPython.core.display.HTML object>"
      ]
     },
     "metadata": {},
     "output_type": "display_data"
    }
   ],
   "source": [
    "fig"
   ]
  },
  {
   "cell_type": "code",
   "execution_count": null,
   "metadata": {},
   "outputs": [],
   "source": []
  }
 ],
 "metadata": {
  "kernelspec": {
   "display_name": "Python 3",
   "language": "python",
   "name": "python3"
  },
  "language_info": {
   "codemirror_mode": {
    "name": "ipython",
    "version": 3
   },
   "file_extension": ".py",
   "mimetype": "text/x-python",
   "name": "python",
   "nbconvert_exporter": "python",
   "pygments_lexer": "ipython3",
   "version": "3.8.5"
  }
 },
 "nbformat": 4,
 "nbformat_minor": 4
}
