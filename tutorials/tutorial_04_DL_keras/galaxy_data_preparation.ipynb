{
 "cells": [
  {
   "cell_type": "code",
   "execution_count": null,
   "metadata": {},
   "outputs": [],
   "source": [
    "import os\n",
    "import h5py\n",
    "import numpy as np\n",
    "from tensorflow.keras import utils\n",
    "import pylab as plt\n",
    "from sklearn.model_selection import train_test_split, StratifiedShuffleSplit\n",
    "from PIL import Image"
   ]
  },
  {
   "cell_type": "markdown",
   "metadata": {},
   "source": [
    "Load the images and labels from dataset file"
   ]
  },
  {
   "cell_type": "code",
   "execution_count": null,
   "metadata": {},
   "outputs": [],
   "source": [
    "with h5py.File('Galaxy10.h5', 'r') as F:\n",
    "    images = np.array(F['images'])\n",
    "    labels = np.array(F['ans'])"
   ]
  },
  {
   "cell_type": "code",
   "execution_count": null,
   "metadata": {},
   "outputs": [],
   "source": [
    "print('Data loaded successfully')"
   ]
  },
  {
   "cell_type": "markdown",
   "metadata": {},
   "source": [
    "Galaxy10 dataset (21785 images)<br>\n",
    "├── Class 0: Disk, Face-on, No Spiral<br>\n",
    "├── Class 1: Smooth, Completely round<br>\n",
    "├── Class 2: Smooth, in-between round<br>\n",
    "├── Class 3: Smooth, Cigar shaped<br>\n",
    "├── Class 4: Disk, Edge-on, Rounded Bulge<br>\n",
    "├── Class 5: Disk, Edge-on, Boxy Bulge<br>\n",
    "├── Class 6: Disk, Edge-on, No Bulge<br>\n",
    "├── Class 7: Disk, Face-on, Tight Spiral<br>\n",
    "├── Class 8: Disk, Face-on, Medium Spiral<br>\n",
    "└── Class 9: Disk, Face-on, Loose Spiral"
   ]
  },
  {
   "cell_type": "code",
   "execution_count": null,
   "metadata": {},
   "outputs": [],
   "source": [
    "class_names = ['Disk-Face_on-No_Spiral', 'Smooth-Completely-round', 'Smooth-in_between-round', \n",
    "               'Smooth-Cigar_shaped', 'Disk-Edge_on-Rounded_Bulge', 'Disk-Edge_on-Boxy_Bulge', \n",
    "               'Disk-Edge_on-No_Bulge', 'Disk-Face_on-Tight_Spiral', 'Disk-Face_on-Medium_Spiral', \n",
    "               'Disk-Face_on-Loose_Spiral']"
   ]
  },
  {
   "cell_type": "markdown",
   "metadata": {},
   "source": [
    "Select 10 of the images to inspect"
   ]
  },
  {
   "cell_type": "code",
   "execution_count": null,
   "metadata": {},
   "outputs": [],
   "source": [
    "img = None\n",
    "plt.ion()"
   ]
  },
  {
   "cell_type": "markdown",
   "metadata": {},
   "source": [
    "Random number in dataset index range"
   ]
  },
  {
   "cell_type": "code",
   "execution_count": null,
   "metadata": {},
   "outputs": [],
   "source": [
    "samples = np.random.randint(0, labels.shape[0], size=10)\n",
    "print('Images to display:', samples)\n",
    "for i in samples:\n",
    "    img = plt.imshow(images[i])\n",
    "    plt.title('Image {}: Class {}'.format(i, labels[i]))\n",
    "    plt.draw()\n",
    "    plt.pause(2.)\n",
    "plt.close('all')"
   ]
  },
  {
   "cell_type": "markdown",
   "metadata": {},
   "source": [
    "To convert the labels to categorical 10 classes"
   ]
  },
  {
   "cell_type": "code",
   "execution_count": null,
   "metadata": {},
   "outputs": [],
   "source": [
    "labels_cat = utils.to_categorical(labels, 10)"
   ]
  },
  {
   "cell_type": "code",
   "execution_count": null,
   "metadata": {},
   "outputs": [],
   "source": [
    "print('Categorical label:', labels_cat[0])\n",
    "print('Shape of data structure labels {} and images {}'.format(labels_cat.shape, images.shape))"
   ]
  },
  {
   "cell_type": "markdown",
   "metadata": {},
   "source": [
    "Slight data exploration"
   ]
  },
  {
   "cell_type": "code",
   "execution_count": null,
   "metadata": {},
   "outputs": [],
   "source": [
    "print('Dataset:', np.sum(labels_cat, axis=0))"
   ]
  },
  {
   "cell_type": "markdown",
   "metadata": {},
   "source": [
    "Split the dataset into training and testing set (RANDOMLY)"
   ]
  },
  {
   "cell_type": "code",
   "execution_count": null,
   "metadata": {},
   "outputs": [],
   "source": [
    "train_idx, test_idx = train_test_split(np.arange(labels_cat.shape[0]), test_size=0.2)\n",
    "train_labels = labels_cat[train_idx]\n",
    "test_labels = labels_cat[test_idx]\n",
    "print('Train:', np.sum(train_labels, axis=0))\n",
    "print('Test:', np.sum(test_labels, axis=0))"
   ]
  },
  {
   "cell_type": "markdown",
   "metadata": {},
   "source": [
    "Partitions keeping classes ratio - Stratified partitions"
   ]
  },
  {
   "cell_type": "code",
   "execution_count": null,
   "metadata": {},
   "outputs": [],
   "source": [
    "sss = StratifiedShuffleSplit(n_splits=1, test_size=0.2)"
   ]
  },
  {
   "cell_type": "code",
   "execution_count": null,
   "metadata": {},
   "outputs": [],
   "source": [
    "for train_idx, test_idx in sss.split(labels, labels):\n",
    "    train_labels = labels_cat[train_idx]\n",
    "    test_labels = labels_cat[test_idx]\n",
    "    print(\"TRAIN:\", train_idx, \"number of objects:\", train_idx.shape)\n",
    "    print(np.sum(train_labels, axis=0))\n",
    "    print(\"TEST:\", test_idx, \"number of objects:\", test_idx.shape)\n",
    "    print(np.sum(test_labels, axis=0))"
   ]
  },
  {
   "cell_type": "code",
   "execution_count": null,
   "metadata": {},
   "outputs": [],
   "source": [
    "train_labels = labels[train_idx]\n",
    "test_labels = labels[test_idx]\n",
    "train_images = images[train_idx]\n",
    "test_images = images[test_idx]"
   ]
  },
  {
   "cell_type": "code",
   "execution_count": null,
   "metadata": {},
   "outputs": [],
   "source": [
    "main = os.getcwd()\n",
    "# Create directory tree and save images\n",
    "dataset_dirname = 'Galaxy10'"
   ]
  },
  {
   "cell_type": "code",
   "execution_count": null,
   "metadata": {},
   "outputs": [],
   "source": [
    "try:\n",
    "    os.mkdir(dataset_dirname)\n",
    "except OSError:\n",
    "    print('OSError: Creating or already exists the directory')"
   ]
  },
  {
   "cell_type": "markdown",
   "metadata": {},
   "source": [
    "Main dataset folder"
   ]
  },
  {
   "cell_type": "code",
   "execution_count": null,
   "metadata": {},
   "outputs": [],
   "source": [
    "os.chdir(dataset_dirname)"
   ]
  },
  {
   "cell_type": "markdown",
   "metadata": {},
   "source": [
    "Train partition"
   ]
  },
  {
   "cell_type": "code",
   "execution_count": null,
   "metadata": {},
   "outputs": [],
   "source": [
    "os.mkdir('train')\n",
    "os.chdir('train')\n",
    "for cls in class_names:   # for each class 'cls'\n",
    "    os.mkdir(cls)\n",
    "    # train/<class> folder save images\n",
    "    cls_int = class_names.index(cls)\n",
    "    print('Train - Class: ', cls)\n",
    "    for i in range(len(train_labels)):   # traverse all train lavels\n",
    "        if train_labels[i] == cls_int:   # save instance 'i' belong to class 'cls'\n",
    "            img_path = os.path.join(os.getcwd(), cls)\n",
    "            #print('Save image {} in {}'.format(i, img_path))\n",
    "            img = Image.fromarray(train_images[i])\n",
    "            img.save(os.path.join(img_path, 'galaxy10_img{}.jpg'.format(i)))"
   ]
  },
  {
   "cell_type": "markdown",
   "metadata": {},
   "source": [
    "Validation partition"
   ]
  },
  {
   "cell_type": "code",
   "execution_count": null,
   "metadata": {},
   "outputs": [],
   "source": [
    "os.chdir(os.path.join(main, dataset_dirname))\n",
    "os.mkdir('val')\n",
    "os.chdir('val')\n",
    "for cls in class_names:\n",
    "    os.mkdir(cls)\n",
    "    # val/<class> folder save images\n",
    "    cls_int = class_names.index(cls)\n",
    "    print('Validation - Class: ', cls)\n",
    "    for i in range(len(test_labels)):   # traverse all train lavels\n",
    "        if test_labels[i] == cls_int:   # save instance 'i' belong to class 'cls'\n",
    "            img_path = os.path.join(os.getcwd(), cls)\n",
    "            #print('Save image {} in {}'.format(i, img_path))\n",
    "            img = Image.fromarray(test_images[i])\n",
    "            img.save(os.path.join(img_path, 'galaxy10_img{}.jpg'.format(i)))"
   ]
  },
  {
   "cell_type": "code",
   "execution_count": null,
   "metadata": {},
   "outputs": [],
   "source": [
    "os.chdir(main)"
   ]
  }
 ],
 "metadata": {
  "kernelspec": {
   "display_name": "Python 3",
   "language": "python",
   "name": "python3"
  },
  "language_info": {
   "codemirror_mode": {
    "name": "ipython",
    "version": 3
   },
   "file_extension": ".py",
   "mimetype": "text/x-python",
   "name": "python",
   "nbconvert_exporter": "python",
   "pygments_lexer": "ipython3",
   "version": "3.7.8"
  }
 },
 "nbformat": 4,
 "nbformat_minor": 4
}
